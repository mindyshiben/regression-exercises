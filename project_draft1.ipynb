{
 "cells": [
  {
   "cell_type": "code",
   "execution_count": 3,
   "id": "bdb9ba59",
   "metadata": {},
   "outputs": [],
   "source": [
    "import warnings\n",
    "warnings.filterwarnings(\"ignore\")\n",
    "\n",
    "import pandas as pd\n",
    "import matplotlib.pyplot as plt\n",
    "import seaborn as sns\n",
    "import numpy as np\n",
    "import env\n",
    "import acquire\n",
    "import wrangle"
   ]
  },
  {
   "cell_type": "code",
   "execution_count": 4,
   "id": "43855b92",
   "metadata": {},
   "outputs": [],
   "source": [
    "df = acquire.get_zillow_data()"
   ]
  },
  {
   "cell_type": "markdown",
   "id": "c1f98385",
   "metadata": {},
   "source": [
    "Through domain research and choosing features that have enough data (low null values, less than 20%), I've determined these columns to be the most practical to utilize in the data science pipeline for the purpose of predicting tax assessed home values through regression modeling. "
   ]
  },
  {
   "cell_type": "code",
   "execution_count": 5,
   "id": "ef2d1bab",
   "metadata": {},
   "outputs": [
    {
     "name": "stdout",
     "output_type": "stream",
     "text": [
      "<class 'pandas.core.frame.DataFrame'>\n",
      "RangeIndex: 52441 entries, 0 to 52440\n",
      "Data columns (total 14 columns):\n",
      " #   Column                        Non-Null Count  Dtype  \n",
      "---  ------                        --------------  -----  \n",
      " 0   Unnamed: 0                    52441 non-null  int64  \n",
      " 1   parcelid                      52441 non-null  int64  \n",
      " 2   bedroomcnt                    52441 non-null  float64\n",
      " 3   bathroomcnt                   52441 non-null  float64\n",
      " 4   calculatedfinishedsquarefeet  52359 non-null  float64\n",
      " 5   taxvaluedollarcnt             52440 non-null  float64\n",
      " 6   yearbuilt                     52325 non-null  float64\n",
      " 7   taxamount                     52437 non-null  float64\n",
      " 8   fips                          52441 non-null  float64\n",
      " 9   assessmentyear                52441 non-null  float64\n",
      " 10  landtaxvaluedollarcnt         52440 non-null  float64\n",
      " 11  lotsizesquarefeet             52072 non-null  float64\n",
      " 12  latitude                      52441 non-null  float64\n",
      " 13  longitude                     52441 non-null  float64\n",
      "dtypes: float64(12), int64(2)\n",
      "memory usage: 5.6 MB\n"
     ]
    }
   ],
   "source": [
    "df.info()"
   ]
  },
  {
   "cell_type": "code",
   "execution_count": 6,
   "id": "94bcb684",
   "metadata": {},
   "outputs": [
    {
     "data": {
      "text/plain": [
       "Unnamed: 0                        0\n",
       "parcelid                          0\n",
       "bedroomcnt                        0\n",
       "bathroomcnt                       0\n",
       "calculatedfinishedsquarefeet     82\n",
       "taxvaluedollarcnt                 1\n",
       "yearbuilt                       116\n",
       "taxamount                         4\n",
       "fips                              0\n",
       "assessmentyear                    0\n",
       "landtaxvaluedollarcnt             1\n",
       "lotsizesquarefeet               369\n",
       "latitude                          0\n",
       "longitude                         0\n",
       "dtype: int64"
      ]
     },
     "execution_count": 6,
     "metadata": {},
     "output_type": "execute_result"
    }
   ],
   "source": [
    "df.isna().sum()"
   ]
  },
  {
   "cell_type": "markdown",
   "id": "e7a96b82",
   "metadata": {},
   "source": [
    "To not lose too much data, I'm looking at columns with many null values and how many null values they share with other columns"
   ]
  },
  {
   "cell_type": "code",
   "execution_count": 7,
   "id": "5a34f1ad",
   "metadata": {},
   "outputs": [
    {
     "data": {
      "text/plain": [
       "80"
      ]
     },
     "execution_count": 7,
     "metadata": {},
     "output_type": "execute_result"
    }
   ],
   "source": [
    "df['calculatedfinishedsquarefeet'].isna().sum() & df['lotsizesquarefeet'].isna().sum() & df['yearbuilt'].isna().sum()"
   ]
  },
  {
   "cell_type": "markdown",
   "id": "6f4c81bc",
   "metadata": {},
   "source": [
    "square feet, lot size, and year built share a lot of null rows. This is good news when considering dropping columns with null values."
   ]
  },
  {
   "cell_type": "code",
   "execution_count": 8,
   "id": "092f2560",
   "metadata": {},
   "outputs": [
    {
     "data": {
      "text/plain": [
       "(0, 0)"
      ]
     },
     "execution_count": 8,
     "metadata": {},
     "output_type": "execute_result"
    }
   ],
   "source": [
    "df['lotsizesquarefeet'].isna().sum() & df['taxamount'].isna().sum(), df['calculatedfinishedsquarefeet'].isna().sum() & df['taxamount'].isna().sum()"
   ]
  },
  {
   "cell_type": "markdown",
   "id": "ce5d16dc",
   "metadata": {},
   "source": [
    "most of tax amount nulls are also square feet nulls so again, feel better about dropping these records"
   ]
  },
  {
   "cell_type": "code",
   "execution_count": 9,
   "id": "96fd9a42",
   "metadata": {},
   "outputs": [
    {
     "data": {
      "text/plain": [
       "Unnamed: 0                      0.000\n",
       "parcelid                        0.000\n",
       "bedroomcnt                      0.000\n",
       "bathroomcnt                     0.000\n",
       "calculatedfinishedsquarefeet    0.002\n",
       "taxvaluedollarcnt               0.000\n",
       "yearbuilt                       0.002\n",
       "taxamount                       0.000\n",
       "fips                            0.000\n",
       "assessmentyear                  0.000\n",
       "landtaxvaluedollarcnt           0.000\n",
       "lotsizesquarefeet               0.007\n",
       "latitude                        0.000\n",
       "longitude                       0.000\n",
       "dtype: float64"
      ]
     },
     "execution_count": 9,
     "metadata": {},
     "output_type": "execute_result"
    }
   ],
   "source": [
    "(df.isnull().sum() / len(df)).round(3) \n",
    "#this shows the percentage of null values per column rounded to the 3rd decimal place"
   ]
  },
  {
   "cell_type": "code",
   "execution_count": 11,
   "id": "6cd0195b",
   "metadata": {},
   "outputs": [
    {
     "data": {
      "text/plain": [
       "2016.0    52441\n",
       "Name: assessmentyear, dtype: int64"
      ]
     },
     "execution_count": 11,
     "metadata": {},
     "output_type": "execute_result"
    }
   ],
   "source": [
    "df.assessmentyear.value_counts()"
   ]
  },
  {
   "cell_type": "markdown",
   "id": "f0ca9b72",
   "metadata": {},
   "source": [
    "we can see that all columns have less than 1% null (missing) values. This is favorable to dropping nulls"
   ]
  },
  {
   "cell_type": "code",
   "execution_count": 8,
   "id": "44c0d86f",
   "metadata": {},
   "outputs": [
    {
     "data": {
      "text/plain": [
       "0.01705589254866659"
      ]
     },
     "execution_count": 8,
     "metadata": {},
     "output_type": "execute_result"
    }
   ],
   "source": [
    "df.isna().mean().sum()\n",
    "#shows the percentage of missing values in the entire dataframe. "
   ]
  },
  {
   "cell_type": "markdown",
   "id": "39a7d9a5",
   "metadata": {},
   "source": [
    "If all nulls are dropped, we will lose 1.7% of the data. With this low percentage and seeing how most records with nulls have nulls across other columns, I determine dropping records with nulls is the most appropriate solution"
   ]
  },
  {
   "cell_type": "code",
   "execution_count": 12,
   "id": "b8fae2db",
   "metadata": {},
   "outputs": [],
   "source": [
    "df = wrangle.wrangle_zillow(df)"
   ]
  },
  {
   "cell_type": "code",
   "execution_count": 10,
   "id": "f0bd46e1",
   "metadata": {},
   "outputs": [
    {
     "data": {
      "text/html": [
       "<div>\n",
       "<style scoped>\n",
       "    .dataframe tbody tr th:only-of-type {\n",
       "        vertical-align: middle;\n",
       "    }\n",
       "\n",
       "    .dataframe tbody tr th {\n",
       "        vertical-align: top;\n",
       "    }\n",
       "\n",
       "    .dataframe thead th {\n",
       "        text-align: right;\n",
       "    }\n",
       "</style>\n",
       "<table border=\"1\" class=\"dataframe\">\n",
       "  <thead>\n",
       "    <tr style=\"text-align: right;\">\n",
       "      <th></th>\n",
       "      <th>Unnamed: 0</th>\n",
       "      <th>parcelid</th>\n",
       "      <th>bedrooms</th>\n",
       "      <th>bathrooms</th>\n",
       "      <th>home_size</th>\n",
       "      <th>value</th>\n",
       "      <th>year</th>\n",
       "      <th>tax</th>\n",
       "      <th>fips</th>\n",
       "      <th>land_value</th>\n",
       "      <th>lot_size</th>\n",
       "      <th>latitude</th>\n",
       "      <th>longitude</th>\n",
       "      <th>county</th>\n",
       "    </tr>\n",
       "  </thead>\n",
       "  <tbody>\n",
       "    <tr>\n",
       "      <th>4</th>\n",
       "      <td>4</td>\n",
       "      <td>11324547</td>\n",
       "      <td>4.0</td>\n",
       "      <td>2.0</td>\n",
       "      <td>3633</td>\n",
       "      <td>296425</td>\n",
       "      <td>2005</td>\n",
       "      <td>6941.39</td>\n",
       "      <td>6037</td>\n",
       "      <td>74104</td>\n",
       "      <td>9826</td>\n",
       "      <td>34560018.0</td>\n",
       "      <td>-118169806.0</td>\n",
       "      <td>los_angeles</td>\n",
       "    </tr>\n",
       "    <tr>\n",
       "      <th>7</th>\n",
       "      <td>7</td>\n",
       "      <td>11585547</td>\n",
       "      <td>3.0</td>\n",
       "      <td>2.0</td>\n",
       "      <td>2077</td>\n",
       "      <td>646760</td>\n",
       "      <td>1926</td>\n",
       "      <td>7924.68</td>\n",
       "      <td>6037</td>\n",
       "      <td>436568</td>\n",
       "      <td>6490</td>\n",
       "      <td>34012977.0</td>\n",
       "      <td>-118479243.0</td>\n",
       "      <td>los_angeles</td>\n",
       "    </tr>\n",
       "    <tr>\n",
       "      <th>18</th>\n",
       "      <td>18</td>\n",
       "      <td>12716947</td>\n",
       "      <td>3.0</td>\n",
       "      <td>1.0</td>\n",
       "      <td>1244</td>\n",
       "      <td>169471</td>\n",
       "      <td>1950</td>\n",
       "      <td>2532.88</td>\n",
       "      <td>6037</td>\n",
       "      <td>61431</td>\n",
       "      <td>6021</td>\n",
       "      <td>33953559.0</td>\n",
       "      <td>-118083855.0</td>\n",
       "      <td>los_angeles</td>\n",
       "    </tr>\n",
       "    <tr>\n",
       "      <th>19</th>\n",
       "      <td>19</td>\n",
       "      <td>12757147</td>\n",
       "      <td>3.0</td>\n",
       "      <td>2.0</td>\n",
       "      <td>1300</td>\n",
       "      <td>233266</td>\n",
       "      <td>1950</td>\n",
       "      <td>3110.99</td>\n",
       "      <td>6037</td>\n",
       "      <td>155851</td>\n",
       "      <td>4917</td>\n",
       "      <td>33897134.0</td>\n",
       "      <td>-118102953.0</td>\n",
       "      <td>los_angeles</td>\n",
       "    </tr>\n",
       "    <tr>\n",
       "      <th>20</th>\n",
       "      <td>20</td>\n",
       "      <td>12757947</td>\n",
       "      <td>3.0</td>\n",
       "      <td>2.0</td>\n",
       "      <td>1222</td>\n",
       "      <td>290492</td>\n",
       "      <td>1951</td>\n",
       "      <td>3870.25</td>\n",
       "      <td>6037</td>\n",
       "      <td>172653</td>\n",
       "      <td>5500</td>\n",
       "      <td>33889894.0</td>\n",
       "      <td>-118100732.0</td>\n",
       "      <td>los_angeles</td>\n",
       "    </tr>\n",
       "    <tr>\n",
       "      <th>...</th>\n",
       "      <td>...</td>\n",
       "      <td>...</td>\n",
       "      <td>...</td>\n",
       "      <td>...</td>\n",
       "      <td>...</td>\n",
       "      <td>...</td>\n",
       "      <td>...</td>\n",
       "      <td>...</td>\n",
       "      <td>...</td>\n",
       "      <td>...</td>\n",
       "      <td>...</td>\n",
       "      <td>...</td>\n",
       "      <td>...</td>\n",
       "      <td>...</td>\n",
       "    </tr>\n",
       "    <tr>\n",
       "      <th>2152853</th>\n",
       "      <td>2152853</td>\n",
       "      <td>13917885</td>\n",
       "      <td>4.0</td>\n",
       "      <td>2.0</td>\n",
       "      <td>1987</td>\n",
       "      <td>259913</td>\n",
       "      <td>1955</td>\n",
       "      <td>3175.66</td>\n",
       "      <td>6059</td>\n",
       "      <td>169147</td>\n",
       "      <td>6100</td>\n",
       "      <td>33851932.0</td>\n",
       "      <td>-117934693.0</td>\n",
       "      <td>orange</td>\n",
       "    </tr>\n",
       "    <tr>\n",
       "      <th>2152855</th>\n",
       "      <td>2152855</td>\n",
       "      <td>14762130</td>\n",
       "      <td>3.0</td>\n",
       "      <td>2.5</td>\n",
       "      <td>1809</td>\n",
       "      <td>405547</td>\n",
       "      <td>2012</td>\n",
       "      <td>4181.10</td>\n",
       "      <td>6059</td>\n",
       "      <td>148031</td>\n",
       "      <td>4884</td>\n",
       "      <td>33634876.0</td>\n",
       "      <td>-117833446.0</td>\n",
       "      <td>orange</td>\n",
       "    </tr>\n",
       "    <tr>\n",
       "      <th>2152858</th>\n",
       "      <td>2152858</td>\n",
       "      <td>14356230</td>\n",
       "      <td>4.0</td>\n",
       "      <td>3.0</td>\n",
       "      <td>2262</td>\n",
       "      <td>960756</td>\n",
       "      <td>2015</td>\n",
       "      <td>13494.52</td>\n",
       "      <td>6059</td>\n",
       "      <td>564569</td>\n",
       "      <td>3220</td>\n",
       "      <td>33687201.0</td>\n",
       "      <td>-117759785.0</td>\n",
       "      <td>orange</td>\n",
       "    </tr>\n",
       "    <tr>\n",
       "      <th>2152859</th>\n",
       "      <td>2152859</td>\n",
       "      <td>14157725</td>\n",
       "      <td>4.0</td>\n",
       "      <td>4.5</td>\n",
       "      <td>3127</td>\n",
       "      <td>536061</td>\n",
       "      <td>2014</td>\n",
       "      <td>6244.16</td>\n",
       "      <td>6059</td>\n",
       "      <td>147419</td>\n",
       "      <td>8930</td>\n",
       "      <td>33929748.0</td>\n",
       "      <td>-117801513.0</td>\n",
       "      <td>orange</td>\n",
       "    </tr>\n",
       "    <tr>\n",
       "      <th>2152861</th>\n",
       "      <td>2152861</td>\n",
       "      <td>14367624</td>\n",
       "      <td>3.0</td>\n",
       "      <td>2.5</td>\n",
       "      <td>1974</td>\n",
       "      <td>424353</td>\n",
       "      <td>2015</td>\n",
       "      <td>5302.70</td>\n",
       "      <td>6059</td>\n",
       "      <td>129441</td>\n",
       "      <td>3376</td>\n",
       "      <td>33645700.0</td>\n",
       "      <td>-117598692.0</td>\n",
       "      <td>orange</td>\n",
       "    </tr>\n",
       "  </tbody>\n",
       "</table>\n",
       "<p>2118089 rows × 14 columns</p>\n",
       "</div>"
      ],
      "text/plain": [
       "         Unnamed: 0  parcelid  bedrooms  bathrooms  home_size   value  year  \\\n",
       "4                 4  11324547       4.0        2.0       3633  296425  2005   \n",
       "7                 7  11585547       3.0        2.0       2077  646760  1926   \n",
       "18               18  12716947       3.0        1.0       1244  169471  1950   \n",
       "19               19  12757147       3.0        2.0       1300  233266  1950   \n",
       "20               20  12757947       3.0        2.0       1222  290492  1951   \n",
       "...             ...       ...       ...        ...        ...     ...   ...   \n",
       "2152853     2152853  13917885       4.0        2.0       1987  259913  1955   \n",
       "2152855     2152855  14762130       3.0        2.5       1809  405547  2012   \n",
       "2152858     2152858  14356230       4.0        3.0       2262  960756  2015   \n",
       "2152859     2152859  14157725       4.0        4.5       3127  536061  2014   \n",
       "2152861     2152861  14367624       3.0        2.5       1974  424353  2015   \n",
       "\n",
       "              tax  fips  land_value  lot_size    latitude    longitude  \\\n",
       "4         6941.39  6037       74104      9826  34560018.0 -118169806.0   \n",
       "7         7924.68  6037      436568      6490  34012977.0 -118479243.0   \n",
       "18        2532.88  6037       61431      6021  33953559.0 -118083855.0   \n",
       "19        3110.99  6037      155851      4917  33897134.0 -118102953.0   \n",
       "20        3870.25  6037      172653      5500  33889894.0 -118100732.0   \n",
       "...           ...   ...         ...       ...         ...          ...   \n",
       "2152853   3175.66  6059      169147      6100  33851932.0 -117934693.0   \n",
       "2152855   4181.10  6059      148031      4884  33634876.0 -117833446.0   \n",
       "2152858  13494.52  6059      564569      3220  33687201.0 -117759785.0   \n",
       "2152859   6244.16  6059      147419      8930  33929748.0 -117801513.0   \n",
       "2152861   5302.70  6059      129441      3376  33645700.0 -117598692.0   \n",
       "\n",
       "              county  \n",
       "4        los_angeles  \n",
       "7        los_angeles  \n",
       "18       los_angeles  \n",
       "19       los_angeles  \n",
       "20       los_angeles  \n",
       "...              ...  \n",
       "2152853       orange  \n",
       "2152855       orange  \n",
       "2152858       orange  \n",
       "2152859       orange  \n",
       "2152861       orange  \n",
       "\n",
       "[2118089 rows x 14 columns]"
      ]
     },
     "execution_count": 10,
     "metadata": {},
     "output_type": "execute_result"
    }
   ],
   "source": [
    "df"
   ]
  },
  {
   "cell_type": "code",
   "execution_count": 11,
   "id": "42d72860",
   "metadata": {},
   "outputs": [
    {
     "ename": "KeyboardInterrupt",
     "evalue": "",
     "output_type": "error",
     "traceback": [
      "\u001b[0;31m---------------------------------------------------------------------------\u001b[0m",
      "\u001b[0;31mKeyboardInterrupt\u001b[0m                         Traceback (most recent call last)",
      "\u001b[0;32m/var/folders/s4/hmz6ljm533vgpm_bhv59yw0m0000gn/T/ipykernel_1250/281870740.py\u001b[0m in \u001b[0;36m<module>\u001b[0;34m\u001b[0m\n\u001b[0;32m----> 1\u001b[0;31m \u001b[0mdf\u001b[0m \u001b[0;34m=\u001b[0m \u001b[0mwrangle\u001b[0m\u001b[0;34m.\u001b[0m\u001b[0mwrangle_locs\u001b[0m\u001b[0;34m(\u001b[0m\u001b[0mdf\u001b[0m\u001b[0;34m)\u001b[0m\u001b[0;34m\u001b[0m\u001b[0;34m\u001b[0m\u001b[0m\n\u001b[0m",
      "\u001b[0;32m~/codeup-data-science/regression-exercises/wrangle.py\u001b[0m in \u001b[0;36mwrangle_locs\u001b[0;34m(df)\u001b[0m\n\u001b[1;32m     31\u001b[0m     \u001b[0mlong\u001b[0m \u001b[0;34m=\u001b[0m \u001b[0mpd\u001b[0m\u001b[0;34m.\u001b[0m\u001b[0mDataFrame\u001b[0m\u001b[0;34m(\u001b[0m\u001b[0mdf\u001b[0m\u001b[0;34m[\u001b[0m\u001b[0;34m'longitude'\u001b[0m\u001b[0;34m]\u001b[0m\u001b[0;34m.\u001b[0m\u001b[0mastype\u001b[0m\u001b[0;34m(\u001b[0m\u001b[0mstr\u001b[0m\u001b[0;34m)\u001b[0m\u001b[0;34m)\u001b[0m\u001b[0;34m\u001b[0m\u001b[0;34m\u001b[0m\u001b[0m\n\u001b[1;32m     32\u001b[0m     \u001b[0;32mfor\u001b[0m \u001b[0mc\u001b[0m \u001b[0;32min\u001b[0m \u001b[0mlong\u001b[0m\u001b[0;34m:\u001b[0m\u001b[0;34m\u001b[0m\u001b[0;34m\u001b[0m\u001b[0m\n\u001b[0;32m---> 33\u001b[0;31m         \u001b[0mlong\u001b[0m\u001b[0;34m[\u001b[0m\u001b[0mc\u001b[0m\u001b[0;34m]\u001b[0m \u001b[0;34m=\u001b[0m \u001b[0;34m(\u001b[0m\u001b[0mlong\u001b[0m\u001b[0;34m[\u001b[0m\u001b[0mc\u001b[0m\u001b[0;34m]\u001b[0m\u001b[0;34m.\u001b[0m\u001b[0mstr\u001b[0m\u001b[0;34m[\u001b[0m\u001b[0;34m:\u001b[0m\u001b[0;36m4\u001b[0m\u001b[0;34m]\u001b[0m \u001b[0;34m+\u001b[0m \u001b[0;34m'.'\u001b[0m \u001b[0;34m+\u001b[0m \u001b[0mlong\u001b[0m\u001b[0;34m[\u001b[0m\u001b[0mc\u001b[0m\u001b[0;34m]\u001b[0m\u001b[0;34m.\u001b[0m\u001b[0mstr\u001b[0m\u001b[0;34m[\u001b[0m\u001b[0;36m2\u001b[0m\u001b[0;34m:\u001b[0m\u001b[0;34m]\u001b[0m\u001b[0;34m)\u001b[0m\u001b[0;34m\u001b[0m\u001b[0;34m\u001b[0m\u001b[0m\n\u001b[0m\u001b[1;32m     34\u001b[0m     \u001b[0mlat\u001b[0m \u001b[0;34m=\u001b[0m \u001b[0mpd\u001b[0m\u001b[0;34m.\u001b[0m\u001b[0mDataFrame\u001b[0m\u001b[0;34m(\u001b[0m\u001b[0mdf\u001b[0m\u001b[0;34m[\u001b[0m\u001b[0;34m'latitude'\u001b[0m\u001b[0;34m]\u001b[0m\u001b[0;34m.\u001b[0m\u001b[0mastype\u001b[0m\u001b[0;34m(\u001b[0m\u001b[0mstr\u001b[0m\u001b[0;34m)\u001b[0m\u001b[0;34m)\u001b[0m\u001b[0;34m\u001b[0m\u001b[0;34m\u001b[0m\u001b[0m\n\u001b[1;32m     35\u001b[0m     \u001b[0;32mfor\u001b[0m \u001b[0mc\u001b[0m \u001b[0;32min\u001b[0m \u001b[0mlat\u001b[0m\u001b[0;34m:\u001b[0m\u001b[0;34m\u001b[0m\u001b[0;34m\u001b[0m\u001b[0m\n",
      "\u001b[0;32m/usr/local/anaconda3/lib/python3.9/site-packages/pandas/core/strings/accessor.py\u001b[0m in \u001b[0;36m__getitem__\u001b[0;34m(self, key)\u001b[0m\n\u001b[1;32m    227\u001b[0m \u001b[0;34m\u001b[0m\u001b[0m\n\u001b[1;32m    228\u001b[0m     \u001b[0;32mdef\u001b[0m \u001b[0m__getitem__\u001b[0m\u001b[0;34m(\u001b[0m\u001b[0mself\u001b[0m\u001b[0;34m,\u001b[0m \u001b[0mkey\u001b[0m\u001b[0;34m)\u001b[0m\u001b[0;34m:\u001b[0m\u001b[0;34m\u001b[0m\u001b[0;34m\u001b[0m\u001b[0m\n\u001b[0;32m--> 229\u001b[0;31m         \u001b[0mresult\u001b[0m \u001b[0;34m=\u001b[0m \u001b[0mself\u001b[0m\u001b[0;34m.\u001b[0m\u001b[0m_data\u001b[0m\u001b[0;34m.\u001b[0m\u001b[0marray\u001b[0m\u001b[0;34m.\u001b[0m\u001b[0m_str_getitem\u001b[0m\u001b[0;34m(\u001b[0m\u001b[0mkey\u001b[0m\u001b[0;34m)\u001b[0m\u001b[0;34m\u001b[0m\u001b[0;34m\u001b[0m\u001b[0m\n\u001b[0m\u001b[1;32m    230\u001b[0m         \u001b[0;32mreturn\u001b[0m \u001b[0mself\u001b[0m\u001b[0;34m.\u001b[0m\u001b[0m_wrap_result\u001b[0m\u001b[0;34m(\u001b[0m\u001b[0mresult\u001b[0m\u001b[0;34m)\u001b[0m\u001b[0;34m\u001b[0m\u001b[0;34m\u001b[0m\u001b[0m\n\u001b[1;32m    231\u001b[0m \u001b[0;34m\u001b[0m\u001b[0m\n",
      "\u001b[0;32m/usr/local/anaconda3/lib/python3.9/site-packages/pandas/core/strings/base.py\u001b[0m in \u001b[0;36m_str_getitem\u001b[0;34m(self, key)\u001b[0m\n\u001b[1;32m     28\u001b[0m     \u001b[0;32mdef\u001b[0m \u001b[0m_str_getitem\u001b[0m\u001b[0;34m(\u001b[0m\u001b[0mself\u001b[0m\u001b[0;34m,\u001b[0m \u001b[0mkey\u001b[0m\u001b[0;34m)\u001b[0m\u001b[0;34m:\u001b[0m\u001b[0;34m\u001b[0m\u001b[0;34m\u001b[0m\u001b[0m\n\u001b[1;32m     29\u001b[0m         \u001b[0;32mif\u001b[0m \u001b[0misinstance\u001b[0m\u001b[0;34m(\u001b[0m\u001b[0mkey\u001b[0m\u001b[0;34m,\u001b[0m \u001b[0mslice\u001b[0m\u001b[0;34m)\u001b[0m\u001b[0;34m:\u001b[0m\u001b[0;34m\u001b[0m\u001b[0;34m\u001b[0m\u001b[0m\n\u001b[0;32m---> 30\u001b[0;31m             \u001b[0;32mreturn\u001b[0m \u001b[0mself\u001b[0m\u001b[0;34m.\u001b[0m\u001b[0m_str_slice\u001b[0m\u001b[0;34m(\u001b[0m\u001b[0mstart\u001b[0m\u001b[0;34m=\u001b[0m\u001b[0mkey\u001b[0m\u001b[0;34m.\u001b[0m\u001b[0mstart\u001b[0m\u001b[0;34m,\u001b[0m \u001b[0mstop\u001b[0m\u001b[0;34m=\u001b[0m\u001b[0mkey\u001b[0m\u001b[0;34m.\u001b[0m\u001b[0mstop\u001b[0m\u001b[0;34m,\u001b[0m \u001b[0mstep\u001b[0m\u001b[0;34m=\u001b[0m\u001b[0mkey\u001b[0m\u001b[0;34m.\u001b[0m\u001b[0mstep\u001b[0m\u001b[0;34m)\u001b[0m\u001b[0;34m\u001b[0m\u001b[0;34m\u001b[0m\u001b[0m\n\u001b[0m\u001b[1;32m     31\u001b[0m         \u001b[0;32melse\u001b[0m\u001b[0;34m:\u001b[0m\u001b[0;34m\u001b[0m\u001b[0;34m\u001b[0m\u001b[0m\n\u001b[1;32m     32\u001b[0m             \u001b[0;32mreturn\u001b[0m \u001b[0mself\u001b[0m\u001b[0;34m.\u001b[0m\u001b[0m_str_get\u001b[0m\u001b[0;34m(\u001b[0m\u001b[0mkey\u001b[0m\u001b[0;34m)\u001b[0m\u001b[0;34m\u001b[0m\u001b[0;34m\u001b[0m\u001b[0m\n",
      "\u001b[0;32m/usr/local/anaconda3/lib/python3.9/site-packages/pandas/core/strings/object_array.py\u001b[0m in \u001b[0;36m_str_slice\u001b[0;34m(self, start, stop, step)\u001b[0m\n\u001b[1;32m    284\u001b[0m     \u001b[0;32mdef\u001b[0m \u001b[0m_str_slice\u001b[0m\u001b[0;34m(\u001b[0m\u001b[0mself\u001b[0m\u001b[0;34m,\u001b[0m \u001b[0mstart\u001b[0m\u001b[0;34m=\u001b[0m\u001b[0;32mNone\u001b[0m\u001b[0;34m,\u001b[0m \u001b[0mstop\u001b[0m\u001b[0;34m=\u001b[0m\u001b[0;32mNone\u001b[0m\u001b[0;34m,\u001b[0m \u001b[0mstep\u001b[0m\u001b[0;34m=\u001b[0m\u001b[0;32mNone\u001b[0m\u001b[0;34m)\u001b[0m\u001b[0;34m:\u001b[0m\u001b[0;34m\u001b[0m\u001b[0;34m\u001b[0m\u001b[0m\n\u001b[1;32m    285\u001b[0m         \u001b[0mobj\u001b[0m \u001b[0;34m=\u001b[0m \u001b[0mslice\u001b[0m\u001b[0;34m(\u001b[0m\u001b[0mstart\u001b[0m\u001b[0;34m,\u001b[0m \u001b[0mstop\u001b[0m\u001b[0;34m,\u001b[0m \u001b[0mstep\u001b[0m\u001b[0;34m)\u001b[0m\u001b[0;34m\u001b[0m\u001b[0;34m\u001b[0m\u001b[0m\n\u001b[0;32m--> 286\u001b[0;31m         \u001b[0;32mreturn\u001b[0m \u001b[0mself\u001b[0m\u001b[0;34m.\u001b[0m\u001b[0m_str_map\u001b[0m\u001b[0;34m(\u001b[0m\u001b[0;32mlambda\u001b[0m \u001b[0mx\u001b[0m\u001b[0;34m:\u001b[0m \u001b[0mx\u001b[0m\u001b[0;34m[\u001b[0m\u001b[0mobj\u001b[0m\u001b[0;34m]\u001b[0m\u001b[0;34m)\u001b[0m\u001b[0;34m\u001b[0m\u001b[0;34m\u001b[0m\u001b[0m\n\u001b[0m\u001b[1;32m    287\u001b[0m \u001b[0;34m\u001b[0m\u001b[0m\n\u001b[1;32m    288\u001b[0m     \u001b[0;32mdef\u001b[0m \u001b[0m_str_slice_replace\u001b[0m\u001b[0;34m(\u001b[0m\u001b[0mself\u001b[0m\u001b[0;34m,\u001b[0m \u001b[0mstart\u001b[0m\u001b[0;34m=\u001b[0m\u001b[0;32mNone\u001b[0m\u001b[0;34m,\u001b[0m \u001b[0mstop\u001b[0m\u001b[0;34m=\u001b[0m\u001b[0;32mNone\u001b[0m\u001b[0;34m,\u001b[0m \u001b[0mrepl\u001b[0m\u001b[0;34m=\u001b[0m\u001b[0;32mNone\u001b[0m\u001b[0;34m)\u001b[0m\u001b[0;34m:\u001b[0m\u001b[0;34m\u001b[0m\u001b[0;34m\u001b[0m\u001b[0m\n",
      "\u001b[0;32m/usr/local/anaconda3/lib/python3.9/site-packages/pandas/core/strings/object_array.py\u001b[0m in \u001b[0;36m_str_map\u001b[0;34m(self, f, na_value, dtype, convert)\u001b[0m\n\u001b[1;32m     67\u001b[0m         \u001b[0mmap_convert\u001b[0m \u001b[0;34m=\u001b[0m \u001b[0mconvert\u001b[0m \u001b[0;32mand\u001b[0m \u001b[0;32mnot\u001b[0m \u001b[0mnp\u001b[0m\u001b[0;34m.\u001b[0m\u001b[0mall\u001b[0m\u001b[0;34m(\u001b[0m\u001b[0mmask\u001b[0m\u001b[0;34m)\u001b[0m\u001b[0;34m\u001b[0m\u001b[0;34m\u001b[0m\u001b[0m\n\u001b[1;32m     68\u001b[0m         \u001b[0;32mtry\u001b[0m\u001b[0;34m:\u001b[0m\u001b[0;34m\u001b[0m\u001b[0;34m\u001b[0m\u001b[0m\n\u001b[0;32m---> 69\u001b[0;31m             \u001b[0mresult\u001b[0m \u001b[0;34m=\u001b[0m \u001b[0mlib\u001b[0m\u001b[0;34m.\u001b[0m\u001b[0mmap_infer_mask\u001b[0m\u001b[0;34m(\u001b[0m\u001b[0marr\u001b[0m\u001b[0;34m,\u001b[0m \u001b[0mf\u001b[0m\u001b[0;34m,\u001b[0m \u001b[0mmask\u001b[0m\u001b[0;34m.\u001b[0m\u001b[0mview\u001b[0m\u001b[0;34m(\u001b[0m\u001b[0mnp\u001b[0m\u001b[0;34m.\u001b[0m\u001b[0muint8\u001b[0m\u001b[0;34m)\u001b[0m\u001b[0;34m,\u001b[0m \u001b[0mmap_convert\u001b[0m\u001b[0;34m)\u001b[0m\u001b[0;34m\u001b[0m\u001b[0;34m\u001b[0m\u001b[0m\n\u001b[0m\u001b[1;32m     70\u001b[0m         \u001b[0;32mexcept\u001b[0m \u001b[0;34m(\u001b[0m\u001b[0mTypeError\u001b[0m\u001b[0;34m,\u001b[0m \u001b[0mAttributeError\u001b[0m\u001b[0;34m)\u001b[0m \u001b[0;32mas\u001b[0m \u001b[0me\u001b[0m\u001b[0;34m:\u001b[0m\u001b[0;34m\u001b[0m\u001b[0;34m\u001b[0m\u001b[0m\n\u001b[1;32m     71\u001b[0m             \u001b[0;31m# Reraise the exception if callable `f` got wrong number of args.\u001b[0m\u001b[0;34m\u001b[0m\u001b[0;34m\u001b[0m\u001b[0m\n",
      "\u001b[0;32m/usr/local/anaconda3/lib/python3.9/site-packages/pandas/_libs/lib.pyx\u001b[0m in \u001b[0;36mpandas._libs.lib.map_infer_mask\u001b[0;34m()\u001b[0m\n",
      "\u001b[0;32m/usr/local/anaconda3/lib/python3.9/site-packages/pandas/core/strings/object_array.py\u001b[0m in \u001b[0;36m<lambda>\u001b[0;34m(x)\u001b[0m\n\u001b[1;32m    284\u001b[0m     \u001b[0;32mdef\u001b[0m \u001b[0m_str_slice\u001b[0m\u001b[0;34m(\u001b[0m\u001b[0mself\u001b[0m\u001b[0;34m,\u001b[0m \u001b[0mstart\u001b[0m\u001b[0;34m=\u001b[0m\u001b[0;32mNone\u001b[0m\u001b[0;34m,\u001b[0m \u001b[0mstop\u001b[0m\u001b[0;34m=\u001b[0m\u001b[0;32mNone\u001b[0m\u001b[0;34m,\u001b[0m \u001b[0mstep\u001b[0m\u001b[0;34m=\u001b[0m\u001b[0;32mNone\u001b[0m\u001b[0;34m)\u001b[0m\u001b[0;34m:\u001b[0m\u001b[0;34m\u001b[0m\u001b[0;34m\u001b[0m\u001b[0m\n\u001b[1;32m    285\u001b[0m         \u001b[0mobj\u001b[0m \u001b[0;34m=\u001b[0m \u001b[0mslice\u001b[0m\u001b[0;34m(\u001b[0m\u001b[0mstart\u001b[0m\u001b[0;34m,\u001b[0m \u001b[0mstop\u001b[0m\u001b[0;34m,\u001b[0m \u001b[0mstep\u001b[0m\u001b[0;34m)\u001b[0m\u001b[0;34m\u001b[0m\u001b[0;34m\u001b[0m\u001b[0m\n\u001b[0;32m--> 286\u001b[0;31m         \u001b[0;32mreturn\u001b[0m \u001b[0mself\u001b[0m\u001b[0;34m.\u001b[0m\u001b[0m_str_map\u001b[0m\u001b[0;34m(\u001b[0m\u001b[0;32mlambda\u001b[0m \u001b[0mx\u001b[0m\u001b[0;34m:\u001b[0m \u001b[0mx\u001b[0m\u001b[0;34m[\u001b[0m\u001b[0mobj\u001b[0m\u001b[0;34m]\u001b[0m\u001b[0;34m)\u001b[0m\u001b[0;34m\u001b[0m\u001b[0;34m\u001b[0m\u001b[0m\n\u001b[0m\u001b[1;32m    287\u001b[0m \u001b[0;34m\u001b[0m\u001b[0m\n\u001b[1;32m    288\u001b[0m     \u001b[0;32mdef\u001b[0m \u001b[0m_str_slice_replace\u001b[0m\u001b[0;34m(\u001b[0m\u001b[0mself\u001b[0m\u001b[0;34m,\u001b[0m \u001b[0mstart\u001b[0m\u001b[0;34m=\u001b[0m\u001b[0;32mNone\u001b[0m\u001b[0;34m,\u001b[0m \u001b[0mstop\u001b[0m\u001b[0;34m=\u001b[0m\u001b[0;32mNone\u001b[0m\u001b[0;34m,\u001b[0m \u001b[0mrepl\u001b[0m\u001b[0;34m=\u001b[0m\u001b[0;32mNone\u001b[0m\u001b[0;34m)\u001b[0m\u001b[0;34m:\u001b[0m\u001b[0;34m\u001b[0m\u001b[0;34m\u001b[0m\u001b[0m\n",
      "\u001b[0;31mKeyboardInterrupt\u001b[0m: "
     ]
    }
   ],
   "source": [
    "df = wrangle.wrangle_locs(df)"
   ]
  },
  {
   "cell_type": "code",
   "execution_count": 13,
   "id": "b0b96e4d",
   "metadata": {},
   "outputs": [],
   "source": [
    "df.drop(columns= 'Unnamed: 0', inplace = True)"
   ]
  },
  {
   "cell_type": "code",
   "execution_count": 14,
   "id": "9ebc0385",
   "metadata": {},
   "outputs": [
    {
     "data": {
      "text/html": [
       "<div>\n",
       "<style scoped>\n",
       "    .dataframe tbody tr th:only-of-type {\n",
       "        vertical-align: middle;\n",
       "    }\n",
       "\n",
       "    .dataframe tbody tr th {\n",
       "        vertical-align: top;\n",
       "    }\n",
       "\n",
       "    .dataframe thead th {\n",
       "        text-align: right;\n",
       "    }\n",
       "</style>\n",
       "<table border=\"1\" class=\"dataframe\">\n",
       "  <thead>\n",
       "    <tr style=\"text-align: right;\">\n",
       "      <th></th>\n",
       "      <th>parcelid</th>\n",
       "      <th>bedrooms</th>\n",
       "      <th>bathrooms</th>\n",
       "      <th>home_size</th>\n",
       "      <th>value</th>\n",
       "      <th>year</th>\n",
       "      <th>tax</th>\n",
       "      <th>fips</th>\n",
       "      <th>land_value</th>\n",
       "      <th>lot_size</th>\n",
       "      <th>latitude</th>\n",
       "      <th>longitude</th>\n",
       "      <th>county</th>\n",
       "    </tr>\n",
       "  </thead>\n",
       "  <tbody>\n",
       "    <tr>\n",
       "      <th>0</th>\n",
       "      <td>14297519</td>\n",
       "      <td>4.0</td>\n",
       "      <td>3.5</td>\n",
       "      <td>3100</td>\n",
       "      <td>1023282</td>\n",
       "      <td>1998</td>\n",
       "      <td>11013.72</td>\n",
       "      <td>6059</td>\n",
       "      <td>537569</td>\n",
       "      <td>4506</td>\n",
       "      <td>33634931.0</td>\n",
       "      <td>-117869207.0</td>\n",
       "      <td>orange</td>\n",
       "    </tr>\n",
       "    <tr>\n",
       "      <th>1</th>\n",
       "      <td>17052889</td>\n",
       "      <td>2.0</td>\n",
       "      <td>1.0</td>\n",
       "      <td>1465</td>\n",
       "      <td>464000</td>\n",
       "      <td>1967</td>\n",
       "      <td>5672.48</td>\n",
       "      <td>6111</td>\n",
       "      <td>376000</td>\n",
       "      <td>12647</td>\n",
       "      <td>34449266.0</td>\n",
       "      <td>-119281531.0</td>\n",
       "      <td>ventura</td>\n",
       "    </tr>\n",
       "    <tr>\n",
       "      <th>2</th>\n",
       "      <td>14186244</td>\n",
       "      <td>3.0</td>\n",
       "      <td>2.0</td>\n",
       "      <td>1243</td>\n",
       "      <td>564778</td>\n",
       "      <td>1962</td>\n",
       "      <td>6488.30</td>\n",
       "      <td>6059</td>\n",
       "      <td>479489</td>\n",
       "      <td>8432</td>\n",
       "      <td>33886168.0</td>\n",
       "      <td>-117823170.0</td>\n",
       "      <td>orange</td>\n",
       "    </tr>\n",
       "    <tr>\n",
       "      <th>3</th>\n",
       "      <td>12177905</td>\n",
       "      <td>4.0</td>\n",
       "      <td>3.0</td>\n",
       "      <td>2376</td>\n",
       "      <td>145143</td>\n",
       "      <td>1970</td>\n",
       "      <td>1777.51</td>\n",
       "      <td>6037</td>\n",
       "      <td>36225</td>\n",
       "      <td>13038</td>\n",
       "      <td>34245180.0</td>\n",
       "      <td>-118240722.0</td>\n",
       "      <td>los_angeles</td>\n",
       "    </tr>\n",
       "    <tr>\n",
       "      <th>4</th>\n",
       "      <td>12095076</td>\n",
       "      <td>4.0</td>\n",
       "      <td>3.0</td>\n",
       "      <td>2962</td>\n",
       "      <td>773303</td>\n",
       "      <td>1950</td>\n",
       "      <td>9516.26</td>\n",
       "      <td>6037</td>\n",
       "      <td>496619</td>\n",
       "      <td>63000</td>\n",
       "      <td>34145202.0</td>\n",
       "      <td>-118179824.0</td>\n",
       "      <td>los_angeles</td>\n",
       "    </tr>\n",
       "    <tr>\n",
       "      <th>...</th>\n",
       "      <td>...</td>\n",
       "      <td>...</td>\n",
       "      <td>...</td>\n",
       "      <td>...</td>\n",
       "      <td>...</td>\n",
       "      <td>...</td>\n",
       "      <td>...</td>\n",
       "      <td>...</td>\n",
       "      <td>...</td>\n",
       "      <td>...</td>\n",
       "      <td>...</td>\n",
       "      <td>...</td>\n",
       "      <td>...</td>\n",
       "    </tr>\n",
       "    <tr>\n",
       "      <th>52436</th>\n",
       "      <td>12412492</td>\n",
       "      <td>4.0</td>\n",
       "      <td>2.0</td>\n",
       "      <td>1633</td>\n",
       "      <td>346534</td>\n",
       "      <td>1962</td>\n",
       "      <td>4175.08</td>\n",
       "      <td>6037</td>\n",
       "      <td>221068</td>\n",
       "      <td>4630</td>\n",
       "      <td>33870815.0</td>\n",
       "      <td>-118070858.0</td>\n",
       "      <td>los_angeles</td>\n",
       "    </tr>\n",
       "    <tr>\n",
       "      <th>52437</th>\n",
       "      <td>11000655</td>\n",
       "      <td>2.0</td>\n",
       "      <td>2.0</td>\n",
       "      <td>1286</td>\n",
       "      <td>354621</td>\n",
       "      <td>1940</td>\n",
       "      <td>4478.43</td>\n",
       "      <td>6037</td>\n",
       "      <td>283704</td>\n",
       "      <td>47405</td>\n",
       "      <td>34245368.0</td>\n",
       "      <td>-118282383.0</td>\n",
       "      <td>los_angeles</td>\n",
       "    </tr>\n",
       "    <tr>\n",
       "      <th>52438</th>\n",
       "      <td>17239384</td>\n",
       "      <td>4.0</td>\n",
       "      <td>2.0</td>\n",
       "      <td>1612</td>\n",
       "      <td>67205</td>\n",
       "      <td>1964</td>\n",
       "      <td>1107.48</td>\n",
       "      <td>6111</td>\n",
       "      <td>16522</td>\n",
       "      <td>12105</td>\n",
       "      <td>34300140.0</td>\n",
       "      <td>-118706327.0</td>\n",
       "      <td>ventura</td>\n",
       "    </tr>\n",
       "    <tr>\n",
       "      <th>52439</th>\n",
       "      <td>12773139</td>\n",
       "      <td>3.0</td>\n",
       "      <td>1.0</td>\n",
       "      <td>1032</td>\n",
       "      <td>49546</td>\n",
       "      <td>1954</td>\n",
       "      <td>876.43</td>\n",
       "      <td>6037</td>\n",
       "      <td>16749</td>\n",
       "      <td>5074</td>\n",
       "      <td>34040895.0</td>\n",
       "      <td>-118038169.0</td>\n",
       "      <td>los_angeles</td>\n",
       "    </tr>\n",
       "    <tr>\n",
       "      <th>52440</th>\n",
       "      <td>12826780</td>\n",
       "      <td>3.0</td>\n",
       "      <td>2.0</td>\n",
       "      <td>1762</td>\n",
       "      <td>522000</td>\n",
       "      <td>1955</td>\n",
       "      <td>6317.15</td>\n",
       "      <td>6037</td>\n",
       "      <td>382000</td>\n",
       "      <td>6347</td>\n",
       "      <td>33937685.0</td>\n",
       "      <td>-117996709.0</td>\n",
       "      <td>los_angeles</td>\n",
       "    </tr>\n",
       "  </tbody>\n",
       "</table>\n",
       "<p>51752 rows × 13 columns</p>\n",
       "</div>"
      ],
      "text/plain": [
       "       parcelid  bedrooms  bathrooms  home_size    value  year       tax  \\\n",
       "0      14297519       4.0        3.5       3100  1023282  1998  11013.72   \n",
       "1      17052889       2.0        1.0       1465   464000  1967   5672.48   \n",
       "2      14186244       3.0        2.0       1243   564778  1962   6488.30   \n",
       "3      12177905       4.0        3.0       2376   145143  1970   1777.51   \n",
       "4      12095076       4.0        3.0       2962   773303  1950   9516.26   \n",
       "...         ...       ...        ...        ...      ...   ...       ...   \n",
       "52436  12412492       4.0        2.0       1633   346534  1962   4175.08   \n",
       "52437  11000655       2.0        2.0       1286   354621  1940   4478.43   \n",
       "52438  17239384       4.0        2.0       1612    67205  1964   1107.48   \n",
       "52439  12773139       3.0        1.0       1032    49546  1954    876.43   \n",
       "52440  12826780       3.0        2.0       1762   522000  1955   6317.15   \n",
       "\n",
       "       fips  land_value  lot_size    latitude    longitude       county  \n",
       "0      6059      537569      4506  33634931.0 -117869207.0       orange  \n",
       "1      6111      376000     12647  34449266.0 -119281531.0      ventura  \n",
       "2      6059      479489      8432  33886168.0 -117823170.0       orange  \n",
       "3      6037       36225     13038  34245180.0 -118240722.0  los_angeles  \n",
       "4      6037      496619     63000  34145202.0 -118179824.0  los_angeles  \n",
       "...     ...         ...       ...         ...          ...          ...  \n",
       "52436  6037      221068      4630  33870815.0 -118070858.0  los_angeles  \n",
       "52437  6037      283704     47405  34245368.0 -118282383.0  los_angeles  \n",
       "52438  6111       16522     12105  34300140.0 -118706327.0      ventura  \n",
       "52439  6037       16749      5074  34040895.0 -118038169.0  los_angeles  \n",
       "52440  6037      382000      6347  33937685.0 -117996709.0  los_angeles  \n",
       "\n",
       "[51752 rows x 13 columns]"
      ]
     },
     "execution_count": 14,
     "metadata": {},
     "output_type": "execute_result"
    }
   ],
   "source": [
    "df"
   ]
  },
  {
   "cell_type": "code",
   "execution_count": 15,
   "id": "80a8559c",
   "metadata": {},
   "outputs": [
    {
     "data": {
      "text/plain": [
       "508813.64022646466"
      ]
     },
     "execution_count": 15,
     "metadata": {},
     "output_type": "execute_result"
    }
   ],
   "source": [
    "df.value.mean()"
   ]
  },
  {
   "cell_type": "markdown",
   "id": "d93e1f9d",
   "metadata": {},
   "source": [
    "seeing that tax assessed value mean is very different based on the assessment year, I am dropping 2014 and 2015 assessment year records from the dataframe for consistency"
   ]
  },
  {
   "cell_type": "code",
   "execution_count": null,
   "id": "e2004041",
   "metadata": {},
   "outputs": [],
   "source": [
    "#df.assessmentyear.value_counts()"
   ]
  },
  {
   "cell_type": "markdown",
   "id": "909379bf",
   "metadata": {},
   "source": [
    "Now that all records have the same assessment year (2016), I can drop this column"
   ]
  },
  {
   "cell_type": "code",
   "execution_count": null,
   "id": "8a7a6a8d",
   "metadata": {},
   "outputs": [],
   "source": [
    "#df.drop(columns = ['assessmentyear'], inplace=True)"
   ]
  },
  {
   "cell_type": "code",
   "execution_count": 16,
   "id": "f1902cb2",
   "metadata": {},
   "outputs": [
    {
     "data": {
      "text/html": [
       "<div>\n",
       "<style scoped>\n",
       "    .dataframe tbody tr th:only-of-type {\n",
       "        vertical-align: middle;\n",
       "    }\n",
       "\n",
       "    .dataframe tbody tr th {\n",
       "        vertical-align: top;\n",
       "    }\n",
       "\n",
       "    .dataframe thead th {\n",
       "        text-align: right;\n",
       "    }\n",
       "</style>\n",
       "<table border=\"1\" class=\"dataframe\">\n",
       "  <thead>\n",
       "    <tr style=\"text-align: right;\">\n",
       "      <th></th>\n",
       "      <th>parcelid</th>\n",
       "      <th>bedrooms</th>\n",
       "      <th>bathrooms</th>\n",
       "      <th>home_size</th>\n",
       "      <th>value</th>\n",
       "      <th>year</th>\n",
       "      <th>tax</th>\n",
       "      <th>fips</th>\n",
       "      <th>land_value</th>\n",
       "      <th>lot_size</th>\n",
       "      <th>latitude</th>\n",
       "      <th>longitude</th>\n",
       "      <th>county</th>\n",
       "    </tr>\n",
       "  </thead>\n",
       "  <tbody>\n",
       "    <tr>\n",
       "      <th>0</th>\n",
       "      <td>14297519</td>\n",
       "      <td>4.0</td>\n",
       "      <td>3.5</td>\n",
       "      <td>3100</td>\n",
       "      <td>1023282</td>\n",
       "      <td>1998</td>\n",
       "      <td>11013.72</td>\n",
       "      <td>6059</td>\n",
       "      <td>537569</td>\n",
       "      <td>4506</td>\n",
       "      <td>33634931.0</td>\n",
       "      <td>-117869207.0</td>\n",
       "      <td>orange</td>\n",
       "    </tr>\n",
       "    <tr>\n",
       "      <th>1</th>\n",
       "      <td>17052889</td>\n",
       "      <td>2.0</td>\n",
       "      <td>1.0</td>\n",
       "      <td>1465</td>\n",
       "      <td>464000</td>\n",
       "      <td>1967</td>\n",
       "      <td>5672.48</td>\n",
       "      <td>6111</td>\n",
       "      <td>376000</td>\n",
       "      <td>12647</td>\n",
       "      <td>34449266.0</td>\n",
       "      <td>-119281531.0</td>\n",
       "      <td>ventura</td>\n",
       "    </tr>\n",
       "    <tr>\n",
       "      <th>2</th>\n",
       "      <td>14186244</td>\n",
       "      <td>3.0</td>\n",
       "      <td>2.0</td>\n",
       "      <td>1243</td>\n",
       "      <td>564778</td>\n",
       "      <td>1962</td>\n",
       "      <td>6488.30</td>\n",
       "      <td>6059</td>\n",
       "      <td>479489</td>\n",
       "      <td>8432</td>\n",
       "      <td>33886168.0</td>\n",
       "      <td>-117823170.0</td>\n",
       "      <td>orange</td>\n",
       "    </tr>\n",
       "    <tr>\n",
       "      <th>3</th>\n",
       "      <td>12177905</td>\n",
       "      <td>4.0</td>\n",
       "      <td>3.0</td>\n",
       "      <td>2376</td>\n",
       "      <td>145143</td>\n",
       "      <td>1970</td>\n",
       "      <td>1777.51</td>\n",
       "      <td>6037</td>\n",
       "      <td>36225</td>\n",
       "      <td>13038</td>\n",
       "      <td>34245180.0</td>\n",
       "      <td>-118240722.0</td>\n",
       "      <td>los_angeles</td>\n",
       "    </tr>\n",
       "    <tr>\n",
       "      <th>4</th>\n",
       "      <td>12095076</td>\n",
       "      <td>4.0</td>\n",
       "      <td>3.0</td>\n",
       "      <td>2962</td>\n",
       "      <td>773303</td>\n",
       "      <td>1950</td>\n",
       "      <td>9516.26</td>\n",
       "      <td>6037</td>\n",
       "      <td>496619</td>\n",
       "      <td>63000</td>\n",
       "      <td>34145202.0</td>\n",
       "      <td>-118179824.0</td>\n",
       "      <td>los_angeles</td>\n",
       "    </tr>\n",
       "    <tr>\n",
       "      <th>...</th>\n",
       "      <td>...</td>\n",
       "      <td>...</td>\n",
       "      <td>...</td>\n",
       "      <td>...</td>\n",
       "      <td>...</td>\n",
       "      <td>...</td>\n",
       "      <td>...</td>\n",
       "      <td>...</td>\n",
       "      <td>...</td>\n",
       "      <td>...</td>\n",
       "      <td>...</td>\n",
       "      <td>...</td>\n",
       "      <td>...</td>\n",
       "    </tr>\n",
       "    <tr>\n",
       "      <th>52436</th>\n",
       "      <td>12412492</td>\n",
       "      <td>4.0</td>\n",
       "      <td>2.0</td>\n",
       "      <td>1633</td>\n",
       "      <td>346534</td>\n",
       "      <td>1962</td>\n",
       "      <td>4175.08</td>\n",
       "      <td>6037</td>\n",
       "      <td>221068</td>\n",
       "      <td>4630</td>\n",
       "      <td>33870815.0</td>\n",
       "      <td>-118070858.0</td>\n",
       "      <td>los_angeles</td>\n",
       "    </tr>\n",
       "    <tr>\n",
       "      <th>52437</th>\n",
       "      <td>11000655</td>\n",
       "      <td>2.0</td>\n",
       "      <td>2.0</td>\n",
       "      <td>1286</td>\n",
       "      <td>354621</td>\n",
       "      <td>1940</td>\n",
       "      <td>4478.43</td>\n",
       "      <td>6037</td>\n",
       "      <td>283704</td>\n",
       "      <td>47405</td>\n",
       "      <td>34245368.0</td>\n",
       "      <td>-118282383.0</td>\n",
       "      <td>los_angeles</td>\n",
       "    </tr>\n",
       "    <tr>\n",
       "      <th>52438</th>\n",
       "      <td>17239384</td>\n",
       "      <td>4.0</td>\n",
       "      <td>2.0</td>\n",
       "      <td>1612</td>\n",
       "      <td>67205</td>\n",
       "      <td>1964</td>\n",
       "      <td>1107.48</td>\n",
       "      <td>6111</td>\n",
       "      <td>16522</td>\n",
       "      <td>12105</td>\n",
       "      <td>34300140.0</td>\n",
       "      <td>-118706327.0</td>\n",
       "      <td>ventura</td>\n",
       "    </tr>\n",
       "    <tr>\n",
       "      <th>52439</th>\n",
       "      <td>12773139</td>\n",
       "      <td>3.0</td>\n",
       "      <td>1.0</td>\n",
       "      <td>1032</td>\n",
       "      <td>49546</td>\n",
       "      <td>1954</td>\n",
       "      <td>876.43</td>\n",
       "      <td>6037</td>\n",
       "      <td>16749</td>\n",
       "      <td>5074</td>\n",
       "      <td>34040895.0</td>\n",
       "      <td>-118038169.0</td>\n",
       "      <td>los_angeles</td>\n",
       "    </tr>\n",
       "    <tr>\n",
       "      <th>52440</th>\n",
       "      <td>12826780</td>\n",
       "      <td>3.0</td>\n",
       "      <td>2.0</td>\n",
       "      <td>1762</td>\n",
       "      <td>522000</td>\n",
       "      <td>1955</td>\n",
       "      <td>6317.15</td>\n",
       "      <td>6037</td>\n",
       "      <td>382000</td>\n",
       "      <td>6347</td>\n",
       "      <td>33937685.0</td>\n",
       "      <td>-117996709.0</td>\n",
       "      <td>los_angeles</td>\n",
       "    </tr>\n",
       "  </tbody>\n",
       "</table>\n",
       "<p>51752 rows × 13 columns</p>\n",
       "</div>"
      ],
      "text/plain": [
       "       parcelid  bedrooms  bathrooms  home_size    value  year       tax  \\\n",
       "0      14297519       4.0        3.5       3100  1023282  1998  11013.72   \n",
       "1      17052889       2.0        1.0       1465   464000  1967   5672.48   \n",
       "2      14186244       3.0        2.0       1243   564778  1962   6488.30   \n",
       "3      12177905       4.0        3.0       2376   145143  1970   1777.51   \n",
       "4      12095076       4.0        3.0       2962   773303  1950   9516.26   \n",
       "...         ...       ...        ...        ...      ...   ...       ...   \n",
       "52436  12412492       4.0        2.0       1633   346534  1962   4175.08   \n",
       "52437  11000655       2.0        2.0       1286   354621  1940   4478.43   \n",
       "52438  17239384       4.0        2.0       1612    67205  1964   1107.48   \n",
       "52439  12773139       3.0        1.0       1032    49546  1954    876.43   \n",
       "52440  12826780       3.0        2.0       1762   522000  1955   6317.15   \n",
       "\n",
       "       fips  land_value  lot_size    latitude    longitude       county  \n",
       "0      6059      537569      4506  33634931.0 -117869207.0       orange  \n",
       "1      6111      376000     12647  34449266.0 -119281531.0      ventura  \n",
       "2      6059      479489      8432  33886168.0 -117823170.0       orange  \n",
       "3      6037       36225     13038  34245180.0 -118240722.0  los_angeles  \n",
       "4      6037      496619     63000  34145202.0 -118179824.0  los_angeles  \n",
       "...     ...         ...       ...         ...          ...          ...  \n",
       "52436  6037      221068      4630  33870815.0 -118070858.0  los_angeles  \n",
       "52437  6037      283704     47405  34245368.0 -118282383.0  los_angeles  \n",
       "52438  6111       16522     12105  34300140.0 -118706327.0      ventura  \n",
       "52439  6037       16749      5074  34040895.0 -118038169.0  los_angeles  \n",
       "52440  6037      382000      6347  33937685.0 -117996709.0  los_angeles  \n",
       "\n",
       "[51752 rows x 13 columns]"
      ]
     },
     "execution_count": 16,
     "metadata": {},
     "output_type": "execute_result"
    }
   ],
   "source": [
    "df"
   ]
  },
  {
   "cell_type": "code",
   "execution_count": null,
   "id": "f5bbb356",
   "metadata": {},
   "outputs": [],
   "source": [
    "# df.rename(columns={'landtaxvaluedollarcnt': 'land_value', 'lotsizesquarefeet': 'lot_size', 'square_feet': 'home_size'}, inplace=True)"
   ]
  },
  {
   "cell_type": "code",
   "execution_count": null,
   "id": "8d46ef4c",
   "metadata": {},
   "outputs": [],
   "source": [
    "# df.drop(columns='Unnamed: 0', inplace=True)"
   ]
  },
  {
   "cell_type": "code",
   "execution_count": null,
   "id": "5f629b79",
   "metadata": {},
   "outputs": [],
   "source": [
    "# df"
   ]
  },
  {
   "cell_type": "code",
   "execution_count": null,
   "id": "952ab3cd",
   "metadata": {},
   "outputs": [],
   "source": [
    "# df['land_value'] = df.land_value.astype(int)"
   ]
  },
  {
   "cell_type": "code",
   "execution_count": null,
   "id": "1b48097f",
   "metadata": {},
   "outputs": [],
   "source": [
    "# df['lot_size'] = df.lot_size.astype(int)"
   ]
  },
  {
   "cell_type": "markdown",
   "id": "f1604593",
   "metadata": {},
   "source": [
    "### Univariate Exploration"
   ]
  },
  {
   "cell_type": "code",
   "execution_count": null,
   "id": "feb62481",
   "metadata": {},
   "outputs": [],
   "source": [
    "df.bedrooms.value_counts().sort_values()"
   ]
  },
  {
   "cell_type": "code",
   "execution_count": null,
   "id": "0788a5dd",
   "metadata": {},
   "outputs": [],
   "source": [
    "df.bathrooms.value_counts().sort_values()"
   ]
  },
  {
   "cell_type": "code",
   "execution_count": null,
   "id": "abde519b",
   "metadata": {},
   "outputs": [],
   "source": [
    "# put this in wrangle function \n",
    "\n",
    "df = df[df.lot_size > 500]\n",
    "df = df[df.home_size > 500]\n",
    "df = df[df.value > 10000]"
   ]
  },
  {
   "cell_type": "code",
   "execution_count": null,
   "id": "48e65294",
   "metadata": {},
   "outputs": [],
   "source": [
    "from IPython.display import Markdown, display\n",
    "def printmd(string):\n",
    "    display(Markdown(string))\n",
    "    \n",
    "print()\n",
    "printmd(\"**Zillow Data (Min, Max, Average)**\")\n",
    "print(\"--------------------------------\")\n",
    "printmd(\"**Tax Assessed Value of Home**\")\n",
    "printmd('*Maximum Tax Assessed Value: {:,}*'\n",
    "     .format(df['value'].max()))\n",
    "printmd('*Minimum Tax Assessed Value: {:,}*'\n",
    "     .format(df['value'].min()))\n",
    "printmd('*Average Tax Assessed Value: {:,}*'\n",
    "     .format(round(df['value'].mean())))\n",
    "print(\"--------------------------------\")\n",
    "printmd(\"**Tax Amount of Home**\")\n",
    "printmd('*Maximum Tax Amount of Home: {:,}*'\n",
    "     .format(round(df['tax'].max())))\n",
    "printmd('*Minimum Tax Amount of Home: {:,}*'\n",
    "     .format(df['tax'].min()))\n",
    "printmd('*Average Tax Amount of Home: {:,}*'\n",
    "     .format(round(df['tax'].mean())))\n",
    "print(\"--------------------------------\")\n",
    "printmd(\"**Home Size in Square Feet**\")\n",
    "printmd('*Maximum Home Size: {:,} square feet*'\n",
    "     .format(df['home_size'].max()))\n",
    "printmd('*Minimum Home Size: {:,} square feet*'\n",
    "     .format(df['home_size'].min()))\n",
    "printmd('*Average Home Size: {:,} square feet*'\n",
    "     .format(round(df['home_size'].mean())))\n",
    "print(\"--------------------------------\")\n",
    "printmd(\"**Lot Size in Square Feet**\")\n",
    "printmd('*Maximum Lot Size: {:,} square feet*'\n",
    "     .format(df['lot_size'].max()))\n",
    "printmd('*Minimum Lot Size: {:,} square feet*'\n",
    "     .format(df['lot_size'].min()))\n",
    "printmd('*Average Lot Size: {:,} square feet*'\n",
    "     .format(round(df['lot_size'].mean())))\n",
    "print(\"--------------------------------\")\n",
    "printmd(\"**Tax Assessed Land Value**\")\n",
    "printmd('*Maximum Land Value: {:,}*'\n",
    "     .format(df['land_value'].max()))\n",
    "printmd('*Minimum Land Value: {:,}*'\n",
    "     .format(df['land_value'].min()))\n",
    "printmd('*Average Land Value: {:,}*'\n",
    "     .format(round(df['land_value'].mean())))"
   ]
  },
  {
   "cell_type": "code",
   "execution_count": null,
   "id": "f704e290",
   "metadata": {},
   "outputs": [],
   "source": [
    "plt.figure(figsize=(10, 4))\n",
    "sns.set_palette('Set2', 8)\n",
    "plt.title('bedroom count')\n",
    "sns.countplot(x = 'bedrooms', data= df)"
   ]
  },
  {
   "cell_type": "code",
   "execution_count": null,
   "id": "253d022e",
   "metadata": {},
   "outputs": [],
   "source": [
    "plt.figure(figsize=(14, 5))\n",
    "sns.set_palette('Set2', 20)\n",
    "sns.countplot(x='bathrooms', data=df)\n",
    "plt.title('bathroom count')"
   ]
  },
  {
   "cell_type": "code",
   "execution_count": null,
   "id": "251401f8",
   "metadata": {},
   "outputs": [],
   "source": [
    "from sklearn.model_selection import train_test_split\n",
    "from scipy.stats import pearsonr, spearmanr\n",
    "\n",
    "from math import sqrt\n",
    "from scipy import stats"
   ]
  },
  {
   "cell_type": "code",
   "execution_count": null,
   "id": "699eb0d2",
   "metadata": {},
   "outputs": [],
   "source": [
    "# make this a function\n",
    "train_and_validate, test = train_test_split(df, test_size=.2, random_state=123)\n",
    "train, validate = train_test_split(train_and_validate, test_size=.3, random_state=123)"
   ]
  },
  {
   "cell_type": "code",
   "execution_count": null,
   "id": "3a1476da",
   "metadata": {},
   "outputs": [],
   "source": [
    "train.info()"
   ]
  },
  {
   "cell_type": "code",
   "execution_count": null,
   "id": "f1df7d19",
   "metadata": {},
   "outputs": [],
   "source": [
    "orange_train = train.copy()"
   ]
  },
  {
   "cell_type": "code",
   "execution_count": null,
   "id": "8ce00b3f",
   "metadata": {},
   "outputs": [],
   "source": [
    "ventura_train = train.copy()"
   ]
  },
  {
   "cell_type": "code",
   "execution_count": null,
   "id": "e8b7bcc3",
   "metadata": {},
   "outputs": [],
   "source": [
    "la_train = train.copy()"
   ]
  },
  {
   "cell_type": "code",
   "execution_count": null,
   "id": "4dd61cb9",
   "metadata": {},
   "outputs": [],
   "source": [
    "orange_train = orange_train[orange_train.county == 'orange']"
   ]
  },
  {
   "cell_type": "code",
   "execution_count": null,
   "id": "a89339a8",
   "metadata": {},
   "outputs": [],
   "source": [
    "orange_train"
   ]
  },
  {
   "cell_type": "code",
   "execution_count": null,
   "id": "257ec57a",
   "metadata": {},
   "outputs": [],
   "source": [
    "ventura_train = ventura_train[ventura_train.county == 'ventura']"
   ]
  },
  {
   "cell_type": "code",
   "execution_count": null,
   "id": "85849c3f",
   "metadata": {},
   "outputs": [],
   "source": [
    "la_train = la_train[la_train.county == 'los_angeles']"
   ]
  },
  {
   "cell_type": "code",
   "execution_count": null,
   "id": "9ee6ac20",
   "metadata": {},
   "outputs": [],
   "source": [
    "ventura_train.to_csv(\"ventura_locations.csv\")\n",
    "la_train.to_csv(\"la_locations.csv\")\n",
    "orange_train.to_csv(\"orange_locations.csv\")"
   ]
  },
  {
   "cell_type": "code",
   "execution_count": null,
   "id": "64b11a56",
   "metadata": {},
   "outputs": [],
   "source": [
    "ventura_train.info()"
   ]
  },
  {
   "cell_type": "code",
   "execution_count": null,
   "id": "37144c1b",
   "metadata": {},
   "outputs": [],
   "source": [
    "ventura_train['latitude'] = ventura_train.latitude.astype(str)"
   ]
  },
  {
   "cell_type": "code",
   "execution_count": null,
   "id": "2224e242",
   "metadata": {},
   "outputs": [],
   "source": [
    "ventura_train['latitude'].dtype"
   ]
  },
  {
   "cell_type": "code",
   "execution_count": null,
   "id": "628540e2",
   "metadata": {},
   "outputs": [],
   "source": [
    "ventura_train['latitude'] = np.where(ventura_train['latitude']==' ',0, ventura_train['latitude']).astype(float)"
   ]
  },
  {
   "cell_type": "code",
   "execution_count": null,
   "id": "03892369",
   "metadata": {},
   "outputs": [],
   "source": [
    "ventura_train['longitude'] = ventura_train.longitude.astype(str)"
   ]
  },
  {
   "cell_type": "code",
   "execution_count": null,
   "id": "34e07d62",
   "metadata": {},
   "outputs": [],
   "source": [
    "ventura_train['longitude'] = ventura_train['longitude'].str.rstrip('.0') "
   ]
  },
  {
   "cell_type": "code",
   "execution_count": null,
   "id": "24107be0",
   "metadata": {},
   "outputs": [],
   "source": [
    "ventura_train['longitude']"
   ]
  },
  {
   "cell_type": "code",
   "execution_count": null,
   "id": "aa208cb2",
   "metadata": {},
   "outputs": [],
   "source": [
    "ventura_train['longitude'] = np.where(ventura_train['longitude']==' ',0, ventura_train['longitude']).astype(float)"
   ]
  },
  {
   "cell_type": "code",
   "execution_count": null,
   "id": "d181d105",
   "metadata": {},
   "outputs": [],
   "source": [
    "import geopy"
   ]
  },
  {
   "cell_type": "code",
   "execution_count": null,
   "id": "19b5cdcc",
   "metadata": {},
   "outputs": [],
   "source": [
    "def get_zipcode(ventura_train, geolocator, lat_field, lon_field):\n",
    "    location = geolocator.reverse((ventura_train['latitude'], ventura_train['longitude']))\n",
    "    return location.raw['address']['postcode']\n",
    "\n",
    "geolocator = geopy.Nominatim(user_agent='mlshiben')"
   ]
  },
  {
   "cell_type": "code",
   "execution_count": null,
   "id": "b023adc3",
   "metadata": {},
   "outputs": [],
   "source": [
    "ventura_train.get('latitude')"
   ]
  },
  {
   "cell_type": "code",
   "execution_count": null,
   "id": "da7b517e",
   "metadata": {},
   "outputs": [],
   "source": [
    "import geocoder"
   ]
  },
  {
   "cell_type": "code",
   "execution_count": null,
   "id": "ebd7dcf9",
   "metadata": {},
   "outputs": [],
   "source": [
    "from geopy.extra.rate_limiter import RateLimiter\n",
    "\n",
    "# 1 - conveneint function to delay between geocoding calls\n",
    "geocode = RateLimiter(geolocator.reverse, min_delay_seconds=50)"
   ]
  },
  {
   "cell_type": "code",
   "execution_count": null,
   "id": "3c57e290",
   "metadata": {},
   "outputs": [],
   "source": [
    "def geo_rev(ventura_train):\n",
    "    g = geocoder.osm([ventura_train.latitude, ventura_train.longitude], method='reverse').json\n",
    "    if g:\n",
    "        return g.get('postal')\n",
    "    else:\n",
    "        return 'no postal'\n",
    "\n",
    "ventura_zips = ventura_train[['latitude', 'longitude']].apply(geo_rev, axis=1)\n"
   ]
  },
  {
   "cell_type": "code",
   "execution_count": null,
   "id": "a1a6bc5e",
   "metadata": {},
   "outputs": [],
   "source": [
    "g = geocoder.osm(ventura_train['latitude'], ventura_train['longitude']), method='reverse')\n",
    "g.json['postal']"
   ]
  },
  {
   "cell_type": "code",
   "execution_count": null,
   "id": "7a4bf45b",
   "metadata": {},
   "outputs": [],
   "source": [
    "zipcodes = ventura_train.apply(get_zipcode, geolocator=geolocator, lat_field ='latitude', lon_field = 'longitude')"
   ]
  },
  {
   "cell_type": "code",
   "execution_count": null,
   "id": "7960a8f9",
   "metadata": {},
   "outputs": [],
   "source": []
  }
 ],
 "metadata": {
  "kernelspec": {
   "display_name": "Python 3 (ipykernel)",
   "language": "python",
   "name": "python3"
  },
  "language_info": {
   "codemirror_mode": {
    "name": "ipython",
    "version": 3
   },
   "file_extension": ".py",
   "mimetype": "text/x-python",
   "name": "python",
   "nbconvert_exporter": "python",
   "pygments_lexer": "ipython3",
   "version": "3.9.7"
  }
 },
 "nbformat": 4,
 "nbformat_minor": 5
}

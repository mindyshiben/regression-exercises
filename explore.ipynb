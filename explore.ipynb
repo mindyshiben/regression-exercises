{
 "cells": [
  {
   "cell_type": "code",
   "execution_count": 1,
   "id": "3867a004",
   "metadata": {},
   "outputs": [],
   "source": [
    "import warnings\n",
    "warnings.filterwarnings(\"ignore\")\n",
    "\n",
    "import pandas as pd\n",
    "import numpy as np\n",
    "\n",
    "import matplotlib.pyplot as plt\n",
    "import seaborn as sns\n",
    "\n",
    "from sklearn.model_selection import train_test_split\n",
    "from scipy.stats import pearsonr, spearmanr\n",
    "\n",
    "import env\n",
    "import acquire\n",
    "import wrangle"
   ]
  },
  {
   "cell_type": "code",
   "execution_count": 2,
   "id": "9356a283",
   "metadata": {},
   "outputs": [],
   "source": [
    "from math import sqrt\n",
    "from scipy import stats"
   ]
  },
  {
   "cell_type": "code",
   "execution_count": 3,
   "id": "d44a3386",
   "metadata": {},
   "outputs": [],
   "source": [
    "df = acquire.get_zillow_data()"
   ]
  },
  {
   "cell_type": "code",
   "execution_count": 4,
   "id": "ade6a0c7",
   "metadata": {},
   "outputs": [
    {
     "name": "stdout",
     "output_type": "stream",
     "text": [
      "<class 'pandas.core.frame.DataFrame'>\n",
      "RangeIndex: 2152863 entries, 0 to 2152862\n",
      "Data columns (total 12 columns):\n",
      " #   Column                        Dtype  \n",
      "---  ------                        -----  \n",
      " 0   Unnamed: 0                    int64  \n",
      " 1   parcelid                      int64  \n",
      " 2   bedroomcnt                    float64\n",
      " 3   bathroomcnt                   float64\n",
      " 4   calculatedfinishedsquarefeet  float64\n",
      " 5   taxvaluedollarcnt             float64\n",
      " 6   yearbuilt                     float64\n",
      " 7   taxamount                     float64\n",
      " 8   fips                          float64\n",
      " 9   assessmentyear                float64\n",
      " 10  landtaxvaluedollarcnt         float64\n",
      " 11  lotsizesquarefeet             float64\n",
      "dtypes: float64(10), int64(2)\n",
      "memory usage: 197.1 MB\n"
     ]
    }
   ],
   "source": [
    "df.info()"
   ]
  },
  {
   "cell_type": "code",
   "execution_count": 5,
   "id": "b33561cb",
   "metadata": {},
   "outputs": [
    {
     "data": {
      "text/plain": [
       "0.01705589254866659"
      ]
     },
     "execution_count": 5,
     "metadata": {},
     "output_type": "execute_result"
    }
   ],
   "source": [
    "df.isna().sum().sum() / len(df)"
   ]
  },
  {
   "cell_type": "code",
   "execution_count": 6,
   "id": "b010e384",
   "metadata": {},
   "outputs": [],
   "source": [
    "df = wrangle.wrangle_zillow(df)"
   ]
  },
  {
   "cell_type": "code",
   "execution_count": 7,
   "id": "5fc998a7",
   "metadata": {},
   "outputs": [
    {
     "name": "stdout",
     "output_type": "stream",
     "text": [
      "<class 'pandas.core.frame.DataFrame'>\n",
      "Int64Index: 2118616 entries, 4 to 2152861\n",
      "Data columns (total 13 columns):\n",
      " #   Column                 Dtype  \n",
      "---  ------                 -----  \n",
      " 0   Unnamed: 0             int64  \n",
      " 1   parcelid               int64  \n",
      " 2   bedrooms               float64\n",
      " 3   bathrooms              float64\n",
      " 4   square_feet            int64  \n",
      " 5   value                  int64  \n",
      " 6   year                   int64  \n",
      " 7   tax                    float64\n",
      " 8   fips                   int64  \n",
      " 9   assessmentyear         float64\n",
      " 10  landtaxvaluedollarcnt  float64\n",
      " 11  lotsizesquarefeet      float64\n",
      " 12  county                 object \n",
      "dtypes: float64(6), int64(6), object(1)\n",
      "memory usage: 226.3+ MB\n"
     ]
    }
   ],
   "source": [
    "df.info()"
   ]
  },
  {
   "cell_type": "code",
   "execution_count": 8,
   "id": "ed0d54dc",
   "metadata": {},
   "outputs": [],
   "source": [
    "df.rename(columns={'landtaxvaluedollarcnt': 'land_value', 'lotsizesquarefeet': 'lot_square_feet'}, inplace=True) "
   ]
  },
  {
   "cell_type": "code",
   "execution_count": 9,
   "id": "00fa1d87",
   "metadata": {},
   "outputs": [
    {
     "name": "stdout",
     "output_type": "stream",
     "text": [
      "<class 'pandas.core.frame.DataFrame'>\n",
      "Int64Index: 2118616 entries, 4 to 2152861\n",
      "Data columns (total 13 columns):\n",
      " #   Column           Dtype  \n",
      "---  ------           -----  \n",
      " 0   Unnamed: 0       int64  \n",
      " 1   parcelid         int64  \n",
      " 2   bedrooms         float64\n",
      " 3   bathrooms        float64\n",
      " 4   square_feet      int64  \n",
      " 5   value            int64  \n",
      " 6   year             int64  \n",
      " 7   tax              float64\n",
      " 8   fips             int64  \n",
      " 9   assessmentyear   float64\n",
      " 10  land_value       float64\n",
      " 11  lot_square_feet  float64\n",
      " 12  county           object \n",
      "dtypes: float64(6), int64(6), object(1)\n",
      "memory usage: 226.3+ MB\n"
     ]
    }
   ],
   "source": [
    "df.info()"
   ]
  },
  {
   "cell_type": "markdown",
   "id": "d01010fd",
   "metadata": {},
   "source": [
    "### Hypotheses, Questions, what I want to explore-\n",
    "\n",
    "    - bedrooms, bathrooms, and square feet- want to assess this relationship\n",
    "    - is the pecrentage of tax to value consistent based on county?\n",
    "    - is tax impacted by year built?\n",
    "    - what zipcodes fall under what fips?\n",
    "    - what is the relationship of zipcode to value?\n",
    "    - is home square feet or lot square feet more correlated to value?\n",
    "    - how much are home square footage and lot square footage correlated to eachother?\n",
    "    - how is year built related to value?"
   ]
  },
  {
   "cell_type": "code",
   "execution_count": 9,
   "id": "c9e7ae16",
   "metadata": {},
   "outputs": [],
   "source": [
    "df['zipcode'] = df['zipcode'].astype('int')"
   ]
  },
  {
   "cell_type": "code",
   "execution_count": 10,
   "id": "84b88575",
   "metadata": {},
   "outputs": [
    {
     "data": {
      "text/plain": [
       "96322     483\n",
       "97324     455\n",
       "96151     451\n",
       "399675    380\n",
       "96323     340\n",
       "97108     340\n",
       "95993     301\n",
       "96009     291\n",
       "96207     289\n",
       "96289     215\n",
       "96434     206\n",
       "96038     182\n",
       "96226     175\n",
       "95996     139\n",
       "96039     102\n",
       "95995      87\n",
       "96148      46\n",
       "96467      35\n",
       "97092      34\n",
       "97339      28\n",
       "95998      20\n",
       "97177      12\n",
       "96002       9\n",
       "97336       4\n",
       "96859       2\n",
       "96500       1\n",
       "95991       1\n",
       "96048       1\n",
       "97088       1\n",
       "95994       1\n",
       "Name: zipcode, dtype: int64"
      ]
     },
     "execution_count": 10,
     "metadata": {},
     "output_type": "execute_result"
    }
   ],
   "source": [
    "df.zipcode.value_counts().tail(30)"
   ]
  },
  {
   "cell_type": "code",
   "execution_count": 46,
   "id": "f03c21c4",
   "metadata": {},
   "outputs": [],
   "source": [
    "train_and_validate, test = train_test_split(df, test_size=.2, random_state=123)\n",
    "train, validate = train_test_split(train_and_validate, test_size=.3, random_state=123)"
   ]
  },
  {
   "cell_type": "code",
   "execution_count": 11,
   "id": "680822fc",
   "metadata": {},
   "outputs": [],
   "source": [
    "## Why is 399675 a zipcode?\n",
    "## I don't see anything that jumps out other than all in LA"
   ]
  },
  {
   "cell_type": "code",
   "execution_count": 12,
   "id": "450a9123",
   "metadata": {},
   "outputs": [
    {
     "data": {
      "text/html": [
       "<div>\n",
       "<style scoped>\n",
       "    .dataframe tbody tr th:only-of-type {\n",
       "        vertical-align: middle;\n",
       "    }\n",
       "\n",
       "    .dataframe tbody tr th {\n",
       "        vertical-align: top;\n",
       "    }\n",
       "\n",
       "    .dataframe thead th {\n",
       "        text-align: right;\n",
       "    }\n",
       "</style>\n",
       "<table border=\"1\" class=\"dataframe\">\n",
       "  <thead>\n",
       "    <tr style=\"text-align: right;\">\n",
       "      <th></th>\n",
       "      <th>Unnamed: 0</th>\n",
       "      <th>bedrooms</th>\n",
       "      <th>bathrooms</th>\n",
       "      <th>square_feet</th>\n",
       "      <th>value</th>\n",
       "      <th>year</th>\n",
       "      <th>tax</th>\n",
       "      <th>fips</th>\n",
       "      <th>assessmentyear</th>\n",
       "      <th>land_value</th>\n",
       "      <th>lot_square_feet</th>\n",
       "      <th>zipcode</th>\n",
       "      <th>county</th>\n",
       "    </tr>\n",
       "  </thead>\n",
       "  <tbody>\n",
       "    <tr>\n",
       "      <th>7165</th>\n",
       "      <td>7165</td>\n",
       "      <td>4.0</td>\n",
       "      <td>4.0</td>\n",
       "      <td>4280</td>\n",
       "      <td>2724804</td>\n",
       "      <td>1980</td>\n",
       "      <td>37382.31</td>\n",
       "      <td>6037</td>\n",
       "      <td>2016.0</td>\n",
       "      <td>1623703.0</td>\n",
       "      <td>92746.0</td>\n",
       "      <td>399675</td>\n",
       "      <td>los_angeles</td>\n",
       "    </tr>\n",
       "    <tr>\n",
       "      <th>7166</th>\n",
       "      <td>7166</td>\n",
       "      <td>3.0</td>\n",
       "      <td>3.0</td>\n",
       "      <td>1987</td>\n",
       "      <td>208877</td>\n",
       "      <td>1981</td>\n",
       "      <td>2886.80</td>\n",
       "      <td>6037</td>\n",
       "      <td>2016.0</td>\n",
       "      <td>54036.0</td>\n",
       "      <td>23671.0</td>\n",
       "      <td>399675</td>\n",
       "      <td>los_angeles</td>\n",
       "    </tr>\n",
       "    <tr>\n",
       "      <th>7167</th>\n",
       "      <td>7167</td>\n",
       "      <td>3.0</td>\n",
       "      <td>2.0</td>\n",
       "      <td>1895</td>\n",
       "      <td>719700</td>\n",
       "      <td>1962</td>\n",
       "      <td>8945.78</td>\n",
       "      <td>6037</td>\n",
       "      <td>2016.0</td>\n",
       "      <td>478141.0</td>\n",
       "      <td>15772.0</td>\n",
       "      <td>399675</td>\n",
       "      <td>los_angeles</td>\n",
       "    </tr>\n",
       "    <tr>\n",
       "      <th>21235</th>\n",
       "      <td>21235</td>\n",
       "      <td>4.0</td>\n",
       "      <td>4.0</td>\n",
       "      <td>3568</td>\n",
       "      <td>613776</td>\n",
       "      <td>2006</td>\n",
       "      <td>7639.93</td>\n",
       "      <td>6037</td>\n",
       "      <td>2016.0</td>\n",
       "      <td>210022.0</td>\n",
       "      <td>28595.0</td>\n",
       "      <td>399675</td>\n",
       "      <td>los_angeles</td>\n",
       "    </tr>\n",
       "    <tr>\n",
       "      <th>28597</th>\n",
       "      <td>28597</td>\n",
       "      <td>3.0</td>\n",
       "      <td>2.0</td>\n",
       "      <td>2264</td>\n",
       "      <td>848586</td>\n",
       "      <td>1955</td>\n",
       "      <td>10261.75</td>\n",
       "      <td>6037</td>\n",
       "      <td>2016.0</td>\n",
       "      <td>566808.0</td>\n",
       "      <td>87400.0</td>\n",
       "      <td>399675</td>\n",
       "      <td>los_angeles</td>\n",
       "    </tr>\n",
       "    <tr>\n",
       "      <th>...</th>\n",
       "      <td>...</td>\n",
       "      <td>...</td>\n",
       "      <td>...</td>\n",
       "      <td>...</td>\n",
       "      <td>...</td>\n",
       "      <td>...</td>\n",
       "      <td>...</td>\n",
       "      <td>...</td>\n",
       "      <td>...</td>\n",
       "      <td>...</td>\n",
       "      <td>...</td>\n",
       "      <td>...</td>\n",
       "      <td>...</td>\n",
       "    </tr>\n",
       "    <tr>\n",
       "      <th>2149192</th>\n",
       "      <td>2149192</td>\n",
       "      <td>4.0</td>\n",
       "      <td>3.0</td>\n",
       "      <td>3230</td>\n",
       "      <td>546982</td>\n",
       "      <td>1978</td>\n",
       "      <td>6898.67</td>\n",
       "      <td>6037</td>\n",
       "      <td>2016.0</td>\n",
       "      <td>176393.0</td>\n",
       "      <td>20050.0</td>\n",
       "      <td>399675</td>\n",
       "      <td>los_angeles</td>\n",
       "    </tr>\n",
       "    <tr>\n",
       "      <th>2149193</th>\n",
       "      <td>2149193</td>\n",
       "      <td>3.0</td>\n",
       "      <td>2.0</td>\n",
       "      <td>1352</td>\n",
       "      <td>685293</td>\n",
       "      <td>1954</td>\n",
       "      <td>8346.39</td>\n",
       "      <td>6037</td>\n",
       "      <td>2016.0</td>\n",
       "      <td>558387.0</td>\n",
       "      <td>7615.0</td>\n",
       "      <td>399675</td>\n",
       "      <td>los_angeles</td>\n",
       "    </tr>\n",
       "    <tr>\n",
       "      <th>2149194</th>\n",
       "      <td>2149194</td>\n",
       "      <td>3.0</td>\n",
       "      <td>2.0</td>\n",
       "      <td>1832</td>\n",
       "      <td>358930</td>\n",
       "      <td>1954</td>\n",
       "      <td>4542.88</td>\n",
       "      <td>6037</td>\n",
       "      <td>2016.0</td>\n",
       "      <td>144575.0</td>\n",
       "      <td>8259.0</td>\n",
       "      <td>399675</td>\n",
       "      <td>los_angeles</td>\n",
       "    </tr>\n",
       "    <tr>\n",
       "      <th>2149195</th>\n",
       "      <td>2149195</td>\n",
       "      <td>3.0</td>\n",
       "      <td>4.0</td>\n",
       "      <td>5158</td>\n",
       "      <td>1042677</td>\n",
       "      <td>1987</td>\n",
       "      <td>12826.38</td>\n",
       "      <td>6037</td>\n",
       "      <td>2016.0</td>\n",
       "      <td>561332.0</td>\n",
       "      <td>49560.0</td>\n",
       "      <td>399675</td>\n",
       "      <td>los_angeles</td>\n",
       "    </tr>\n",
       "    <tr>\n",
       "      <th>2149196</th>\n",
       "      <td>2149196</td>\n",
       "      <td>4.0</td>\n",
       "      <td>4.0</td>\n",
       "      <td>3869</td>\n",
       "      <td>5044253</td>\n",
       "      <td>1950</td>\n",
       "      <td>64693.61</td>\n",
       "      <td>6037</td>\n",
       "      <td>2016.0</td>\n",
       "      <td>4837147.0</td>\n",
       "      <td>194594.0</td>\n",
       "      <td>399675</td>\n",
       "      <td>los_angeles</td>\n",
       "    </tr>\n",
       "  </tbody>\n",
       "</table>\n",
       "<p>380 rows × 13 columns</p>\n",
       "</div>"
      ],
      "text/plain": [
       "         Unnamed: 0  bedrooms  bathrooms  square_feet    value  year  \\\n",
       "7165           7165       4.0        4.0         4280  2724804  1980   \n",
       "7166           7166       3.0        3.0         1987   208877  1981   \n",
       "7167           7167       3.0        2.0         1895   719700  1962   \n",
       "21235         21235       4.0        4.0         3568   613776  2006   \n",
       "28597         28597       3.0        2.0         2264   848586  1955   \n",
       "...             ...       ...        ...          ...      ...   ...   \n",
       "2149192     2149192       4.0        3.0         3230   546982  1978   \n",
       "2149193     2149193       3.0        2.0         1352   685293  1954   \n",
       "2149194     2149194       3.0        2.0         1832   358930  1954   \n",
       "2149195     2149195       3.0        4.0         5158  1042677  1987   \n",
       "2149196     2149196       4.0        4.0         3869  5044253  1950   \n",
       "\n",
       "              tax  fips  assessmentyear  land_value  lot_square_feet  zipcode  \\\n",
       "7165     37382.31  6037          2016.0   1623703.0          92746.0   399675   \n",
       "7166      2886.80  6037          2016.0     54036.0          23671.0   399675   \n",
       "7167      8945.78  6037          2016.0    478141.0          15772.0   399675   \n",
       "21235     7639.93  6037          2016.0    210022.0          28595.0   399675   \n",
       "28597    10261.75  6037          2016.0    566808.0          87400.0   399675   \n",
       "...           ...   ...             ...         ...              ...      ...   \n",
       "2149192   6898.67  6037          2016.0    176393.0          20050.0   399675   \n",
       "2149193   8346.39  6037          2016.0    558387.0           7615.0   399675   \n",
       "2149194   4542.88  6037          2016.0    144575.0           8259.0   399675   \n",
       "2149195  12826.38  6037          2016.0    561332.0          49560.0   399675   \n",
       "2149196  64693.61  6037          2016.0   4837147.0         194594.0   399675   \n",
       "\n",
       "              county  \n",
       "7165     los_angeles  \n",
       "7166     los_angeles  \n",
       "7167     los_angeles  \n",
       "21235    los_angeles  \n",
       "28597    los_angeles  \n",
       "...              ...  \n",
       "2149192  los_angeles  \n",
       "2149193  los_angeles  \n",
       "2149194  los_angeles  \n",
       "2149195  los_angeles  \n",
       "2149196  los_angeles  \n",
       "\n",
       "[380 rows x 13 columns]"
      ]
     },
     "execution_count": 12,
     "metadata": {},
     "output_type": "execute_result"
    }
   ],
   "source": [
    "df[df.zipcode == 399675]"
   ]
  },
  {
   "cell_type": "code",
   "execution_count": 48,
   "id": "04d29014",
   "metadata": {},
   "outputs": [
    {
     "data": {
      "text/plain": [
       "fips\n",
       "False    979542\n",
       "True     111411\n",
       "Name: zipcode, dtype: int64"
      ]
     },
     "execution_count": 48,
     "metadata": {},
     "output_type": "execute_result"
    }
   ],
   "source": [
    "train['zipcode'].value_counts().groupby(df.fips == 6037).sum()"
   ]
  },
  {
   "cell_type": "code",
   "execution_count": 49,
   "id": "631812a6",
   "metadata": {},
   "outputs": [
    {
     "data": {
      "text/plain": [
       "Text(0.5, 1.0, 'Zipcode Distribution for Los Angeles')"
      ]
     },
     "execution_count": 49,
     "metadata": {},
     "output_type": "execute_result"
    },
    {
     "data": {
      "image/png": "[encoded data removed]",
      "text/plain": [
       "<Figure size 864x288 with 1 Axes>"
      ]
     },
     "metadata": {
      "needs_background": "light"
     },
     "output_type": "display_data"
    }
   ],
   "source": [
    "plt.figure(figsize=(12,4))\n",
    "train['zipcode'].value_counts().groupby(train.fips == 6037).plot(kind='bar')\n",
    "plt.title('Zipcode Distribution for Los Angeles')"
   ]
  },
  {
   "cell_type": "code",
   "execution_count": 55,
   "id": "d58d8d9b",
   "metadata": {},
   "outputs": [
    {
     "data": {
      "text/plain": [
       "Text(0.5, 1.0, 'Zipcode Distribution for Orange County')"
      ]
     },
     "execution_count": 55,
     "metadata": {},
     "output_type": "execute_result"
    },
    {
     "data": {
      "image/png": "[encoded data removed]",
      "text/plain": [
       "<Figure size 1296x216 with 1 Axes>"
      ]
     },
     "metadata": {
      "needs_background": "light"
     },
     "output_type": "display_data"
    }
   ],
   "source": [
    "plt.figure(figsize=(18,3))\n",
    "train['zipcode'].value_counts().groupby(train.fips == 6059).plot(kind='bar')\n",
    "plt.title('Zipcode Distribution for Orange County')"
   ]
  },
  {
   "cell_type": "code",
   "execution_count": 56,
   "id": "db944209",
   "metadata": {},
   "outputs": [
    {
     "data": {
      "text/plain": [
       "Text(0.5, 1.0, 'Zipcode Distribution for Ventura County')"
      ]
     },
     "execution_count": 56,
     "metadata": {},
     "output_type": "execute_result"
    },
    {
     "data": {
      "image/png": "[encoded data removed]",
      "text/plain": [
       "<Figure size 864x216 with 1 Axes>"
      ]
     },
     "metadata": {
      "needs_background": "light"
     },
     "output_type": "display_data"
    }
   ],
   "source": [
    "plt.figure(figsize=(12,3))\n",
    "train['zipcode'].value_counts().groupby(train.fips == 6111).plot(kind='bar')\n",
    "plt.title('Zipcode Distribution for Ventura County')"
   ]
  },
  {
   "cell_type": "code",
   "execution_count": 59,
   "id": "1ff4113b",
   "metadata": {},
   "outputs": [
    {
     "data": {
      "text/plain": [
       "436805.7115742218"
      ]
     },
     "execution_count": 59,
     "metadata": {},
     "output_type": "execute_result"
    }
   ],
   "source": [
    "(train['value'].where(train.fips == 6111)).mean()"
   ]
  },
  {
   "cell_type": "code",
   "execution_count": 61,
   "id": "536fd5bf",
   "metadata": {},
   "outputs": [
    {
     "data": {
      "text/plain": [
       "516157.1308810421"
      ]
     },
     "execution_count": 61,
     "metadata": {},
     "output_type": "execute_result"
    }
   ],
   "source": [
    "(train['value'].where(train.fips == 6059)).mean()"
   ]
  },
  {
   "cell_type": "code",
   "execution_count": 62,
   "id": "894f7bca",
   "metadata": {},
   "outputs": [
    {
     "data": {
      "text/plain": [
       "416132.97661612625"
      ]
     },
     "execution_count": 62,
     "metadata": {},
     "output_type": "execute_result"
    }
   ],
   "source": [
    "(train['value'].where(train.fips == 6037)).mean()"
   ]
  },
  {
   "cell_type": "code",
   "execution_count": 88,
   "id": "842b2cb3",
   "metadata": {},
   "outputs": [
    {
     "data": {
      "text/plain": [
       "4994.034866806749"
      ]
     },
     "execution_count": 88,
     "metadata": {},
     "output_type": "execute_result"
    }
   ],
   "source": [
    "(train['tax'].where(train.fips == 6111)).mean()"
   ]
  },
  {
   "cell_type": "code",
   "execution_count": 89,
   "id": "51eab206",
   "metadata": {},
   "outputs": [
    {
     "data": {
      "text/plain": [
       "5962.64332783545"
      ]
     },
     "execution_count": 89,
     "metadata": {},
     "output_type": "execute_result"
    }
   ],
   "source": [
    "(train['tax'].where(train.fips == 6059)).mean()"
   ]
  },
  {
   "cell_type": "code",
   "execution_count": 90,
   "id": "54308885",
   "metadata": {},
   "outputs": [
    {
     "data": {
      "text/plain": [
       "5252.594423162487"
      ]
     },
     "execution_count": 90,
     "metadata": {},
     "output_type": "execute_result"
    }
   ],
   "source": [
    "(train['tax'].where(train.fips == 6037)).mean()"
   ]
  },
  {
   "cell_type": "code",
   "execution_count": 91,
   "id": "633d5fe9",
   "metadata": {},
   "outputs": [
    {
     "data": {
      "text/plain": [
       "<AxesSubplot:xlabel='value', ylabel='tax'>"
      ]
     },
     "execution_count": 91,
     "metadata": {},
     "output_type": "execute_result"
    },
    {
     "data": {
      "image/png": "[encoded data removed]",
      "text/plain": [
       "<Figure size 432x288 with 1 Axes>"
      ]
     },
     "metadata": {
      "needs_background": "light"
     },
     "output_type": "display_data"
    }
   ],
   "source": [
    "sns.scatterplot(x='value', y='tax', data=train, hue='county')"
   ]
  },
  {
   "cell_type": "markdown",
   "id": "a6a0f959",
   "metadata": {},
   "source": [
    "Takeaway- average tax is different per county"
   ]
  },
  {
   "cell_type": "code",
   "execution_count": 63,
   "id": "3961897b",
   "metadata": {},
   "outputs": [
    {
     "data": {
      "text/plain": [
       "<AxesSubplot:xlabel='county', ylabel='value'>"
      ]
     },
     "execution_count": 63,
     "metadata": {},
     "output_type": "execute_result"
    },
    {
     "data": {
      "image/png": "[encoded data removed]",
      "text/plain": [
       "<Figure size 432x288 with 1 Axes>"
      ]
     },
     "metadata": {
      "needs_background": "light"
     },
     "output_type": "display_data"
    }
   ],
   "source": [
    "sns.barplot(x='county', y='value', data=train)"
   ]
  },
  {
   "cell_type": "code",
   "execution_count": 78,
   "id": "d2801fd6",
   "metadata": {},
   "outputs": [
    {
     "data": {
      "text/plain": [
       "<AxesSubplot:xlabel='zipcode', ylabel='value'>"
      ]
     },
     "execution_count": 78,
     "metadata": {},
     "output_type": "execute_result"
    },
    {
     "data": {
      "image/png": "[encoded data removed]",
      "text/plain": [
       "<Figure size 432x288 with 1 Axes>"
      ]
     },
     "metadata": {
      "needs_background": "light"
     },
     "output_type": "display_data"
    }
   ],
   "source": [
    "sns.barplot(x='zipcode', y='value', data=train)"
   ]
  },
  {
   "cell_type": "code",
   "execution_count": 126,
   "id": "22000c90",
   "metadata": {},
   "outputs": [
    {
     "data": {
      "text/plain": [
       "<AxesSubplot:xlabel='assessmentyear', ylabel='value'>"
      ]
     },
     "execution_count": 126,
     "metadata": {},
     "output_type": "execute_result"
    },
    {
     "data": {
      "image/png": "[encoded data removed]",
      "text/plain": [
       "<Figure size 432x288 with 1 Axes>"
      ]
     },
     "metadata": {
      "needs_background": "light"
     },
     "output_type": "display_data"
    }
   ],
   "source": [
    "sns.barplot(x='assessmentyear', y='value', data =train)"
   ]
  },
  {
   "cell_type": "code",
   "execution_count": 127,
   "id": "75f49b4a",
   "metadata": {},
   "outputs": [
    {
     "data": {
      "text/plain": [
       "2016.0    1185665\n",
       "2015.0         27\n",
       "Name: assessmentyear, dtype: int64"
      ]
     },
     "execution_count": 127,
     "metadata": {},
     "output_type": "execute_result"
    }
   ],
   "source": [
    "train.assessmentyear.value_counts()"
   ]
  },
  {
   "cell_type": "code",
   "execution_count": 79,
   "id": "9dbcae8e",
   "metadata": {},
   "outputs": [
    {
     "data": {
      "text/plain": [
       "<AxesSubplot:title={'center':'Feature Correlation to Tax Value'}>"
      ]
     },
     "execution_count": 79,
     "metadata": {},
     "output_type": "execute_result"
    },
    {
     "data": {
      "image/png": "[encoded data removed]",
      "text/plain": [
       "<Figure size 1296x1080 with 1 Axes>"
      ]
     },
     "metadata": {
      "needs_background": "light"
     },
     "output_type": "display_data"
    }
   ],
   "source": [
    "plt.figure(figsize=(18,15))\n",
    "plt.title(\"Feature Correlation to Tax Value\")\n",
    "corr_chart = train.drop(\"value\", axis=1).corrwith(train['value']).sort_values().plot.barh()\n",
    "corr_chart"
   ]
  },
  {
   "cell_type": "code",
   "execution_count": 85,
   "id": "4fe29fd5",
   "metadata": {},
   "outputs": [
    {
     "data": {
      "image/png": "[encoded data removed]",
      "text/plain": [
       "<Figure size 454.375x360 with 1 Axes>"
      ]
     },
     "metadata": {
      "needs_background": "light"
     },
     "output_type": "display_data"
    }
   ],
   "source": [
    "sns.relplot(x=\"land_value\", y=\"value\", data=train, hue='county')\n",
    "plt.show()"
   ]
  },
  {
   "cell_type": "code",
   "execution_count": 83,
   "id": "0aa56daf",
   "metadata": {},
   "outputs": [
    {
     "data": {
      "image/png": "[encoded data removed]",
      "text/plain": [
       "<Figure size 432x288 with 1 Axes>"
      ]
     },
     "metadata": {
      "needs_background": "light"
     },
     "output_type": "display_data"
    }
   ],
   "source": [
    "sns.barplot(x=\"bathrooms\", y=\"value\", data=train)\n",
    "plt.show()"
   ]
  },
  {
   "cell_type": "code",
   "execution_count": 87,
   "id": "b299b2d8",
   "metadata": {},
   "outputs": [
    {
     "data": {
      "image/png": "[encoded data removed]",
      "text/plain": [
       "<Figure size 454.375x360 with 1 Axes>"
      ]
     },
     "metadata": {
      "needs_background": "light"
     },
     "output_type": "display_data"
    }
   ],
   "source": [
    "sns.relplot(x=\"tax\", y=\"value\", data=train, hue='county')\n",
    "plt.show()"
   ]
  },
  {
   "cell_type": "code",
   "execution_count": 95,
   "id": "5219ef35",
   "metadata": {},
   "outputs": [
    {
     "name": "stdout",
     "output_type": "stream",
     "text": [
      "[96190 96212 96971 ... 96341 96514 97118]\n"
     ]
    },
    {
     "ename": "AttributeError",
     "evalue": "'NoneType' object has no attribute 'unique'",
     "output_type": "error",
     "traceback": [
      "\u001b[0;31m---------------------------------------------------------------------------\u001b[0m",
      "\u001b[0;31mAttributeError\u001b[0m                            Traceback (most recent call last)",
      "\u001b[0;32m/var/folders/s4/hmz6ljm533vgpm_bhv59yw0m0000gn/T/ipykernel_3304/2063041262.py\u001b[0m in \u001b[0;36m<module>\u001b[0;34m\u001b[0m\n\u001b[1;32m      2\u001b[0m \u001b[0;34m\u001b[0m\u001b[0m\n\u001b[1;32m      3\u001b[0m \u001b[0;32mfor\u001b[0m \u001b[0mvalue\u001b[0m \u001b[0;32min\u001b[0m \u001b[0mtrain\u001b[0m\u001b[0;34m[\u001b[0m\u001b[0;34m'zipcode'\u001b[0m\u001b[0;34m]\u001b[0m\u001b[0;34m:\u001b[0m\u001b[0;34m\u001b[0m\u001b[0;34m\u001b[0m\u001b[0m\n\u001b[0;32m----> 4\u001b[0;31m     \u001b[0mprint\u001b[0m\u001b[0;34m(\u001b[0m\u001b[0mtrain\u001b[0m\u001b[0;34m[\u001b[0m\u001b[0;34m'zipcode'\u001b[0m\u001b[0;34m]\u001b[0m\u001b[0;34m.\u001b[0m\u001b[0mvalues\u001b[0m\u001b[0;34m)\u001b[0m\u001b[0;34m.\u001b[0m\u001b[0munique\u001b[0m\u001b[0;34m(\u001b[0m\u001b[0;34m)\u001b[0m\u001b[0;34m\u001b[0m\u001b[0;34m\u001b[0m\u001b[0m\n\u001b[0m",
      "\u001b[0;31mAttributeError\u001b[0m: 'NoneType' object has no attribute 'unique'"
     ]
    }
   ],
   "source": [
    "#train['zipcode'].value_counts().groupby(train.fips == 6111)\n",
    "\n",
    "for value in train['zipcode']:\n",
    "    print(train['zipcode'].values)"
   ]
  },
  {
   "cell_type": "code",
   "execution_count": 113,
   "id": "d46af620",
   "metadata": {},
   "outputs": [
    {
     "data": {
      "text/html": [
       "<div>\n",
       "<style scoped>\n",
       "    .dataframe tbody tr th:only-of-type {\n",
       "        vertical-align: middle;\n",
       "    }\n",
       "\n",
       "    .dataframe tbody tr th {\n",
       "        vertical-align: top;\n",
       "    }\n",
       "\n",
       "    .dataframe thead th {\n",
       "        text-align: right;\n",
       "    }\n",
       "</style>\n",
       "<table border=\"1\" class=\"dataframe\">\n",
       "  <thead>\n",
       "    <tr style=\"text-align: right;\">\n",
       "      <th></th>\n",
       "      <th>Unnamed: 0</th>\n",
       "      <th>bedrooms</th>\n",
       "      <th>bathrooms</th>\n",
       "      <th>square_feet</th>\n",
       "      <th>value</th>\n",
       "      <th>year</th>\n",
       "      <th>tax</th>\n",
       "      <th>fips</th>\n",
       "      <th>assessmentyear</th>\n",
       "      <th>land_value</th>\n",
       "      <th>lot_square_feet</th>\n",
       "      <th>zipcode</th>\n",
       "    </tr>\n",
       "    <tr>\n",
       "      <th>county</th>\n",
       "      <th></th>\n",
       "      <th></th>\n",
       "      <th></th>\n",
       "      <th></th>\n",
       "      <th></th>\n",
       "      <th></th>\n",
       "      <th></th>\n",
       "      <th></th>\n",
       "      <th></th>\n",
       "      <th></th>\n",
       "      <th></th>\n",
       "      <th></th>\n",
       "    </tr>\n",
       "  </thead>\n",
       "  <tbody>\n",
       "    <tr>\n",
       "      <th>los_angeles</th>\n",
       "      <td>1.075663e+06</td>\n",
       "      <td>3.193831</td>\n",
       "      <td>2.126859</td>\n",
       "      <td>1751.033422</td>\n",
       "      <td>416132.976616</td>\n",
       "      <td>1954.960914</td>\n",
       "      <td>5252.594423</td>\n",
       "      <td>6037.0</td>\n",
       "      <td>2015.999990</td>\n",
       "      <td>253955.529794</td>\n",
       "      <td>11286.124111</td>\n",
       "      <td>96411.474697</td>\n",
       "    </tr>\n",
       "    <tr>\n",
       "      <th>orange</th>\n",
       "      <td>1.079834e+06</td>\n",
       "      <td>3.496591</td>\n",
       "      <td>2.439648</td>\n",
       "      <td>2045.066870</td>\n",
       "      <td>516157.130881</td>\n",
       "      <td>1971.917654</td>\n",
       "      <td>5962.643328</td>\n",
       "      <td>6059.0</td>\n",
       "      <td>2015.999990</td>\n",
       "      <td>332996.461420</td>\n",
       "      <td>8618.700156</td>\n",
       "      <td>96920.752943</td>\n",
       "    </tr>\n",
       "    <tr>\n",
       "      <th>ventura</th>\n",
       "      <td>1.071895e+06</td>\n",
       "      <td>3.568137</td>\n",
       "      <td>2.394496</td>\n",
       "      <td>2005.448401</td>\n",
       "      <td>436805.711574</td>\n",
       "      <td>1973.965780</td>\n",
       "      <td>4994.034867</td>\n",
       "      <td>6111.0</td>\n",
       "      <td>2015.999824</td>\n",
       "      <td>222536.778143</td>\n",
       "      <td>12126.489696</td>\n",
       "      <td>96937.366691</td>\n",
       "    </tr>\n",
       "  </tbody>\n",
       "</table>\n",
       "</div>"
      ],
      "text/plain": [
       "               Unnamed: 0  bedrooms  bathrooms  square_feet          value  \\\n",
       "county                                                                       \n",
       "los_angeles  1.075663e+06  3.193831   2.126859  1751.033422  416132.976616   \n",
       "orange       1.079834e+06  3.496591   2.439648  2045.066870  516157.130881   \n",
       "ventura      1.071895e+06  3.568137   2.394496  2005.448401  436805.711574   \n",
       "\n",
       "                    year          tax    fips  assessmentyear     land_value  \\\n",
       "county                                                                         \n",
       "los_angeles  1954.960914  5252.594423  6037.0     2015.999990  253955.529794   \n",
       "orange       1971.917654  5962.643328  6059.0     2015.999990  332996.461420   \n",
       "ventura      1973.965780  4994.034867  6111.0     2015.999824  222536.778143   \n",
       "\n",
       "             lot_square_feet       zipcode  \n",
       "county                                      \n",
       "los_angeles     11286.124111  96411.474697  \n",
       "orange           8618.700156  96920.752943  \n",
       "ventura         12126.489696  96937.366691  "
      ]
     },
     "execution_count": 113,
     "metadata": {},
     "output_type": "execute_result"
    }
   ],
   "source": [
    "train.groupby(train.county).mean()"
   ]
  },
  {
   "cell_type": "code",
   "execution_count": 122,
   "id": "22f56ed1",
   "metadata": {},
   "outputs": [
    {
     "data": {
      "text/plain": [
       "327119.0"
      ]
     },
     "execution_count": 122,
     "metadata": {},
     "output_type": "execute_result"
    }
   ],
   "source": [
    "np.quantile(train.value, .5)"
   ]
  },
  {
   "cell_type": "code",
   "execution_count": 125,
   "id": "0aa01aeb",
   "metadata": {},
   "outputs": [
    {
     "data": {
      "text/html": [
       "<div>\n",
       "<style scoped>\n",
       "    .dataframe tbody tr th:only-of-type {\n",
       "        vertical-align: middle;\n",
       "    }\n",
       "\n",
       "    .dataframe tbody tr th {\n",
       "        vertical-align: top;\n",
       "    }\n",
       "\n",
       "    .dataframe thead th {\n",
       "        text-align: right;\n",
       "    }\n",
       "</style>\n",
       "<table border=\"1\" class=\"dataframe\">\n",
       "  <thead>\n",
       "    <tr style=\"text-align: right;\">\n",
       "      <th></th>\n",
       "      <th>zipcode</th>\n",
       "      <th>Unnamed: 0</th>\n",
       "      <th>bedrooms</th>\n",
       "      <th>bathrooms</th>\n",
       "      <th>square_feet</th>\n",
       "      <th>value</th>\n",
       "      <th>year</th>\n",
       "      <th>tax</th>\n",
       "      <th>fips</th>\n",
       "      <th>assessmentyear</th>\n",
       "      <th>land_value</th>\n",
       "      <th>lot_square_feet</th>\n",
       "    </tr>\n",
       "  </thead>\n",
       "  <tbody>\n",
       "    <tr>\n",
       "      <th>0</th>\n",
       "      <td>95982</td>\n",
       "      <td>1092256.0</td>\n",
       "      <td>2.0</td>\n",
       "      <td>1.0</td>\n",
       "      <td>1025.0</td>\n",
       "      <td>164199.0</td>\n",
       "      <td>1925.0</td>\n",
       "      <td>2394.470</td>\n",
       "      <td>6037.0</td>\n",
       "      <td>2016.0</td>\n",
       "      <td>99067.0</td>\n",
       "      <td>5100.0</td>\n",
       "    </tr>\n",
       "    <tr>\n",
       "      <th>1</th>\n",
       "      <td>95983</td>\n",
       "      <td>1103074.0</td>\n",
       "      <td>3.0</td>\n",
       "      <td>1.0</td>\n",
       "      <td>1056.0</td>\n",
       "      <td>166172.0</td>\n",
       "      <td>1940.0</td>\n",
       "      <td>2356.400</td>\n",
       "      <td>6037.0</td>\n",
       "      <td>2016.0</td>\n",
       "      <td>88455.0</td>\n",
       "      <td>5043.0</td>\n",
       "    </tr>\n",
       "    <tr>\n",
       "      <th>2</th>\n",
       "      <td>95984</td>\n",
       "      <td>1102971.5</td>\n",
       "      <td>2.0</td>\n",
       "      <td>1.0</td>\n",
       "      <td>1040.0</td>\n",
       "      <td>166585.5</td>\n",
       "      <td>1924.0</td>\n",
       "      <td>2193.870</td>\n",
       "      <td>6037.0</td>\n",
       "      <td>2016.0</td>\n",
       "      <td>96980.5</td>\n",
       "      <td>5200.0</td>\n",
       "    </tr>\n",
       "    <tr>\n",
       "      <th>3</th>\n",
       "      <td>95985</td>\n",
       "      <td>1037773.0</td>\n",
       "      <td>3.0</td>\n",
       "      <td>2.0</td>\n",
       "      <td>2002.0</td>\n",
       "      <td>579580.0</td>\n",
       "      <td>1921.0</td>\n",
       "      <td>7132.850</td>\n",
       "      <td>6037.0</td>\n",
       "      <td>2016.0</td>\n",
       "      <td>399886.0</td>\n",
       "      <td>7024.0</td>\n",
       "    </tr>\n",
       "    <tr>\n",
       "      <th>4</th>\n",
       "      <td>95986</td>\n",
       "      <td>1091676.0</td>\n",
       "      <td>4.0</td>\n",
       "      <td>3.0</td>\n",
       "      <td>2852.0</td>\n",
       "      <td>722842.0</td>\n",
       "      <td>1922.0</td>\n",
       "      <td>8786.020</td>\n",
       "      <td>6037.0</td>\n",
       "      <td>2016.0</td>\n",
       "      <td>505968.0</td>\n",
       "      <td>7801.0</td>\n",
       "    </tr>\n",
       "    <tr>\n",
       "      <th>...</th>\n",
       "      <td>...</td>\n",
       "      <td>...</td>\n",
       "      <td>...</td>\n",
       "      <td>...</td>\n",
       "      <td>...</td>\n",
       "      <td>...</td>\n",
       "      <td>...</td>\n",
       "      <td>...</td>\n",
       "      <td>...</td>\n",
       "      <td>...</td>\n",
       "      <td>...</td>\n",
       "      <td>...</td>\n",
       "    </tr>\n",
       "    <tr>\n",
       "      <th>381</th>\n",
       "      <td>97331</td>\n",
       "      <td>1041394.5</td>\n",
       "      <td>3.0</td>\n",
       "      <td>2.0</td>\n",
       "      <td>1561.0</td>\n",
       "      <td>157518.0</td>\n",
       "      <td>1978.0</td>\n",
       "      <td>1877.885</td>\n",
       "      <td>6037.0</td>\n",
       "      <td>2016.0</td>\n",
       "      <td>34950.0</td>\n",
       "      <td>44957.0</td>\n",
       "    </tr>\n",
       "    <tr>\n",
       "      <th>382</th>\n",
       "      <td>97336</td>\n",
       "      <td>820863.5</td>\n",
       "      <td>3.5</td>\n",
       "      <td>2.0</td>\n",
       "      <td>1932.0</td>\n",
       "      <td>212722.0</td>\n",
       "      <td>1972.0</td>\n",
       "      <td>2719.040</td>\n",
       "      <td>6037.0</td>\n",
       "      <td>2016.0</td>\n",
       "      <td>54711.5</td>\n",
       "      <td>114402.5</td>\n",
       "    </tr>\n",
       "    <tr>\n",
       "      <th>383</th>\n",
       "      <td>97339</td>\n",
       "      <td>1046790.0</td>\n",
       "      <td>2.0</td>\n",
       "      <td>1.0</td>\n",
       "      <td>1267.0</td>\n",
       "      <td>118800.0</td>\n",
       "      <td>1961.0</td>\n",
       "      <td>1234.180</td>\n",
       "      <td>6037.0</td>\n",
       "      <td>2016.0</td>\n",
       "      <td>24486.0</td>\n",
       "      <td>149578.0</td>\n",
       "    </tr>\n",
       "    <tr>\n",
       "      <th>384</th>\n",
       "      <td>97344</td>\n",
       "      <td>1079061.0</td>\n",
       "      <td>3.0</td>\n",
       "      <td>2.0</td>\n",
       "      <td>1322.0</td>\n",
       "      <td>108525.5</td>\n",
       "      <td>1986.0</td>\n",
       "      <td>1466.425</td>\n",
       "      <td>6037.0</td>\n",
       "      <td>2016.0</td>\n",
       "      <td>22017.0</td>\n",
       "      <td>24504.0</td>\n",
       "    </tr>\n",
       "    <tr>\n",
       "      <th>385</th>\n",
       "      <td>399675</td>\n",
       "      <td>1144807.5</td>\n",
       "      <td>4.0</td>\n",
       "      <td>3.0</td>\n",
       "      <td>2793.0</td>\n",
       "      <td>832170.5</td>\n",
       "      <td>1964.5</td>\n",
       "      <td>10140.900</td>\n",
       "      <td>6037.0</td>\n",
       "      <td>2016.0</td>\n",
       "      <td>533231.5</td>\n",
       "      <td>43947.5</td>\n",
       "    </tr>\n",
       "  </tbody>\n",
       "</table>\n",
       "<p>386 rows × 12 columns</p>\n",
       "</div>"
      ],
      "text/plain": [
       "     zipcode  Unnamed: 0  bedrooms  bathrooms  square_feet     value    year  \\\n",
       "0      95982   1092256.0       2.0        1.0       1025.0  164199.0  1925.0   \n",
       "1      95983   1103074.0       3.0        1.0       1056.0  166172.0  1940.0   \n",
       "2      95984   1102971.5       2.0        1.0       1040.0  166585.5  1924.0   \n",
       "3      95985   1037773.0       3.0        2.0       2002.0  579580.0  1921.0   \n",
       "4      95986   1091676.0       4.0        3.0       2852.0  722842.0  1922.0   \n",
       "..       ...         ...       ...        ...          ...       ...     ...   \n",
       "381    97331   1041394.5       3.0        2.0       1561.0  157518.0  1978.0   \n",
       "382    97336    820863.5       3.5        2.0       1932.0  212722.0  1972.0   \n",
       "383    97339   1046790.0       2.0        1.0       1267.0  118800.0  1961.0   \n",
       "384    97344   1079061.0       3.0        2.0       1322.0  108525.5  1986.0   \n",
       "385   399675   1144807.5       4.0        3.0       2793.0  832170.5  1964.5   \n",
       "\n",
       "           tax    fips  assessmentyear  land_value  lot_square_feet  \n",
       "0     2394.470  6037.0          2016.0     99067.0           5100.0  \n",
       "1     2356.400  6037.0          2016.0     88455.0           5043.0  \n",
       "2     2193.870  6037.0          2016.0     96980.5           5200.0  \n",
       "3     7132.850  6037.0          2016.0    399886.0           7024.0  \n",
       "4     8786.020  6037.0          2016.0    505968.0           7801.0  \n",
       "..         ...     ...             ...         ...              ...  \n",
       "381   1877.885  6037.0          2016.0     34950.0          44957.0  \n",
       "382   2719.040  6037.0          2016.0     54711.5         114402.5  \n",
       "383   1234.180  6037.0          2016.0     24486.0         149578.0  \n",
       "384   1466.425  6037.0          2016.0     22017.0          24504.0  \n",
       "385  10140.900  6037.0          2016.0    533231.5          43947.5  \n",
       "\n",
       "[386 rows x 12 columns]"
      ]
     },
     "execution_count": 125,
     "metadata": {},
     "output_type": "execute_result"
    }
   ],
   "source": [
    "train.groupby(train.zipcode).aggregate('median').reset_index()"
   ]
  },
  {
   "cell_type": "code",
   "execution_count": 132,
   "id": "33251f0b",
   "metadata": {},
   "outputs": [
    {
     "data": {
      "text/html": [
       "<div>\n",
       "<style scoped>\n",
       "    .dataframe tbody tr th:only-of-type {\n",
       "        vertical-align: middle;\n",
       "    }\n",
       "\n",
       "    .dataframe tbody tr th {\n",
       "        vertical-align: top;\n",
       "    }\n",
       "\n",
       "    .dataframe thead th {\n",
       "        text-align: right;\n",
       "    }\n",
       "</style>\n",
       "<table border=\"1\" class=\"dataframe\">\n",
       "  <thead>\n",
       "    <tr style=\"text-align: right;\">\n",
       "      <th></th>\n",
       "      <th>Unnamed: 0</th>\n",
       "      <th>bedrooms</th>\n",
       "      <th>bathrooms</th>\n",
       "      <th>square_feet</th>\n",
       "      <th>value</th>\n",
       "      <th>year</th>\n",
       "      <th>tax</th>\n",
       "      <th>fips</th>\n",
       "      <th>assessmentyear</th>\n",
       "      <th>land_value</th>\n",
       "      <th>lot_square_feet</th>\n",
       "      <th>zipcode</th>\n",
       "      <th>county</th>\n",
       "    </tr>\n",
       "  </thead>\n",
       "  <tbody>\n",
       "    <tr>\n",
       "      <th>1831651</th>\n",
       "      <td>1831651</td>\n",
       "      <td>1.0</td>\n",
       "      <td>1.0</td>\n",
       "      <td>712</td>\n",
       "      <td>119519</td>\n",
       "      <td>1947</td>\n",
       "      <td>1395.70</td>\n",
       "      <td>6037</td>\n",
       "      <td>2015.0</td>\n",
       "      <td>72441.0</td>\n",
       "      <td>2999.0</td>\n",
       "      <td>96438</td>\n",
       "      <td>los_angeles</td>\n",
       "    </tr>\n",
       "    <tr>\n",
       "      <th>625034</th>\n",
       "      <td>625034</td>\n",
       "      <td>3.0</td>\n",
       "      <td>3.0</td>\n",
       "      <td>2126</td>\n",
       "      <td>389975</td>\n",
       "      <td>1980</td>\n",
       "      <td>4285.06</td>\n",
       "      <td>6111</td>\n",
       "      <td>2015.0</td>\n",
       "      <td>168824.0</td>\n",
       "      <td>2450.0</td>\n",
       "      <td>97106</td>\n",
       "      <td>ventura</td>\n",
       "    </tr>\n",
       "    <tr>\n",
       "      <th>87623</th>\n",
       "      <td>87623</td>\n",
       "      <td>1.0</td>\n",
       "      <td>1.0</td>\n",
       "      <td>722</td>\n",
       "      <td>42179</td>\n",
       "      <td>1952</td>\n",
       "      <td>463.58</td>\n",
       "      <td>6037</td>\n",
       "      <td>2015.0</td>\n",
       "      <td>25477.0</td>\n",
       "      <td>3000.0</td>\n",
       "      <td>96438</td>\n",
       "      <td>los_angeles</td>\n",
       "    </tr>\n",
       "    <tr>\n",
       "      <th>1572339</th>\n",
       "      <td>1572339</td>\n",
       "      <td>4.0</td>\n",
       "      <td>3.0</td>\n",
       "      <td>1938</td>\n",
       "      <td>542280</td>\n",
       "      <td>1979</td>\n",
       "      <td>5882.66</td>\n",
       "      <td>6111</td>\n",
       "      <td>2015.0</td>\n",
       "      <td>271140.0</td>\n",
       "      <td>9732.0</td>\n",
       "      <td>97089</td>\n",
       "      <td>ventura</td>\n",
       "    </tr>\n",
       "    <tr>\n",
       "      <th>430829</th>\n",
       "      <td>430829</td>\n",
       "      <td>2.0</td>\n",
       "      <td>1.0</td>\n",
       "      <td>904</td>\n",
       "      <td>153906</td>\n",
       "      <td>1926</td>\n",
       "      <td>1750.12</td>\n",
       "      <td>6111</td>\n",
       "      <td>2015.0</td>\n",
       "      <td>117390.0</td>\n",
       "      <td>11000.0</td>\n",
       "      <td>97113</td>\n",
       "      <td>ventura</td>\n",
       "    </tr>\n",
       "    <tr>\n",
       "      <th>1626371</th>\n",
       "      <td>1626371</td>\n",
       "      <td>4.0</td>\n",
       "      <td>3.0</td>\n",
       "      <td>2428</td>\n",
       "      <td>559608</td>\n",
       "      <td>1964</td>\n",
       "      <td>6130.14</td>\n",
       "      <td>6111</td>\n",
       "      <td>2015.0</td>\n",
       "      <td>322998.0</td>\n",
       "      <td>14435.0</td>\n",
       "      <td>97097</td>\n",
       "      <td>ventura</td>\n",
       "    </tr>\n",
       "    <tr>\n",
       "      <th>21490</th>\n",
       "      <td>21490</td>\n",
       "      <td>3.0</td>\n",
       "      <td>2.0</td>\n",
       "      <td>1510</td>\n",
       "      <td>418191</td>\n",
       "      <td>1946</td>\n",
       "      <td>4686.82</td>\n",
       "      <td>6111</td>\n",
       "      <td>2015.0</td>\n",
       "      <td>341693.0</td>\n",
       "      <td>2450.0</td>\n",
       "      <td>97106</td>\n",
       "      <td>ventura</td>\n",
       "    </tr>\n",
       "    <tr>\n",
       "      <th>2078569</th>\n",
       "      <td>2078569</td>\n",
       "      <td>2.0</td>\n",
       "      <td>1.0</td>\n",
       "      <td>807</td>\n",
       "      <td>90825</td>\n",
       "      <td>1925</td>\n",
       "      <td>1393.45</td>\n",
       "      <td>6037</td>\n",
       "      <td>2015.0</td>\n",
       "      <td>89438.0</td>\n",
       "      <td>9027.0</td>\n",
       "      <td>96414</td>\n",
       "      <td>los_angeles</td>\n",
       "    </tr>\n",
       "    <tr>\n",
       "      <th>1001417</th>\n",
       "      <td>1001417</td>\n",
       "      <td>3.0</td>\n",
       "      <td>2.5</td>\n",
       "      <td>2033</td>\n",
       "      <td>239922</td>\n",
       "      <td>2002</td>\n",
       "      <td>329.94</td>\n",
       "      <td>6059</td>\n",
       "      <td>2015.0</td>\n",
       "      <td>7586.0</td>\n",
       "      <td>2106.0</td>\n",
       "      <td>96181</td>\n",
       "      <td>orange</td>\n",
       "    </tr>\n",
       "    <tr>\n",
       "      <th>1410568</th>\n",
       "      <td>1410568</td>\n",
       "      <td>2.0</td>\n",
       "      <td>1.0</td>\n",
       "      <td>886</td>\n",
       "      <td>230780</td>\n",
       "      <td>1953</td>\n",
       "      <td>2803.10</td>\n",
       "      <td>6037</td>\n",
       "      <td>2015.0</td>\n",
       "      <td>216367.0</td>\n",
       "      <td>3243.0</td>\n",
       "      <td>96127</td>\n",
       "      <td>los_angeles</td>\n",
       "    </tr>\n",
       "    <tr>\n",
       "      <th>1432386</th>\n",
       "      <td>1432386</td>\n",
       "      <td>4.0</td>\n",
       "      <td>3.0</td>\n",
       "      <td>2046</td>\n",
       "      <td>1108158</td>\n",
       "      <td>1984</td>\n",
       "      <td>11875.18</td>\n",
       "      <td>6111</td>\n",
       "      <td>2015.0</td>\n",
       "      <td>695626.0</td>\n",
       "      <td>113518.0</td>\n",
       "      <td>97089</td>\n",
       "      <td>ventura</td>\n",
       "    </tr>\n",
       "    <tr>\n",
       "      <th>796806</th>\n",
       "      <td>796806</td>\n",
       "      <td>3.0</td>\n",
       "      <td>3.5</td>\n",
       "      <td>3203</td>\n",
       "      <td>622741</td>\n",
       "      <td>2000</td>\n",
       "      <td>6547.40</td>\n",
       "      <td>6111</td>\n",
       "      <td>2015.0</td>\n",
       "      <td>282841.0</td>\n",
       "      <td>35529.0</td>\n",
       "      <td>97083</td>\n",
       "      <td>ventura</td>\n",
       "    </tr>\n",
       "    <tr>\n",
       "      <th>218</th>\n",
       "      <td>218</td>\n",
       "      <td>4.0</td>\n",
       "      <td>3.0</td>\n",
       "      <td>3207</td>\n",
       "      <td>710970</td>\n",
       "      <td>1991</td>\n",
       "      <td>7607.58</td>\n",
       "      <td>6111</td>\n",
       "      <td>2015.0</td>\n",
       "      <td>171740.0</td>\n",
       "      <td>52172.0</td>\n",
       "      <td>97119</td>\n",
       "      <td>ventura</td>\n",
       "    </tr>\n",
       "    <tr>\n",
       "      <th>1981327</th>\n",
       "      <td>1981327</td>\n",
       "      <td>4.0</td>\n",
       "      <td>2.0</td>\n",
       "      <td>1826</td>\n",
       "      <td>350000</td>\n",
       "      <td>1970</td>\n",
       "      <td>4177.94</td>\n",
       "      <td>6111</td>\n",
       "      <td>2015.0</td>\n",
       "      <td>184500.0</td>\n",
       "      <td>4172.0</td>\n",
       "      <td>97116</td>\n",
       "      <td>ventura</td>\n",
       "    </tr>\n",
       "    <tr>\n",
       "      <th>560004</th>\n",
       "      <td>560004</td>\n",
       "      <td>4.0</td>\n",
       "      <td>3.5</td>\n",
       "      <td>2683</td>\n",
       "      <td>716143</td>\n",
       "      <td>1965</td>\n",
       "      <td>7479.50</td>\n",
       "      <td>6111</td>\n",
       "      <td>2015.0</td>\n",
       "      <td>289141.0</td>\n",
       "      <td>34630.0</td>\n",
       "      <td>97083</td>\n",
       "      <td>ventura</td>\n",
       "    </tr>\n",
       "    <tr>\n",
       "      <th>1758322</th>\n",
       "      <td>1758322</td>\n",
       "      <td>2.0</td>\n",
       "      <td>2.0</td>\n",
       "      <td>1219</td>\n",
       "      <td>655743</td>\n",
       "      <td>1932</td>\n",
       "      <td>515.73</td>\n",
       "      <td>6037</td>\n",
       "      <td>2015.0</td>\n",
       "      <td>524597.0</td>\n",
       "      <td>7334.0</td>\n",
       "      <td>96126</td>\n",
       "      <td>los_angeles</td>\n",
       "    </tr>\n",
       "    <tr>\n",
       "      <th>1346681</th>\n",
       "      <td>1346681</td>\n",
       "      <td>2.0</td>\n",
       "      <td>2.0</td>\n",
       "      <td>1356</td>\n",
       "      <td>469039</td>\n",
       "      <td>1951</td>\n",
       "      <td>5455.70</td>\n",
       "      <td>6111</td>\n",
       "      <td>2015.0</td>\n",
       "      <td>426400.0</td>\n",
       "      <td>40600.0</td>\n",
       "      <td>97118</td>\n",
       "      <td>ventura</td>\n",
       "    </tr>\n",
       "    <tr>\n",
       "      <th>496778</th>\n",
       "      <td>496778</td>\n",
       "      <td>1.0</td>\n",
       "      <td>1.0</td>\n",
       "      <td>760</td>\n",
       "      <td>145409</td>\n",
       "      <td>1949</td>\n",
       "      <td>293.92</td>\n",
       "      <td>6037</td>\n",
       "      <td>2015.0</td>\n",
       "      <td>83715.0</td>\n",
       "      <td>2999.0</td>\n",
       "      <td>96438</td>\n",
       "      <td>los_angeles</td>\n",
       "    </tr>\n",
       "    <tr>\n",
       "      <th>118726</th>\n",
       "      <td>118726</td>\n",
       "      <td>4.0</td>\n",
       "      <td>2.5</td>\n",
       "      <td>2360</td>\n",
       "      <td>93686</td>\n",
       "      <td>1965</td>\n",
       "      <td>1041.98</td>\n",
       "      <td>6111</td>\n",
       "      <td>2015.0</td>\n",
       "      <td>19363.0</td>\n",
       "      <td>10259.0</td>\n",
       "      <td>97084</td>\n",
       "      <td>ventura</td>\n",
       "    </tr>\n",
       "    <tr>\n",
       "      <th>713420</th>\n",
       "      <td>713420</td>\n",
       "      <td>3.0</td>\n",
       "      <td>1.0</td>\n",
       "      <td>1007</td>\n",
       "      <td>180666</td>\n",
       "      <td>1949</td>\n",
       "      <td>2707.72</td>\n",
       "      <td>6037</td>\n",
       "      <td>2015.0</td>\n",
       "      <td>106276.0</td>\n",
       "      <td>6019.0</td>\n",
       "      <td>96135</td>\n",
       "      <td>los_angeles</td>\n",
       "    </tr>\n",
       "    <tr>\n",
       "      <th>968187</th>\n",
       "      <td>968187</td>\n",
       "      <td>4.0</td>\n",
       "      <td>2.0</td>\n",
       "      <td>1313</td>\n",
       "      <td>1954386</td>\n",
       "      <td>1952</td>\n",
       "      <td>21298.92</td>\n",
       "      <td>6059</td>\n",
       "      <td>2015.0</td>\n",
       "      <td>1061740.0</td>\n",
       "      <td>5970.0</td>\n",
       "      <td>96969</td>\n",
       "      <td>orange</td>\n",
       "    </tr>\n",
       "    <tr>\n",
       "      <th>2023289</th>\n",
       "      <td>2023289</td>\n",
       "      <td>4.0</td>\n",
       "      <td>3.5</td>\n",
       "      <td>4145</td>\n",
       "      <td>829478</td>\n",
       "      <td>2002</td>\n",
       "      <td>8880.02</td>\n",
       "      <td>6111</td>\n",
       "      <td>2015.0</td>\n",
       "      <td>156715.0</td>\n",
       "      <td>33588.0</td>\n",
       "      <td>97091</td>\n",
       "      <td>ventura</td>\n",
       "    </tr>\n",
       "    <tr>\n",
       "      <th>1249078</th>\n",
       "      <td>1249078</td>\n",
       "      <td>3.0</td>\n",
       "      <td>1.5</td>\n",
       "      <td>1268</td>\n",
       "      <td>430333</td>\n",
       "      <td>1912</td>\n",
       "      <td>4631.70</td>\n",
       "      <td>6111</td>\n",
       "      <td>2015.0</td>\n",
       "      <td>322751.0</td>\n",
       "      <td>10450.0</td>\n",
       "      <td>97081</td>\n",
       "      <td>ventura</td>\n",
       "    </tr>\n",
       "    <tr>\n",
       "      <th>1054007</th>\n",
       "      <td>1054007</td>\n",
       "      <td>4.0</td>\n",
       "      <td>3.0</td>\n",
       "      <td>1642</td>\n",
       "      <td>1751922</td>\n",
       "      <td>1956</td>\n",
       "      <td>18514.04</td>\n",
       "      <td>6059</td>\n",
       "      <td>2015.0</td>\n",
       "      <td>1751922.0</td>\n",
       "      <td>4613.0</td>\n",
       "      <td>96957</td>\n",
       "      <td>orange</td>\n",
       "    </tr>\n",
       "    <tr>\n",
       "      <th>1583728</th>\n",
       "      <td>1583728</td>\n",
       "      <td>3.0</td>\n",
       "      <td>4.0</td>\n",
       "      <td>2064</td>\n",
       "      <td>382390</td>\n",
       "      <td>1947</td>\n",
       "      <td>4878.11</td>\n",
       "      <td>6037</td>\n",
       "      <td>2015.0</td>\n",
       "      <td>212384.0</td>\n",
       "      <td>22505.0</td>\n",
       "      <td>96364</td>\n",
       "      <td>los_angeles</td>\n",
       "    </tr>\n",
       "    <tr>\n",
       "      <th>1658135</th>\n",
       "      <td>1658135</td>\n",
       "      <td>1.0</td>\n",
       "      <td>1.0</td>\n",
       "      <td>946</td>\n",
       "      <td>430334</td>\n",
       "      <td>1921</td>\n",
       "      <td>4626.44</td>\n",
       "      <td>6111</td>\n",
       "      <td>2015.0</td>\n",
       "      <td>344268.0</td>\n",
       "      <td>8550.0</td>\n",
       "      <td>97081</td>\n",
       "      <td>ventura</td>\n",
       "    </tr>\n",
       "    <tr>\n",
       "      <th>215142</th>\n",
       "      <td>215142</td>\n",
       "      <td>4.0</td>\n",
       "      <td>2.0</td>\n",
       "      <td>1510</td>\n",
       "      <td>250513</td>\n",
       "      <td>1971</td>\n",
       "      <td>3075.58</td>\n",
       "      <td>6111</td>\n",
       "      <td>2015.0</td>\n",
       "      <td>83504.0</td>\n",
       "      <td>10019.0</td>\n",
       "      <td>97107</td>\n",
       "      <td>ventura</td>\n",
       "    </tr>\n",
       "  </tbody>\n",
       "</table>\n",
       "</div>"
      ],
      "text/plain": [
       "         Unnamed: 0  bedrooms  bathrooms  square_feet    value  year  \\\n",
       "1831651     1831651       1.0        1.0          712   119519  1947   \n",
       "625034       625034       3.0        3.0         2126   389975  1980   \n",
       "87623         87623       1.0        1.0          722    42179  1952   \n",
       "1572339     1572339       4.0        3.0         1938   542280  1979   \n",
       "430829       430829       2.0        1.0          904   153906  1926   \n",
       "1626371     1626371       4.0        3.0         2428   559608  1964   \n",
       "21490         21490       3.0        2.0         1510   418191  1946   \n",
       "2078569     2078569       2.0        1.0          807    90825  1925   \n",
       "1001417     1001417       3.0        2.5         2033   239922  2002   \n",
       "1410568     1410568       2.0        1.0          886   230780  1953   \n",
       "1432386     1432386       4.0        3.0         2046  1108158  1984   \n",
       "796806       796806       3.0        3.5         3203   622741  2000   \n",
       "218             218       4.0        3.0         3207   710970  1991   \n",
       "1981327     1981327       4.0        2.0         1826   350000  1970   \n",
       "560004       560004       4.0        3.5         2683   716143  1965   \n",
       "1758322     1758322       2.0        2.0         1219   655743  1932   \n",
       "1346681     1346681       2.0        2.0         1356   469039  1951   \n",
       "496778       496778       1.0        1.0          760   145409  1949   \n",
       "118726       118726       4.0        2.5         2360    93686  1965   \n",
       "713420       713420       3.0        1.0         1007   180666  1949   \n",
       "968187       968187       4.0        2.0         1313  1954386  1952   \n",
       "2023289     2023289       4.0        3.5         4145   829478  2002   \n",
       "1249078     1249078       3.0        1.5         1268   430333  1912   \n",
       "1054007     1054007       4.0        3.0         1642  1751922  1956   \n",
       "1583728     1583728       3.0        4.0         2064   382390  1947   \n",
       "1658135     1658135       1.0        1.0          946   430334  1921   \n",
       "215142       215142       4.0        2.0         1510   250513  1971   \n",
       "\n",
       "              tax  fips  assessmentyear  land_value  lot_square_feet  zipcode  \\\n",
       "1831651   1395.70  6037          2015.0     72441.0           2999.0    96438   \n",
       "625034    4285.06  6111          2015.0    168824.0           2450.0    97106   \n",
       "87623      463.58  6037          2015.0     25477.0           3000.0    96438   \n",
       "1572339   5882.66  6111          2015.0    271140.0           9732.0    97089   \n",
       "430829    1750.12  6111          2015.0    117390.0          11000.0    97113   \n",
       "1626371   6130.14  6111          2015.0    322998.0          14435.0    97097   \n",
       "21490     4686.82  6111          2015.0    341693.0           2450.0    97106   \n",
       "2078569   1393.45  6037          2015.0     89438.0           9027.0    96414   \n",
       "1001417    329.94  6059          2015.0      7586.0           2106.0    96181   \n",
       "1410568   2803.10  6037          2015.0    216367.0           3243.0    96127   \n",
       "1432386  11875.18  6111          2015.0    695626.0         113518.0    97089   \n",
       "796806    6547.40  6111          2015.0    282841.0          35529.0    97083   \n",
       "218       7607.58  6111          2015.0    171740.0          52172.0    97119   \n",
       "1981327   4177.94  6111          2015.0    184500.0           4172.0    97116   \n",
       "560004    7479.50  6111          2015.0    289141.0          34630.0    97083   \n",
       "1758322    515.73  6037          2015.0    524597.0           7334.0    96126   \n",
       "1346681   5455.70  6111          2015.0    426400.0          40600.0    97118   \n",
       "496778     293.92  6037          2015.0     83715.0           2999.0    96438   \n",
       "118726    1041.98  6111          2015.0     19363.0          10259.0    97084   \n",
       "713420    2707.72  6037          2015.0    106276.0           6019.0    96135   \n",
       "968187   21298.92  6059          2015.0   1061740.0           5970.0    96969   \n",
       "2023289   8880.02  6111          2015.0    156715.0          33588.0    97091   \n",
       "1249078   4631.70  6111          2015.0    322751.0          10450.0    97081   \n",
       "1054007  18514.04  6059          2015.0   1751922.0           4613.0    96957   \n",
       "1583728   4878.11  6037          2015.0    212384.0          22505.0    96364   \n",
       "1658135   4626.44  6111          2015.0    344268.0           8550.0    97081   \n",
       "215142    3075.58  6111          2015.0     83504.0          10019.0    97107   \n",
       "\n",
       "              county  \n",
       "1831651  los_angeles  \n",
       "625034       ventura  \n",
       "87623    los_angeles  \n",
       "1572339      ventura  \n",
       "430829       ventura  \n",
       "1626371      ventura  \n",
       "21490        ventura  \n",
       "2078569  los_angeles  \n",
       "1001417       orange  \n",
       "1410568  los_angeles  \n",
       "1432386      ventura  \n",
       "796806       ventura  \n",
       "218          ventura  \n",
       "1981327      ventura  \n",
       "560004       ventura  \n",
       "1758322  los_angeles  \n",
       "1346681      ventura  \n",
       "496778   los_angeles  \n",
       "118726       ventura  \n",
       "713420   los_angeles  \n",
       "968187        orange  \n",
       "2023289      ventura  \n",
       "1249078      ventura  \n",
       "1054007       orange  \n",
       "1583728  los_angeles  \n",
       "1658135      ventura  \n",
       "215142       ventura  "
      ]
     },
     "execution_count": 132,
     "metadata": {},
     "output_type": "execute_result"
    }
   ],
   "source": [
    "train[train.assessmentyear == 2015]"
   ]
  },
  {
   "cell_type": "markdown",
   "id": "3cc653f8",
   "metadata": {},
   "source": [
    "I think I should look at dropping assessment year 2015 as there are not many records, but the mean value is noteably different. There may have been different protcols to assess value. Perhaps something to research"
   ]
  },
  {
   "cell_type": "code",
   "execution_count": 133,
   "id": "c47e148a",
   "metadata": {},
   "outputs": [
    {
     "data": {
      "text/plain": [
       "<seaborn.axisgrid.FacetGrid at 0x7f913d6631c0>"
      ]
     },
     "execution_count": 133,
     "metadata": {},
     "output_type": "execute_result"
    },
    {
     "data": {
      "image/png": "[encoded data removed]",
      "text/plain": [
       "<Figure size 360x360 with 1 Axes>"
      ]
     },
     "metadata": {
      "needs_background": "light"
     },
     "output_type": "display_data"
    }
   ],
   "source": [
    "sns.relplot(x=\"bedrooms\", y=\"bathrooms\", data=train)"
   ]
  },
  {
   "cell_type": "code",
   "execution_count": 151,
   "id": "25ca4d8e",
   "metadata": {},
   "outputs": [
    {
     "name": "stdout",
     "output_type": "stream",
     "text": [
      "<class 'pandas.core.frame.DataFrame'>\n",
      "Int64Index: 1185692 entries, 361546 to 883520\n",
      "Data columns (total 13 columns):\n",
      " #   Column           Non-Null Count    Dtype  \n",
      "---  ------           --------------    -----  \n",
      " 0   Unnamed: 0       1185692 non-null  int64  \n",
      " 1   bedrooms         1185692 non-null  float64\n",
      " 2   bathrooms        1185692 non-null  float64\n",
      " 3   square_feet      1185692 non-null  int64  \n",
      " 4   value            1185692 non-null  int64  \n",
      " 5   year             1185692 non-null  int64  \n",
      " 6   tax              1185692 non-null  float64\n",
      " 7   fips             1185692 non-null  int64  \n",
      " 8   assessmentyear   1185692 non-null  float64\n",
      " 9   land_value       1185692 non-null  float64\n",
      " 10  lot_square_feet  1185692 non-null  float64\n",
      " 11  zipcode          1185692 non-null  int64  \n",
      " 12  county           1185692 non-null  object \n",
      "dtypes: float64(6), int64(6), object(1)\n",
      "memory usage: 158.9+ MB\n"
     ]
    }
   ],
   "source": [
    "train.info()"
   ]
  },
  {
   "cell_type": "code",
   "execution_count": 227,
   "id": "cd0a4da2",
   "metadata": {},
   "outputs": [
    {
     "data": {
      "text/plain": [
       "(0.3861976281089582, 0.0)"
      ]
     },
     "execution_count": 227,
     "metadata": {},
     "output_type": "execute_result"
    }
   ],
   "source": [
    "alpha = .05\n",
    "r, p = stats.spearmanr(train.square_feet, train.lot_square_feet)\n",
    "r, p"
   ]
  },
  {
   "cell_type": "code",
   "execution_count": 148,
   "id": "756ac49d",
   "metadata": {},
   "outputs": [
    {
     "data": {
      "text/plain": [
       "SpearmanrResult(correlation=0.17831355565243184, pvalue=0.0)"
      ]
     },
     "execution_count": 148,
     "metadata": {},
     "output_type": "execute_result"
    }
   ],
   "source": [
    "stats.spearmanr(train.value, train.lot_square_feet)"
   ]
  },
  {
   "cell_type": "code",
   "execution_count": 163,
   "id": "63e0c805",
   "metadata": {},
   "outputs": [
    {
     "data": {
      "text/plain": [
       "SpearmanrResult(correlation=0.5177082983718946, pvalue=0.0)"
      ]
     },
     "execution_count": 163,
     "metadata": {},
     "output_type": "execute_result"
    }
   ],
   "source": [
    "stats.spearmanr(train.value, train.square_feet)"
   ]
  },
  {
   "cell_type": "code",
   "execution_count": 150,
   "id": "cb7c9ad3",
   "metadata": {},
   "outputs": [
    {
     "data": {
      "text/plain": [
       "SpearmanrResult(correlation=0.9785797264086693, pvalue=0.0)"
      ]
     },
     "execution_count": 150,
     "metadata": {},
     "output_type": "execute_result"
    }
   ],
   "source": [
    "stats.spearmanr(train.value, train.tax)"
   ]
  },
  {
   "cell_type": "code",
   "execution_count": 157,
   "id": "7783c935",
   "metadata": {},
   "outputs": [
    {
     "data": {
      "text/plain": [
       "SpearmanrResult(correlation=0.9366693692314451, pvalue=0.0)"
      ]
     },
     "execution_count": 157,
     "metadata": {},
     "output_type": "execute_result"
    }
   ],
   "source": [
    "stats.spearmanr(train.value, train.land_value)"
   ]
  },
  {
   "cell_type": "code",
   "execution_count": 158,
   "id": "f952f0c2",
   "metadata": {},
   "outputs": [
    {
     "data": {
      "text/plain": [
       "SpearmanrResult(correlation=0.6306982541928499, pvalue=0.0)"
      ]
     },
     "execution_count": 158,
     "metadata": {},
     "output_type": "execute_result"
    }
   ],
   "source": [
    "stats.spearmanr(train.bedrooms, train.bathrooms)"
   ]
  },
  {
   "cell_type": "code",
   "execution_count": 159,
   "id": "dd5e3b2d",
   "metadata": {},
   "outputs": [
    {
     "data": {
      "text/plain": [
       "SpearmanrResult(correlation=0.6527560096317669, pvalue=0.0)"
      ]
     },
     "execution_count": 159,
     "metadata": {},
     "output_type": "execute_result"
    }
   ],
   "source": [
    "stats.spearmanr(train.bedrooms, train.square_feet)"
   ]
  },
  {
   "cell_type": "code",
   "execution_count": 160,
   "id": "7db95bc5",
   "metadata": {},
   "outputs": [
    {
     "data": {
      "text/plain": [
       "SpearmanrResult(correlation=0.825845169446195, pvalue=0.0)"
      ]
     },
     "execution_count": 160,
     "metadata": {},
     "output_type": "execute_result"
    }
   ],
   "source": [
    "stats.spearmanr(train.bathrooms, train.square_feet)"
   ]
  },
  {
   "cell_type": "code",
   "execution_count": 164,
   "id": "86495dd6",
   "metadata": {},
   "outputs": [
    {
     "data": {
      "text/plain": [
       "SpearmanrResult(correlation=0.9100159209031642, pvalue=0.0)"
      ]
     },
     "execution_count": 164,
     "metadata": {},
     "output_type": "execute_result"
    }
   ],
   "source": [
    "stats.spearmanr(train.tax, train.land_value)"
   ]
  },
  {
   "cell_type": "code",
   "execution_count": 167,
   "id": "0ae9bb4b",
   "metadata": {},
   "outputs": [
    {
     "data": {
      "text/plain": [
       "SpearmanrResult(correlation=0.09063139960148961, pvalue=0.0)"
      ]
     },
     "execution_count": 167,
     "metadata": {},
     "output_type": "execute_result"
    }
   ],
   "source": [
    "stats.spearmanr(train.lot_square_feet, train.land_value)"
   ]
  },
  {
   "cell_type": "code",
   "execution_count": 168,
   "id": "34005309",
   "metadata": {},
   "outputs": [
    {
     "data": {
      "text/plain": [
       "SpearmanrResult(correlation=0.10952511733401807, pvalue=0.0)"
      ]
     },
     "execution_count": 168,
     "metadata": {},
     "output_type": "execute_result"
    }
   ],
   "source": [
    "stats.spearmanr(train.year, train.land_value)"
   ]
  },
  {
   "cell_type": "code",
   "execution_count": 169,
   "id": "b61fbceb",
   "metadata": {},
   "outputs": [
    {
     "data": {
      "text/plain": [
       "SpearmanrResult(correlation=0.2886060747696641, pvalue=0.0)"
      ]
     },
     "execution_count": 169,
     "metadata": {},
     "output_type": "execute_result"
    }
   ],
   "source": [
    "stats.spearmanr(train.year, train.value)"
   ]
  },
  {
   "cell_type": "code",
   "execution_count": 229,
   "id": "48544850",
   "metadata": {},
   "outputs": [],
   "source": [
    "vv = train[train.county == 'ventura'].value\n",
    "lav = train[train.county == 'los_angeles'].value\n",
    "ov = train[train.county == 'orange'].value\n",
    "diffv = train[train.county != 'ventura'].value\n",
    "diffl = train[train.county != 'los_angeles'].value\n",
    "diffo = train[train.county != 'orange'].value"
   ]
  },
  {
   "cell_type": "code",
   "execution_count": 176,
   "id": "3b9abc1e",
   "metadata": {},
   "outputs": [
    {
     "data": {
      "text/plain": [
       "(123256978915.7302, 242112788565.78442, 259172525130.062)"
      ]
     },
     "execution_count": 176,
     "metadata": {},
     "output_type": "execute_result"
    }
   ],
   "source": [
    "vv.var(), lav.var(), ov.var()"
   ]
  },
  {
   "cell_type": "code",
   "execution_count": 177,
   "id": "19856d6c",
   "metadata": {},
   "outputs": [
    {
     "data": {
      "text/plain": [
       "KruskalResult(statistic=32062.88925074271, pvalue=0.0)"
      ]
     },
     "execution_count": 177,
     "metadata": {},
     "output_type": "execute_result"
    }
   ],
   "source": [
    "stats.kruskal(vv, lav, ov)"
   ]
  },
  {
   "cell_type": "code",
   "execution_count": 178,
   "id": "ef77ad4c",
   "metadata": {},
   "outputs": [
    {
     "data": {
      "text/plain": [
       "F_onewayResult(statistic=4667.782493510812, pvalue=0.0)"
      ]
     },
     "execution_count": 178,
     "metadata": {},
     "output_type": "execute_result"
    }
   ],
   "source": [
    "stats.f_oneway(vv, lav, ov)"
   ]
  },
  {
   "cell_type": "code",
   "execution_count": 232,
   "id": "8afdb9c9",
   "metadata": {},
   "outputs": [
    {
     "data": {
      "text/plain": [
       "(-5.888983961631111, 3.895772446190121e-09)"
      ]
     },
     "execution_count": 232,
     "metadata": {},
     "output_type": "execute_result"
    }
   ],
   "source": [
    "t, p = stats.ttest_ind(vv, diffv, equal_var=False)\n",
    "t, p"
   ]
  },
  {
   "cell_type": "code",
   "execution_count": 233,
   "id": "7358e6da",
   "metadata": {},
   "outputs": [
    {
     "data": {
      "text/plain": [
       "(-87.16842408987222, 0.0)"
      ]
     },
     "execution_count": 233,
     "metadata": {},
     "output_type": "execute_result"
    }
   ],
   "source": [
    "t, p = stats.ttest_ind(lav, diffl, equal_var=False)\n",
    "t, p"
   ]
  },
  {
   "cell_type": "code",
   "execution_count": 234,
   "id": "dbcd71b2",
   "metadata": {},
   "outputs": [
    {
     "data": {
      "text/plain": [
       "(93.1245998980196, 0.0)"
      ]
     },
     "execution_count": 234,
     "metadata": {},
     "output_type": "execute_result"
    }
   ],
   "source": [
    "t, p = stats.ttest_ind(ov, diffo, equal_var=False)\n",
    "t, p"
   ]
  },
  {
   "cell_type": "code",
   "execution_count": 235,
   "id": "6b14fd74",
   "metadata": {},
   "outputs": [
    {
     "data": {
      "text/plain": [
       "los_angeles    787423\n",
       "orange         307386\n",
       "ventura         90883\n",
       "Name: county, dtype: int64"
      ]
     },
     "execution_count": 235,
     "metadata": {},
     "output_type": "execute_result"
    }
   ],
   "source": [
    "train.county.value_counts()"
   ]
  },
  {
   "cell_type": "code",
   "execution_count": 236,
   "id": "386d5401",
   "metadata": {},
   "outputs": [],
   "source": [
    "vt = train[train.county == 'ventura'].tax\n",
    "lat = train[train.county == 'los_angeles'].tax\n",
    "ot = train[train.county == 'orange'].tax\n",
    "diffvt = train[train.county != 'ventura'].tax\n",
    "difflat = train[train.county != 'los_angeles'].tax\n",
    "diffot = train[train.county != 'orange'].tax"
   ]
  },
  {
   "cell_type": "code",
   "execution_count": 239,
   "id": "9b5a546d",
   "metadata": {},
   "outputs": [
    {
     "data": {
      "text/plain": [
       "(-32.61477689003073, 2.3649544326941885e-232)"
      ]
     },
     "execution_count": 239,
     "metadata": {},
     "output_type": "execute_result"
    }
   ],
   "source": [
    "t, p = stats.ttest_ind(vt, diffvt, equal_var=False)\n",
    "t, p"
   ]
  },
  {
   "cell_type": "code",
   "execution_count": 240,
   "id": "ee7c9769",
   "metadata": {},
   "outputs": [
    {
     "data": {
      "text/plain": [
       "(-46.03534355795592, 0.0)"
      ]
     },
     "execution_count": 240,
     "metadata": {},
     "output_type": "execute_result"
    }
   ],
   "source": [
    "t, p = stats.ttest_ind(lat, difflat, equal_var=False)\n",
    "t, p"
   ]
  },
  {
   "cell_type": "code",
   "execution_count": 241,
   "id": "d625f1c6",
   "metadata": {},
   "outputs": [
    {
     "data": {
      "text/plain": [
       "(62.47352537124558, 0.0)"
      ]
     },
     "execution_count": 241,
     "metadata": {},
     "output_type": "execute_result"
    }
   ],
   "source": [
    "t, p = stats.ttest_ind(ot, diffot, equal_var=False)\n",
    "t, p"
   ]
  },
  {
   "cell_type": "code",
   "execution_count": 199,
   "id": "e5470f57",
   "metadata": {},
   "outputs": [],
   "source": [
    "vv = train[train.county == 'ventura'].value\n",
    "lav = train[train.county == 'los_angeles'].value\n",
    "ov = train[train.county == 'orange'].value"
   ]
  },
  {
   "cell_type": "code",
   "execution_count": 200,
   "id": "90de6619",
   "metadata": {},
   "outputs": [
    {
     "data": {
      "text/plain": [
       "(351079.7329891462, 492049.57937771315, 509089.8988686203)"
      ]
     },
     "execution_count": 200,
     "metadata": {},
     "output_type": "execute_result"
    }
   ],
   "source": [
    "vv.std(), lav.std(), ov.std()"
   ]
  },
  {
   "cell_type": "code",
   "execution_count": 201,
   "id": "3b9351d7",
   "metadata": {},
   "outputs": [
    {
     "data": {
      "text/plain": [
       "(436805.7115742218, 416132.97661612625, 516157.1308810421)"
      ]
     },
     "execution_count": 201,
     "metadata": {},
     "output_type": "execute_result"
    }
   ],
   "source": [
    "vv.mean(), lav.mean(), ov.mean()"
   ]
  },
  {
   "cell_type": "code",
   "execution_count": 202,
   "id": "3bb5f1af",
   "metadata": {},
   "outputs": [
    {
     "data": {
      "text/plain": [
       "(4544, 722, 2842)"
      ]
     },
     "execution_count": 202,
     "metadata": {},
     "output_type": "execute_result"
    }
   ],
   "source": [
    "vv.min(), lav.min(), ov.min()"
   ]
  },
  {
   "cell_type": "code",
   "execution_count": 203,
   "id": "3d25f08f",
   "metadata": {},
   "outputs": [
    {
     "data": {
      "text/plain": [
       "(7138171, 7996168, 7996713)"
      ]
     },
     "execution_count": 203,
     "metadata": {},
     "output_type": "execute_result"
    }
   ],
   "source": [
    "vv.max(), lav.max(), ov.max()"
   ]
  },
  {
   "cell_type": "code",
   "execution_count": 204,
   "id": "11dd5713",
   "metadata": {},
   "outputs": [],
   "source": [
    "vt = train[train.county == 'ventura'].tax\n",
    "lat = train[train.county == 'los_angeles'].tax\n",
    "ot = train[train.county == 'orange'].tax"
   ]
  },
  {
   "cell_type": "code",
   "execution_count": 205,
   "id": "8e45fe7e",
   "metadata": {},
   "outputs": [
    {
     "data": {
      "text/plain": [
       "(3897.0476332802477, 5756.938087706728, 5639.581385757183)"
      ]
     },
     "execution_count": 205,
     "metadata": {},
     "output_type": "execute_result"
    }
   ],
   "source": [
    "vt.std(), lat.std(), ot.std()"
   ]
  },
  {
   "cell_type": "code",
   "execution_count": 206,
   "id": "87d359c2",
   "metadata": {},
   "outputs": [
    {
     "data": {
      "text/plain": [
       "(4994.034866806749, 5252.594423162487, 5962.64332783545)"
      ]
     },
     "execution_count": 206,
     "metadata": {},
     "output_type": "execute_result"
    }
   ],
   "source": [
    "vt.mean(), lat.mean(), ot.mean()"
   ]
  },
  {
   "cell_type": "code",
   "execution_count": 207,
   "id": "083dd863",
   "metadata": {},
   "outputs": [
    {
     "data": {
      "text/plain": [
       "(34.6, 45.32, 18.72)"
      ]
     },
     "execution_count": 207,
     "metadata": {},
     "output_type": "execute_result"
    }
   ],
   "source": [
    "vt.min(), lat.min(), ot.min()"
   ]
  },
  {
   "cell_type": "code",
   "execution_count": 208,
   "id": "f860a348",
   "metadata": {},
   "outputs": [
    {
     "data": {
      "text/plain": [
       "(75722.34, 175524.68, 106584.78)"
      ]
     },
     "execution_count": 208,
     "metadata": {},
     "output_type": "execute_result"
    }
   ],
   "source": [
    "vt.max(), lat.max(), ot.max()"
   ]
  },
  {
   "cell_type": "code",
   "execution_count": 212,
   "id": "1b471cb1",
   "metadata": {},
   "outputs": [
    {
     "data": {
      "text/html": [
       "<div>\n",
       "<style scoped>\n",
       "    .dataframe tbody tr th:only-of-type {\n",
       "        vertical-align: middle;\n",
       "    }\n",
       "\n",
       "    .dataframe tbody tr th {\n",
       "        vertical-align: top;\n",
       "    }\n",
       "\n",
       "    .dataframe thead th {\n",
       "        text-align: right;\n",
       "    }\n",
       "</style>\n",
       "<table border=\"1\" class=\"dataframe\">\n",
       "  <thead>\n",
       "    <tr style=\"text-align: right;\">\n",
       "      <th></th>\n",
       "      <th>Unnamed: 0</th>\n",
       "      <th>bedrooms</th>\n",
       "      <th>bathrooms</th>\n",
       "      <th>square_feet</th>\n",
       "      <th>value</th>\n",
       "      <th>year</th>\n",
       "      <th>tax</th>\n",
       "      <th>fips</th>\n",
       "      <th>assessmentyear</th>\n",
       "      <th>land_value</th>\n",
       "      <th>lot_square_feet</th>\n",
       "      <th>zipcode</th>\n",
       "    </tr>\n",
       "    <tr>\n",
       "      <th>county</th>\n",
       "      <th></th>\n",
       "      <th></th>\n",
       "      <th></th>\n",
       "      <th></th>\n",
       "      <th></th>\n",
       "      <th></th>\n",
       "      <th></th>\n",
       "      <th></th>\n",
       "      <th></th>\n",
       "      <th></th>\n",
       "      <th></th>\n",
       "      <th></th>\n",
       "    </tr>\n",
       "  </thead>\n",
       "  <tbody>\n",
       "    <tr>\n",
       "      <th>False</th>\n",
       "      <td>1.076834e+06</td>\n",
       "      <td>3.278836</td>\n",
       "      <td>2.214680</td>\n",
       "      <td>1833.588247</td>\n",
       "      <td>444216.436546</td>\n",
       "      <td>1959.721804</td>\n",
       "      <td>5451.952569</td>\n",
       "      <td>6043.176869</td>\n",
       "      <td>2015.999990</td>\n",
       "      <td>276147.597825</td>\n",
       "      <td>10537.200070</td>\n",
       "      <td>96554.463111</td>\n",
       "    </tr>\n",
       "    <tr>\n",
       "      <th>True</th>\n",
       "      <td>1.071895e+06</td>\n",
       "      <td>3.568137</td>\n",
       "      <td>2.394496</td>\n",
       "      <td>2005.448401</td>\n",
       "      <td>436805.711574</td>\n",
       "      <td>1973.965780</td>\n",
       "      <td>4994.034867</td>\n",
       "      <td>6111.000000</td>\n",
       "      <td>2015.999824</td>\n",
       "      <td>222536.778143</td>\n",
       "      <td>12126.489696</td>\n",
       "      <td>96937.366691</td>\n",
       "    </tr>\n",
       "  </tbody>\n",
       "</table>\n",
       "</div>"
      ],
      "text/plain": [
       "          Unnamed: 0  bedrooms  bathrooms  square_feet          value  \\\n",
       "county                                                                  \n",
       "False   1.076834e+06  3.278836   2.214680  1833.588247  444216.436546   \n",
       "True    1.071895e+06  3.568137   2.394496  2005.448401  436805.711574   \n",
       "\n",
       "               year          tax         fips  assessmentyear     land_value  \\\n",
       "county                                                                         \n",
       "False   1959.721804  5451.952569  6043.176869     2015.999990  276147.597825   \n",
       "True    1973.965780  4994.034867  6111.000000     2015.999824  222536.778143   \n",
       "\n",
       "        lot_square_feet       zipcode  \n",
       "county                                 \n",
       "False      10537.200070  96554.463111  \n",
       "True       12126.489696  96937.366691  "
      ]
     },
     "execution_count": 212,
     "metadata": {},
     "output_type": "execute_result"
    }
   ],
   "source": [
    "train.groupby(train.county == 'ventura').mean()"
   ]
  },
  {
   "cell_type": "code",
   "execution_count": 242,
   "id": "6207f2c1",
   "metadata": {},
   "outputs": [],
   "source": [
    "vl = train[train.county == 'ventura'].land_value\n",
    "lal = train[train.county == 'los_angeles'].land_value\n",
    "ol = train[train.county == 'orange'].land_value\n",
    "notvl = train[train.county != 'ventura'].land_value\n",
    "notlal = train[train.county != 'los_angeles'].land_value\n",
    "notol = train[train.county != 'orange'].land_value\n",
    "overall = train.land_value.mean()"
   ]
  },
  {
   "cell_type": "code",
   "execution_count": 243,
   "id": "b2cfdba3",
   "metadata": {},
   "outputs": [
    {
     "data": {
      "text/plain": [
       "(-63.65717514460182, 0.0)"
      ]
     },
     "execution_count": 243,
     "metadata": {},
     "output_type": "execute_result"
    }
   ],
   "source": [
    "t, p = stats.ttest_ind(vl, notvl, equal_var=False)\n",
    "t, p"
   ]
  },
  {
   "cell_type": "code",
   "execution_count": 244,
   "id": "891594b9",
   "metadata": {},
   "outputs": [
    {
     "data": {
      "text/plain": [
       "(-78.77920210915244, 0.0)"
      ]
     },
     "execution_count": 244,
     "metadata": {},
     "output_type": "execute_result"
    }
   ],
   "source": [
    "t, p = stats.ttest_ind(lal, notlal, equal_var=False)\n",
    "t, p"
   ]
  },
  {
   "cell_type": "code",
   "execution_count": 245,
   "id": "904c549c",
   "metadata": {},
   "outputs": [
    {
     "data": {
      "text/plain": [
       "(106.73515639562038, 0.0)"
      ]
     },
     "execution_count": 245,
     "metadata": {},
     "output_type": "execute_result"
    }
   ],
   "source": [
    "t, p = stats.ttest_ind(ol, notol, equal_var=False)\n",
    "t, p"
   ]
  },
  {
   "cell_type": "code",
   "execution_count": 246,
   "id": "92f709b8",
   "metadata": {},
   "outputs": [
    {
     "data": {
      "text/plain": [
       "los_angeles    1407064\n",
       "orange          548465\n",
       "ventura         161780\n",
       "Name: county, dtype: int64"
      ]
     },
     "execution_count": 246,
     "metadata": {},
     "output_type": "execute_result"
    }
   ],
   "source": [
    "df.county.value_counts()"
   ]
  },
  {
   "cell_type": "code",
   "execution_count": 261,
   "id": "f79a0af0",
   "metadata": {},
   "outputs": [
    {
     "data": {
      "text/html": [
       "<div>\n",
       "<style scoped>\n",
       "    .dataframe tbody tr th:only-of-type {\n",
       "        vertical-align: middle;\n",
       "    }\n",
       "\n",
       "    .dataframe tbody tr th {\n",
       "        vertical-align: top;\n",
       "    }\n",
       "\n",
       "    .dataframe thead th {\n",
       "        text-align: right;\n",
       "    }\n",
       "</style>\n",
       "<table border=\"1\" class=\"dataframe\">\n",
       "  <thead>\n",
       "    <tr style=\"text-align: right;\">\n",
       "      <th></th>\n",
       "      <th>Unnamed: 0</th>\n",
       "      <th>bedrooms</th>\n",
       "      <th>bathrooms</th>\n",
       "      <th>square_feet</th>\n",
       "      <th>value</th>\n",
       "      <th>year</th>\n",
       "      <th>tax</th>\n",
       "      <th>fips</th>\n",
       "      <th>assessmentyear</th>\n",
       "      <th>land_value</th>\n",
       "      <th>lot_square_feet</th>\n",
       "      <th>zipcode</th>\n",
       "    </tr>\n",
       "    <tr>\n",
       "      <th>county</th>\n",
       "      <th></th>\n",
       "      <th></th>\n",
       "      <th></th>\n",
       "      <th></th>\n",
       "      <th></th>\n",
       "      <th></th>\n",
       "      <th></th>\n",
       "      <th></th>\n",
       "      <th></th>\n",
       "      <th></th>\n",
       "      <th></th>\n",
       "      <th></th>\n",
       "    </tr>\n",
       "  </thead>\n",
       "  <tbody>\n",
       "    <tr>\n",
       "      <th>False</th>\n",
       "      <td>1.076834e+06</td>\n",
       "      <td>3.278836</td>\n",
       "      <td>2.214680</td>\n",
       "      <td>1833.588247</td>\n",
       "      <td>444216.436546</td>\n",
       "      <td>1959.721804</td>\n",
       "      <td>5451.952569</td>\n",
       "      <td>6043.176869</td>\n",
       "      <td>2015.999990</td>\n",
       "      <td>276147.597825</td>\n",
       "      <td>10537.200070</td>\n",
       "      <td>96554.463111</td>\n",
       "    </tr>\n",
       "    <tr>\n",
       "      <th>True</th>\n",
       "      <td>1.071895e+06</td>\n",
       "      <td>3.568137</td>\n",
       "      <td>2.394496</td>\n",
       "      <td>2005.448401</td>\n",
       "      <td>436805.711574</td>\n",
       "      <td>1973.965780</td>\n",
       "      <td>4994.034867</td>\n",
       "      <td>6111.000000</td>\n",
       "      <td>2015.999824</td>\n",
       "      <td>222536.778143</td>\n",
       "      <td>12126.489696</td>\n",
       "      <td>96937.366691</td>\n",
       "    </tr>\n",
       "  </tbody>\n",
       "</table>\n",
       "</div>"
      ],
      "text/plain": [
       "          Unnamed: 0  bedrooms  bathrooms  square_feet          value  \\\n",
       "county                                                                  \n",
       "False   1.076834e+06  3.278836   2.214680  1833.588247  444216.436546   \n",
       "True    1.071895e+06  3.568137   2.394496  2005.448401  436805.711574   \n",
       "\n",
       "               year          tax         fips  assessmentyear     land_value  \\\n",
       "county                                                                         \n",
       "False   1959.721804  5451.952569  6043.176869     2015.999990  276147.597825   \n",
       "True    1973.965780  4994.034867  6111.000000     2015.999824  222536.778143   \n",
       "\n",
       "        lot_square_feet       zipcode  \n",
       "county                                 \n",
       "False      10537.200070  96554.463111  \n",
       "True       12126.489696  96937.366691  "
      ]
     },
     "execution_count": 261,
     "metadata": {},
     "output_type": "execute_result"
    }
   ],
   "source": [
    "train.groupby(train.county == 'ventura').mean()"
   ]
  },
  {
   "cell_type": "code",
   "execution_count": 263,
   "id": "6287ff17",
   "metadata": {},
   "outputs": [
    {
     "data": {
      "text/plain": [
       "Text(0.5, 1.0, 'Zipcode Distribution for Ventura County')"
      ]
     },
     "execution_count": 263,
     "metadata": {},
     "output_type": "execute_result"
    },
    {
     "data": {
      "image/png": "[encoded data removed]",
      "text/plain": [
       "<Figure size 864x216 with 1 Axes>"
      ]
     },
     "metadata": {
      "needs_background": "light"
     },
     "output_type": "display_data"
    }
   ],
   "source": [
    "plt.figure(figsize=(12,3))\n",
    "train['zipcode'].value_counts().groupby(train.county == 'ventura').plot(kind='bar')\n",
    "plt.title('Zipcode Distribution for Ventura County')"
   ]
  },
  {
   "cell_type": "code",
   "execution_count": 272,
   "id": "2ec8131c",
   "metadata": {},
   "outputs": [
    {
     "data": {
      "text/plain": [
       "<AxesSubplot:xlabel='zipcode', ylabel='value'>"
      ]
     },
     "execution_count": 272,
     "metadata": {},
     "output_type": "execute_result"
    },
    {
     "data": {
      "image/png": "[encoded data removed]",
      "text/plain": [
       "<Figure size 1440x216 with 1 Axes>"
      ]
     },
     "metadata": {
      "needs_background": "light"
     },
     "output_type": "display_data"
    }
   ],
   "source": [
    "plt.figure(figsize=(20,3))\n",
    "sns.barplot(x= train.zipcode.where(train.county == 'ventura') , y='value', data=train)"
   ]
  },
  {
   "cell_type": "markdown",
   "id": "ad557881",
   "metadata": {},
   "source": [
    "sns.swarmplot(x= train.zipcode.where(train.county == 'ventura') , y='value', data=train)"
   ]
  },
  {
   "cell_type": "markdown",
   "id": "92b9bfc7",
   "metadata": {},
   "source": [
    "sns.stripplot(x= train.zipcode.where(train.county == 'ventura') , y='value', data=train)"
   ]
  }
 ],
 "metadata": {
  "kernelspec": {
   "display_name": "Python 3 (ipykernel)",
   "language": "python",
   "name": "python3"
  },
  "language_info": {
   "codemirror_mode": {
    "name": "ipython",
    "version": 3
   },
   "file_extension": ".py",
   "mimetype": "text/x-python",
   "name": "python",
   "nbconvert_exporter": "python",
   "pygments_lexer": "ipython3",
   "version": "3.9.7"
  }
 },
 "nbformat": 4,
 "nbformat_minor": 5
}

{
 "cells": [
  {
   "cell_type": "code",
   "execution_count": 1,
   "id": "ccc8fef8",
   "metadata": {},
   "outputs": [],
   "source": [
    "import warnings\n",
    "warnings.filterwarnings(\"ignore\")\n",
    "\n",
    "import pandas as pd\n",
    "import numpy as np\n",
    "\n",
    "import matplotlib.pyplot as plt\n",
    "import seaborn as sns\n",
    "\n",
    "from sklearn.model_selection import train_test_split\n",
    "from scipy.stats import pearsonr, spearmanr\n",
    "\n",
    "import env\n",
    "import acquire\n",
    "import wrangle\n",
    "\n",
    "from math import sqrt\n",
    "from scipy import stats"
   ]
  },
  {
   "cell_type": "code",
   "execution_count": 2,
   "id": "9addc52c",
   "metadata": {},
   "outputs": [],
   "source": [
    "from sklearn.linear_model import LinearRegression"
   ]
  },
  {
   "cell_type": "code",
   "execution_count": 4,
   "id": "57a0b7ff",
   "metadata": {},
   "outputs": [],
   "source": [
    "df = acquire.get_zillow_data()"
   ]
  },
  {
   "cell_type": "code",
   "execution_count": 5,
   "id": "01d1afac",
   "metadata": {},
   "outputs": [
    {
     "data": {
      "text/html": [
       "<div>\n",
       "<style scoped>\n",
       "    .dataframe tbody tr th:only-of-type {\n",
       "        vertical-align: middle;\n",
       "    }\n",
       "\n",
       "    .dataframe tbody tr th {\n",
       "        vertical-align: top;\n",
       "    }\n",
       "\n",
       "    .dataframe thead th {\n",
       "        text-align: right;\n",
       "    }\n",
       "</style>\n",
       "<table border=\"1\" class=\"dataframe\">\n",
       "  <thead>\n",
       "    <tr style=\"text-align: right;\">\n",
       "      <th></th>\n",
       "      <th>Unnamed: 0</th>\n",
       "      <th>parcelid</th>\n",
       "      <th>bedroomcnt</th>\n",
       "      <th>bathroomcnt</th>\n",
       "      <th>calculatedfinishedsquarefeet</th>\n",
       "      <th>taxvaluedollarcnt</th>\n",
       "      <th>yearbuilt</th>\n",
       "      <th>taxamount</th>\n",
       "      <th>fips</th>\n",
       "      <th>assessmentyear</th>\n",
       "      <th>landtaxvaluedollarcnt</th>\n",
       "      <th>lotsizesquarefeet</th>\n",
       "    </tr>\n",
       "  </thead>\n",
       "  <tbody>\n",
       "    <tr>\n",
       "      <th>0</th>\n",
       "      <td>0</td>\n",
       "      <td>10759547</td>\n",
       "      <td>0.0</td>\n",
       "      <td>0.0</td>\n",
       "      <td>NaN</td>\n",
       "      <td>27516.0</td>\n",
       "      <td>NaN</td>\n",
       "      <td>NaN</td>\n",
       "      <td>6037.0</td>\n",
       "      <td>2015.0</td>\n",
       "      <td>27516.0</td>\n",
       "      <td>4083.0</td>\n",
       "    </tr>\n",
       "    <tr>\n",
       "      <th>1</th>\n",
       "      <td>1</td>\n",
       "      <td>11193347</td>\n",
       "      <td>0.0</td>\n",
       "      <td>0.0</td>\n",
       "      <td>NaN</td>\n",
       "      <td>10.0</td>\n",
       "      <td>NaN</td>\n",
       "      <td>NaN</td>\n",
       "      <td>6037.0</td>\n",
       "      <td>2016.0</td>\n",
       "      <td>10.0</td>\n",
       "      <td>11975.0</td>\n",
       "    </tr>\n",
       "    <tr>\n",
       "      <th>2</th>\n",
       "      <td>2</td>\n",
       "      <td>11215747</td>\n",
       "      <td>0.0</td>\n",
       "      <td>0.0</td>\n",
       "      <td>NaN</td>\n",
       "      <td>10.0</td>\n",
       "      <td>NaN</td>\n",
       "      <td>NaN</td>\n",
       "      <td>6037.0</td>\n",
       "      <td>2016.0</td>\n",
       "      <td>10.0</td>\n",
       "      <td>9403.0</td>\n",
       "    </tr>\n",
       "    <tr>\n",
       "      <th>3</th>\n",
       "      <td>3</td>\n",
       "      <td>11229347</td>\n",
       "      <td>0.0</td>\n",
       "      <td>0.0</td>\n",
       "      <td>NaN</td>\n",
       "      <td>2108.0</td>\n",
       "      <td>NaN</td>\n",
       "      <td>174.21</td>\n",
       "      <td>6037.0</td>\n",
       "      <td>2016.0</td>\n",
       "      <td>2108.0</td>\n",
       "      <td>3817.0</td>\n",
       "    </tr>\n",
       "    <tr>\n",
       "      <th>4</th>\n",
       "      <td>4</td>\n",
       "      <td>11324547</td>\n",
       "      <td>4.0</td>\n",
       "      <td>2.0</td>\n",
       "      <td>3633.0</td>\n",
       "      <td>296425.0</td>\n",
       "      <td>2005.0</td>\n",
       "      <td>6941.39</td>\n",
       "      <td>6037.0</td>\n",
       "      <td>2016.0</td>\n",
       "      <td>74104.0</td>\n",
       "      <td>9826.0</td>\n",
       "    </tr>\n",
       "  </tbody>\n",
       "</table>\n",
       "</div>"
      ],
      "text/plain": [
       "   Unnamed: 0  parcelid  bedroomcnt  bathroomcnt  \\\n",
       "0           0  10759547         0.0          0.0   \n",
       "1           1  11193347         0.0          0.0   \n",
       "2           2  11215747         0.0          0.0   \n",
       "3           3  11229347         0.0          0.0   \n",
       "4           4  11324547         4.0          2.0   \n",
       "\n",
       "   calculatedfinishedsquarefeet  taxvaluedollarcnt  yearbuilt  taxamount  \\\n",
       "0                           NaN            27516.0        NaN        NaN   \n",
       "1                           NaN               10.0        NaN        NaN   \n",
       "2                           NaN               10.0        NaN        NaN   \n",
       "3                           NaN             2108.0        NaN     174.21   \n",
       "4                        3633.0           296425.0     2005.0    6941.39   \n",
       "\n",
       "     fips  assessmentyear  landtaxvaluedollarcnt  lotsizesquarefeet  \n",
       "0  6037.0          2015.0                27516.0             4083.0  \n",
       "1  6037.0          2016.0                   10.0            11975.0  \n",
       "2  6037.0          2016.0                   10.0             9403.0  \n",
       "3  6037.0          2016.0                 2108.0             3817.0  \n",
       "4  6037.0          2016.0                74104.0             9826.0  "
      ]
     },
     "execution_count": 5,
     "metadata": {},
     "output_type": "execute_result"
    }
   ],
   "source": [
    "df.head()"
   ]
  },
  {
   "cell_type": "code",
   "execution_count": 7,
   "id": "5559b254",
   "metadata": {},
   "outputs": [],
   "source": [
    "df = wrangle.wrangle_zillow(df)"
   ]
  },
  {
   "cell_type": "code",
   "execution_count": 8,
   "id": "0afb96f6",
   "metadata": {},
   "outputs": [
    {
     "data": {
      "text/html": [
       "<div>\n",
       "<style scoped>\n",
       "    .dataframe tbody tr th:only-of-type {\n",
       "        vertical-align: middle;\n",
       "    }\n",
       "\n",
       "    .dataframe tbody tr th {\n",
       "        vertical-align: top;\n",
       "    }\n",
       "\n",
       "    .dataframe thead th {\n",
       "        text-align: right;\n",
       "    }\n",
       "</style>\n",
       "<table border=\"1\" class=\"dataframe\">\n",
       "  <thead>\n",
       "    <tr style=\"text-align: right;\">\n",
       "      <th></th>\n",
       "      <th>Unnamed: 0</th>\n",
       "      <th>parcelid</th>\n",
       "      <th>bedrooms</th>\n",
       "      <th>bathrooms</th>\n",
       "      <th>square_feet</th>\n",
       "      <th>value</th>\n",
       "      <th>year</th>\n",
       "      <th>tax</th>\n",
       "      <th>fips</th>\n",
       "      <th>assessmentyear</th>\n",
       "      <th>landtaxvaluedollarcnt</th>\n",
       "      <th>lotsizesquarefeet</th>\n",
       "      <th>county</th>\n",
       "    </tr>\n",
       "  </thead>\n",
       "  <tbody>\n",
       "    <tr>\n",
       "      <th>4</th>\n",
       "      <td>4</td>\n",
       "      <td>11324547</td>\n",
       "      <td>4.0</td>\n",
       "      <td>2.0</td>\n",
       "      <td>3633</td>\n",
       "      <td>296425</td>\n",
       "      <td>2005</td>\n",
       "      <td>6941.39</td>\n",
       "      <td>6037</td>\n",
       "      <td>2016.0</td>\n",
       "      <td>74104.0</td>\n",
       "      <td>9826.0</td>\n",
       "      <td>los_angeles</td>\n",
       "    </tr>\n",
       "    <tr>\n",
       "      <th>7</th>\n",
       "      <td>7</td>\n",
       "      <td>11585547</td>\n",
       "      <td>3.0</td>\n",
       "      <td>2.0</td>\n",
       "      <td>2077</td>\n",
       "      <td>646760</td>\n",
       "      <td>1926</td>\n",
       "      <td>7924.68</td>\n",
       "      <td>6037</td>\n",
       "      <td>2016.0</td>\n",
       "      <td>436568.0</td>\n",
       "      <td>6490.0</td>\n",
       "      <td>los_angeles</td>\n",
       "    </tr>\n",
       "    <tr>\n",
       "      <th>18</th>\n",
       "      <td>18</td>\n",
       "      <td>12716947</td>\n",
       "      <td>3.0</td>\n",
       "      <td>1.0</td>\n",
       "      <td>1244</td>\n",
       "      <td>169471</td>\n",
       "      <td>1950</td>\n",
       "      <td>2532.88</td>\n",
       "      <td>6037</td>\n",
       "      <td>2016.0</td>\n",
       "      <td>61431.0</td>\n",
       "      <td>6021.0</td>\n",
       "      <td>los_angeles</td>\n",
       "    </tr>\n",
       "    <tr>\n",
       "      <th>19</th>\n",
       "      <td>19</td>\n",
       "      <td>12757147</td>\n",
       "      <td>3.0</td>\n",
       "      <td>2.0</td>\n",
       "      <td>1300</td>\n",
       "      <td>233266</td>\n",
       "      <td>1950</td>\n",
       "      <td>3110.99</td>\n",
       "      <td>6037</td>\n",
       "      <td>2016.0</td>\n",
       "      <td>155851.0</td>\n",
       "      <td>4917.0</td>\n",
       "      <td>los_angeles</td>\n",
       "    </tr>\n",
       "    <tr>\n",
       "      <th>20</th>\n",
       "      <td>20</td>\n",
       "      <td>12757947</td>\n",
       "      <td>3.0</td>\n",
       "      <td>2.0</td>\n",
       "      <td>1222</td>\n",
       "      <td>290492</td>\n",
       "      <td>1951</td>\n",
       "      <td>3870.25</td>\n",
       "      <td>6037</td>\n",
       "      <td>2016.0</td>\n",
       "      <td>172653.0</td>\n",
       "      <td>5500.0</td>\n",
       "      <td>los_angeles</td>\n",
       "    </tr>\n",
       "  </tbody>\n",
       "</table>\n",
       "</div>"
      ],
      "text/plain": [
       "    Unnamed: 0  parcelid  bedrooms  bathrooms  square_feet   value  year  \\\n",
       "4            4  11324547       4.0        2.0         3633  296425  2005   \n",
       "7            7  11585547       3.0        2.0         2077  646760  1926   \n",
       "18          18  12716947       3.0        1.0         1244  169471  1950   \n",
       "19          19  12757147       3.0        2.0         1300  233266  1950   \n",
       "20          20  12757947       3.0        2.0         1222  290492  1951   \n",
       "\n",
       "        tax  fips  assessmentyear  landtaxvaluedollarcnt  lotsizesquarefeet  \\\n",
       "4   6941.39  6037          2016.0                74104.0             9826.0   \n",
       "7   7924.68  6037          2016.0               436568.0             6490.0   \n",
       "18  2532.88  6037          2016.0                61431.0             6021.0   \n",
       "19  3110.99  6037          2016.0               155851.0             4917.0   \n",
       "20  3870.25  6037          2016.0               172653.0             5500.0   \n",
       "\n",
       "         county  \n",
       "4   los_angeles  \n",
       "7   los_angeles  \n",
       "18  los_angeles  \n",
       "19  los_angeles  \n",
       "20  los_angeles  "
      ]
     },
     "execution_count": 8,
     "metadata": {},
     "output_type": "execute_result"
    }
   ],
   "source": [
    "df.head()"
   ]
  },
  {
   "cell_type": "code",
   "execution_count": 9,
   "id": "4e9dfd68",
   "metadata": {},
   "outputs": [],
   "source": [
    "train_and_validate, test = train_test_split(df, test_size=.2, random_state=123)\n",
    "train, validate = train_test_split(train_and_validate, test_size=.3, random_state=123)"
   ]
  },
  {
   "cell_type": "code",
   "execution_count": 10,
   "id": "a69d7f9a",
   "metadata": {},
   "outputs": [
    {
     "data": {
      "text/html": [
       "<div>\n",
       "<style scoped>\n",
       "    .dataframe tbody tr th:only-of-type {\n",
       "        vertical-align: middle;\n",
       "    }\n",
       "\n",
       "    .dataframe tbody tr th {\n",
       "        vertical-align: top;\n",
       "    }\n",
       "\n",
       "    .dataframe thead th {\n",
       "        text-align: right;\n",
       "    }\n",
       "</style>\n",
       "<table border=\"1\" class=\"dataframe\">\n",
       "  <thead>\n",
       "    <tr style=\"text-align: right;\">\n",
       "      <th></th>\n",
       "      <th>Unnamed: 0</th>\n",
       "      <th>parcelid</th>\n",
       "      <th>bedrooms</th>\n",
       "      <th>bathrooms</th>\n",
       "      <th>square_feet</th>\n",
       "      <th>value</th>\n",
       "      <th>year</th>\n",
       "      <th>tax</th>\n",
       "      <th>fips</th>\n",
       "      <th>assessmentyear</th>\n",
       "      <th>landtaxvaluedollarcnt</th>\n",
       "      <th>lotsizesquarefeet</th>\n",
       "      <th>county</th>\n",
       "    </tr>\n",
       "  </thead>\n",
       "  <tbody>\n",
       "    <tr>\n",
       "      <th>451021</th>\n",
       "      <td>451021</td>\n",
       "      <td>14320758</td>\n",
       "      <td>4.0</td>\n",
       "      <td>2.0</td>\n",
       "      <td>2295</td>\n",
       "      <td>661914</td>\n",
       "      <td>1977</td>\n",
       "      <td>6956.64</td>\n",
       "      <td>6059</td>\n",
       "      <td>2016.0</td>\n",
       "      <td>479253.0</td>\n",
       "      <td>5890.0</td>\n",
       "      <td>orange</td>\n",
       "    </tr>\n",
       "    <tr>\n",
       "      <th>2047707</th>\n",
       "      <td>2047707</td>\n",
       "      <td>11276175</td>\n",
       "      <td>4.0</td>\n",
       "      <td>3.0</td>\n",
       "      <td>1914</td>\n",
       "      <td>152282</td>\n",
       "      <td>1996</td>\n",
       "      <td>2691.01</td>\n",
       "      <td>6037</td>\n",
       "      <td>2016.0</td>\n",
       "      <td>33100.0</td>\n",
       "      <td>5656.0</td>\n",
       "      <td>los_angeles</td>\n",
       "    </tr>\n",
       "    <tr>\n",
       "      <th>48623</th>\n",
       "      <td>48623</td>\n",
       "      <td>12495729</td>\n",
       "      <td>3.0</td>\n",
       "      <td>1.0</td>\n",
       "      <td>1118</td>\n",
       "      <td>558387</td>\n",
       "      <td>1950</td>\n",
       "      <td>6740.91</td>\n",
       "      <td>6037</td>\n",
       "      <td>2016.0</td>\n",
       "      <td>446710.0</td>\n",
       "      <td>10157.0</td>\n",
       "      <td>los_angeles</td>\n",
       "    </tr>\n",
       "    <tr>\n",
       "      <th>919293</th>\n",
       "      <td>919293</td>\n",
       "      <td>11936247</td>\n",
       "      <td>5.0</td>\n",
       "      <td>1.0</td>\n",
       "      <td>2034</td>\n",
       "      <td>273112</td>\n",
       "      <td>1901</td>\n",
       "      <td>3345.13</td>\n",
       "      <td>6037</td>\n",
       "      <td>2016.0</td>\n",
       "      <td>271659.0</td>\n",
       "      <td>4785.0</td>\n",
       "      <td>los_angeles</td>\n",
       "    </tr>\n",
       "    <tr>\n",
       "      <th>254952</th>\n",
       "      <td>254952</td>\n",
       "      <td>13000978</td>\n",
       "      <td>3.0</td>\n",
       "      <td>1.0</td>\n",
       "      <td>1314</td>\n",
       "      <td>276333</td>\n",
       "      <td>1950</td>\n",
       "      <td>4151.61</td>\n",
       "      <td>6037</td>\n",
       "      <td>2016.0</td>\n",
       "      <td>208973.0</td>\n",
       "      <td>5182.0</td>\n",
       "      <td>los_angeles</td>\n",
       "    </tr>\n",
       "  </tbody>\n",
       "</table>\n",
       "</div>"
      ],
      "text/plain": [
       "         Unnamed: 0  parcelid  bedrooms  bathrooms  square_feet   value  year  \\\n",
       "451021       451021  14320758       4.0        2.0         2295  661914  1977   \n",
       "2047707     2047707  11276175       4.0        3.0         1914  152282  1996   \n",
       "48623         48623  12495729       3.0        1.0         1118  558387  1950   \n",
       "919293       919293  11936247       5.0        1.0         2034  273112  1901   \n",
       "254952       254952  13000978       3.0        1.0         1314  276333  1950   \n",
       "\n",
       "             tax  fips  assessmentyear  landtaxvaluedollarcnt  \\\n",
       "451021   6956.64  6059          2016.0               479253.0   \n",
       "2047707  2691.01  6037          2016.0                33100.0   \n",
       "48623    6740.91  6037          2016.0               446710.0   \n",
       "919293   3345.13  6037          2016.0               271659.0   \n",
       "254952   4151.61  6037          2016.0               208973.0   \n",
       "\n",
       "         lotsizesquarefeet       county  \n",
       "451021              5890.0       orange  \n",
       "2047707             5656.0  los_angeles  \n",
       "48623              10157.0  los_angeles  \n",
       "919293              4785.0  los_angeles  \n",
       "254952              5182.0  los_angeles  "
      ]
     },
     "execution_count": 10,
     "metadata": {},
     "output_type": "execute_result"
    }
   ],
   "source": [
    "train.head()"
   ]
  },
  {
   "cell_type": "code",
   "execution_count": 21,
   "id": "d79f1d03",
   "metadata": {},
   "outputs": [
    {
     "data": {
      "text/html": [
       "<div>\n",
       "<style scoped>\n",
       "    .dataframe tbody tr th:only-of-type {\n",
       "        vertical-align: middle;\n",
       "    }\n",
       "\n",
       "    .dataframe tbody tr th {\n",
       "        vertical-align: top;\n",
       "    }\n",
       "\n",
       "    .dataframe thead th {\n",
       "        text-align: right;\n",
       "    }\n",
       "</style>\n",
       "<table border=\"1\" class=\"dataframe\">\n",
       "  <thead>\n",
       "    <tr style=\"text-align: right;\">\n",
       "      <th></th>\n",
       "      <th>value</th>\n",
       "      <th>square_feet</th>\n",
       "    </tr>\n",
       "  </thead>\n",
       "  <tbody>\n",
       "    <tr>\n",
       "      <th>451021</th>\n",
       "      <td>661914</td>\n",
       "      <td>2295</td>\n",
       "    </tr>\n",
       "    <tr>\n",
       "      <th>2047707</th>\n",
       "      <td>152282</td>\n",
       "      <td>1914</td>\n",
       "    </tr>\n",
       "    <tr>\n",
       "      <th>48623</th>\n",
       "      <td>558387</td>\n",
       "      <td>1118</td>\n",
       "    </tr>\n",
       "    <tr>\n",
       "      <th>919293</th>\n",
       "      <td>273112</td>\n",
       "      <td>2034</td>\n",
       "    </tr>\n",
       "    <tr>\n",
       "      <th>254952</th>\n",
       "      <td>276333</td>\n",
       "      <td>1314</td>\n",
       "    </tr>\n",
       "    <tr>\n",
       "      <th>...</th>\n",
       "      <td>...</td>\n",
       "      <td>...</td>\n",
       "    </tr>\n",
       "    <tr>\n",
       "      <th>102510</th>\n",
       "      <td>477709</td>\n",
       "      <td>1669</td>\n",
       "    </tr>\n",
       "    <tr>\n",
       "      <th>1976504</th>\n",
       "      <td>1400549</td>\n",
       "      <td>4949</td>\n",
       "    </tr>\n",
       "    <tr>\n",
       "      <th>1202344</th>\n",
       "      <td>228986</td>\n",
       "      <td>1159</td>\n",
       "    </tr>\n",
       "    <tr>\n",
       "      <th>1632452</th>\n",
       "      <td>170266</td>\n",
       "      <td>3023</td>\n",
       "    </tr>\n",
       "    <tr>\n",
       "      <th>457514</th>\n",
       "      <td>251081</td>\n",
       "      <td>903</td>\n",
       "    </tr>\n",
       "  </tbody>\n",
       "</table>\n",
       "<p>1186424 rows × 2 columns</p>\n",
       "</div>"
      ],
      "text/plain": [
       "           value  square_feet\n",
       "451021    661914         2295\n",
       "2047707   152282         1914\n",
       "48623     558387         1118\n",
       "919293    273112         2034\n",
       "254952    276333         1314\n",
       "...          ...          ...\n",
       "102510    477709         1669\n",
       "1976504  1400549         4949\n",
       "1202344   228986         1159\n",
       "1632452   170266         3023\n",
       "457514    251081          903\n",
       "\n",
       "[1186424 rows x 2 columns]"
      ]
     },
     "execution_count": 21,
     "metadata": {},
     "output_type": "execute_result"
    }
   ],
   "source": [
    "model = train[['value','square_feet']]\n",
    "model"
   ]
  },
  {
   "cell_type": "code",
   "execution_count": 22,
   "id": "b29d9425",
   "metadata": {},
   "outputs": [],
   "source": [
    "y = model['value']\n",
    "X = model['square_feet']"
   ]
  },
  {
   "cell_type": "code",
   "execution_count": 23,
   "id": "0ac4a57f",
   "metadata": {},
   "outputs": [
    {
     "data": {
      "image/png": "[encoded data removed]",
      "text/plain": [
       "<Figure size 432x288 with 1 Axes>"
      ]
     },
     "metadata": {
      "needs_background": "light"
     },
     "output_type": "display_data"
    }
   ],
   "source": [
    "plt.scatter(X, y)\n",
    "plt.xlabel('x = square footage')\n",
    "plt.ylabel('y = value');"
   ]
  },
  {
   "cell_type": "code",
   "execution_count": 24,
   "id": "bd4e14cc",
   "metadata": {},
   "outputs": [
    {
     "data": {
      "text/plain": [
       "443588.03698003414"
      ]
     },
     "execution_count": 24,
     "metadata": {},
     "output_type": "execute_result"
    }
   ],
   "source": [
    "baseline = y.mean()\n",
    "baseline "
   ]
  },
  {
   "cell_type": "code",
   "execution_count": 26,
   "id": "fc90f618",
   "metadata": {},
   "outputs": [
    {
     "data": {
      "text/html": [
       "<div>\n",
       "<style scoped>\n",
       "    .dataframe tbody tr th:only-of-type {\n",
       "        vertical-align: middle;\n",
       "    }\n",
       "\n",
       "    .dataframe tbody tr th {\n",
       "        vertical-align: top;\n",
       "    }\n",
       "\n",
       "    .dataframe thead th {\n",
       "        text-align: right;\n",
       "    }\n",
       "</style>\n",
       "<table border=\"1\" class=\"dataframe\">\n",
       "  <thead>\n",
       "    <tr style=\"text-align: right;\">\n",
       "      <th></th>\n",
       "      <th>value</th>\n",
       "      <th>square_feet</th>\n",
       "      <th>baseline</th>\n",
       "    </tr>\n",
       "  </thead>\n",
       "  <tbody>\n",
       "    <tr>\n",
       "      <th>451021</th>\n",
       "      <td>661914</td>\n",
       "      <td>2295</td>\n",
       "      <td>443588.03698</td>\n",
       "    </tr>\n",
       "    <tr>\n",
       "      <th>2047707</th>\n",
       "      <td>152282</td>\n",
       "      <td>1914</td>\n",
       "      <td>443588.03698</td>\n",
       "    </tr>\n",
       "    <tr>\n",
       "      <th>48623</th>\n",
       "      <td>558387</td>\n",
       "      <td>1118</td>\n",
       "      <td>443588.03698</td>\n",
       "    </tr>\n",
       "    <tr>\n",
       "      <th>919293</th>\n",
       "      <td>273112</td>\n",
       "      <td>2034</td>\n",
       "      <td>443588.03698</td>\n",
       "    </tr>\n",
       "    <tr>\n",
       "      <th>254952</th>\n",
       "      <td>276333</td>\n",
       "      <td>1314</td>\n",
       "      <td>443588.03698</td>\n",
       "    </tr>\n",
       "  </tbody>\n",
       "</table>\n",
       "</div>"
      ],
      "text/plain": [
       "          value  square_feet      baseline\n",
       "451021   661914         2295  443588.03698\n",
       "2047707  152282         1914  443588.03698\n",
       "48623    558387         1118  443588.03698\n",
       "919293   273112         2034  443588.03698\n",
       "254952   276333         1314  443588.03698"
      ]
     },
     "execution_count": 26,
     "metadata": {},
     "output_type": "execute_result"
    }
   ],
   "source": [
    "model['baseline'] = model.value.mean()\n",
    "model.head()"
   ]
  },
  {
   "cell_type": "code",
   "execution_count": 27,
   "id": "2552897b",
   "metadata": {},
   "outputs": [
    {
     "data": {
      "text/html": [
       "<div>\n",
       "<style scoped>\n",
       "    .dataframe tbody tr th:only-of-type {\n",
       "        vertical-align: middle;\n",
       "    }\n",
       "\n",
       "    .dataframe tbody tr th {\n",
       "        vertical-align: top;\n",
       "    }\n",
       "\n",
       "    .dataframe thead th {\n",
       "        text-align: right;\n",
       "    }\n",
       "</style>\n",
       "<table border=\"1\" class=\"dataframe\">\n",
       "  <thead>\n",
       "    <tr style=\"text-align: right;\">\n",
       "      <th></th>\n",
       "      <th>value</th>\n",
       "      <th>square_feet</th>\n",
       "      <th>baseline</th>\n",
       "      <th>yhat</th>\n",
       "    </tr>\n",
       "  </thead>\n",
       "  <tbody>\n",
       "    <tr>\n",
       "      <th>451021</th>\n",
       "      <td>661914</td>\n",
       "      <td>2295</td>\n",
       "      <td>443588.03698</td>\n",
       "      <td>5.966974e+05</td>\n",
       "    </tr>\n",
       "    <tr>\n",
       "      <th>2047707</th>\n",
       "      <td>152282</td>\n",
       "      <td>1914</td>\n",
       "      <td>443588.03698</td>\n",
       "      <td>4.669495e+05</td>\n",
       "    </tr>\n",
       "    <tr>\n",
       "      <th>48623</th>\n",
       "      <td>558387</td>\n",
       "      <td>1118</td>\n",
       "      <td>443588.03698</td>\n",
       "      <td>1.958753e+05</td>\n",
       "    </tr>\n",
       "    <tr>\n",
       "      <th>919293</th>\n",
       "      <td>273112</td>\n",
       "      <td>2034</td>\n",
       "      <td>443588.03698</td>\n",
       "      <td>5.078150e+05</td>\n",
       "    </tr>\n",
       "    <tr>\n",
       "      <th>254952</th>\n",
       "      <td>276333</td>\n",
       "      <td>1314</td>\n",
       "      <td>443588.03698</td>\n",
       "      <td>2.626222e+05</td>\n",
       "    </tr>\n",
       "    <tr>\n",
       "      <th>...</th>\n",
       "      <td>...</td>\n",
       "      <td>...</td>\n",
       "      <td>...</td>\n",
       "      <td>...</td>\n",
       "    </tr>\n",
       "    <tr>\n",
       "      <th>102510</th>\n",
       "      <td>477709</td>\n",
       "      <td>1669</td>\n",
       "      <td>443588.03698</td>\n",
       "      <td>3.835159e+05</td>\n",
       "    </tr>\n",
       "    <tr>\n",
       "      <th>1976504</th>\n",
       "      <td>1400549</td>\n",
       "      <td>4949</td>\n",
       "      <td>443588.03698</td>\n",
       "      <td>1.500505e+06</td>\n",
       "    </tr>\n",
       "    <tr>\n",
       "      <th>1202344</th>\n",
       "      <td>228986</td>\n",
       "      <td>1159</td>\n",
       "      <td>443588.03698</td>\n",
       "      <td>2.098376e+05</td>\n",
       "    </tr>\n",
       "    <tr>\n",
       "      <th>1632452</th>\n",
       "      <td>170266</td>\n",
       "      <td>3023</td>\n",
       "      <td>443588.03698</td>\n",
       "      <td>8.446145e+05</td>\n",
       "    </tr>\n",
       "    <tr>\n",
       "      <th>457514</th>\n",
       "      <td>251081</td>\n",
       "      <td>903</td>\n",
       "      <td>443588.03698</td>\n",
       "      <td>1.226580e+05</td>\n",
       "    </tr>\n",
       "  </tbody>\n",
       "</table>\n",
       "<p>1186424 rows × 4 columns</p>\n",
       "</div>"
      ],
      "text/plain": [
       "           value  square_feet      baseline          yhat\n",
       "451021    661914         2295  443588.03698  5.966974e+05\n",
       "2047707   152282         1914  443588.03698  4.669495e+05\n",
       "48623     558387         1118  443588.03698  1.958753e+05\n",
       "919293    273112         2034  443588.03698  5.078150e+05\n",
       "254952    276333         1314  443588.03698  2.626222e+05\n",
       "...          ...          ...           ...           ...\n",
       "102510    477709         1669  443588.03698  3.835159e+05\n",
       "1976504  1400549         4949  443588.03698  1.500505e+06\n",
       "1202344   228986         1159  443588.03698  2.098376e+05\n",
       "1632452   170266         3023  443588.03698  8.446145e+05\n",
       "457514    251081          903  443588.03698  1.226580e+05\n",
       "\n",
       "[1186424 rows x 4 columns]"
      ]
     },
     "execution_count": 27,
     "metadata": {},
     "output_type": "execute_result"
    }
   ],
   "source": [
    "lm = LinearRegression(normalize=True)\n",
    "\n",
    "lm.fit(model[['square_feet']], model.value)\n",
    "\n",
    "model['yhat'] = lm.predict(model[['square_feet']])\n",
    "\n",
    "model"
   ]
  },
  {
   "cell_type": "code",
   "execution_count": 28,
   "id": "74efc957",
   "metadata": {},
   "outputs": [
    {
     "data": {
      "image/png": "[encoded data removed]",
      "text/plain": [
       "<Figure size 432x288 with 1 Axes>"
      ]
     },
     "metadata": {
      "needs_background": "light"
     },
     "output_type": "display_data"
    }
   ],
   "source": [
    "plt.scatter(model.square_feet, model.value)\n",
    "plt.axhline(model.value.mean(), ls = ':')\n",
    "plt.xlabel('x = square_feet')\n",
    "plt.ylabel('y = value')\n",
    "plt.title('Baseline model');"
   ]
  },
  {
   "cell_type": "code",
   "execution_count": 29,
   "id": "61d17603",
   "metadata": {},
   "outputs": [
    {
     "data": {
      "image/png": "[encoded data removed]",
      "text/plain": [
       "<Figure size 432x288 with 1 Axes>"
      ]
     },
     "metadata": {
      "needs_background": "light"
     },
     "output_type": "display_data"
    }
   ],
   "source": [
    "plt.scatter(model.square_feet, model.value)\n",
    "plt.plot(model.square_feet, model.yhat)\n",
    "plt.xlabel('x = square_feet')\n",
    "plt.ylabel('y = value')\n",
    "plt.title('OLS linear model');"
   ]
  },
  {
   "cell_type": "code",
   "execution_count": 30,
   "id": "d7249adf",
   "metadata": {},
   "outputs": [],
   "source": [
    "model['residual'] = model.value - model.yhat\n",
    "model['baseline_residual'] = model.value - model.baseline"
   ]
  },
  {
   "cell_type": "code",
   "execution_count": 31,
   "id": "7e451598",
   "metadata": {},
   "outputs": [
    {
     "data": {
      "text/html": [
       "<div>\n",
       "<style scoped>\n",
       "    .dataframe tbody tr th:only-of-type {\n",
       "        vertical-align: middle;\n",
       "    }\n",
       "\n",
       "    .dataframe tbody tr th {\n",
       "        vertical-align: top;\n",
       "    }\n",
       "\n",
       "    .dataframe thead th {\n",
       "        text-align: right;\n",
       "    }\n",
       "</style>\n",
       "<table border=\"1\" class=\"dataframe\">\n",
       "  <thead>\n",
       "    <tr style=\"text-align: right;\">\n",
       "      <th></th>\n",
       "      <th>value</th>\n",
       "      <th>square_feet</th>\n",
       "      <th>baseline</th>\n",
       "      <th>yhat</th>\n",
       "      <th>residual</th>\n",
       "      <th>baseline_residual</th>\n",
       "    </tr>\n",
       "  </thead>\n",
       "  <tbody>\n",
       "    <tr>\n",
       "      <th>451021</th>\n",
       "      <td>661914</td>\n",
       "      <td>2295</td>\n",
       "      <td>443588.03698</td>\n",
       "      <td>5.966974e+05</td>\n",
       "      <td>65216.643881</td>\n",
       "      <td>218325.96302</td>\n",
       "    </tr>\n",
       "    <tr>\n",
       "      <th>2047707</th>\n",
       "      <td>152282</td>\n",
       "      <td>1914</td>\n",
       "      <td>443588.03698</td>\n",
       "      <td>4.669495e+05</td>\n",
       "      <td>-314667.507099</td>\n",
       "      <td>-291306.03698</td>\n",
       "    </tr>\n",
       "    <tr>\n",
       "      <th>48623</th>\n",
       "      <td>558387</td>\n",
       "      <td>1118</td>\n",
       "      <td>443588.03698</td>\n",
       "      <td>1.958753e+05</td>\n",
       "      <td>362511.739147</td>\n",
       "      <td>114798.96302</td>\n",
       "    </tr>\n",
       "    <tr>\n",
       "      <th>919293</th>\n",
       "      <td>273112</td>\n",
       "      <td>2034</td>\n",
       "      <td>443588.03698</td>\n",
       "      <td>5.078150e+05</td>\n",
       "      <td>-234702.971357</td>\n",
       "      <td>-170476.03698</td>\n",
       "    </tr>\n",
       "    <tr>\n",
       "      <th>254952</th>\n",
       "      <td>276333</td>\n",
       "      <td>1314</td>\n",
       "      <td>443588.03698</td>\n",
       "      <td>2.626222e+05</td>\n",
       "      <td>13710.814192</td>\n",
       "      <td>-167255.03698</td>\n",
       "    </tr>\n",
       "    <tr>\n",
       "      <th>...</th>\n",
       "      <td>...</td>\n",
       "      <td>...</td>\n",
       "      <td>...</td>\n",
       "      <td>...</td>\n",
       "      <td>...</td>\n",
       "      <td>...</td>\n",
       "    </tr>\n",
       "    <tr>\n",
       "      <th>102510</th>\n",
       "      <td>477709</td>\n",
       "      <td>1669</td>\n",
       "      <td>443588.03698</td>\n",
       "      <td>3.835159e+05</td>\n",
       "      <td>94193.149095</td>\n",
       "      <td>34120.96302</td>\n",
       "    </tr>\n",
       "    <tr>\n",
       "      <th>1976504</th>\n",
       "      <td>1400549</td>\n",
       "      <td>4949</td>\n",
       "      <td>443588.03698</td>\n",
       "      <td>1.500505e+06</td>\n",
       "      <td>-99956.207296</td>\n",
       "      <td>956960.96302</td>\n",
       "    </tr>\n",
       "    <tr>\n",
       "      <th>1202344</th>\n",
       "      <td>228986</td>\n",
       "      <td>1159</td>\n",
       "      <td>443588.03698</td>\n",
       "      <td>2.098376e+05</td>\n",
       "      <td>19148.372192</td>\n",
       "      <td>-214602.03698</td>\n",
       "    </tr>\n",
       "    <tr>\n",
       "      <th>1632452</th>\n",
       "      <td>170266</td>\n",
       "      <td>3023</td>\n",
       "      <td>443588.03698</td>\n",
       "      <td>8.446145e+05</td>\n",
       "      <td>-674348.505952</td>\n",
       "      <td>-273322.03698</td>\n",
       "    </tr>\n",
       "    <tr>\n",
       "      <th>457514</th>\n",
       "      <td>251081</td>\n",
       "      <td>903</td>\n",
       "      <td>443588.03698</td>\n",
       "      <td>1.226580e+05</td>\n",
       "      <td>128423.029276</td>\n",
       "      <td>-192507.03698</td>\n",
       "    </tr>\n",
       "  </tbody>\n",
       "</table>\n",
       "<p>1186424 rows × 6 columns</p>\n",
       "</div>"
      ],
      "text/plain": [
       "           value  square_feet      baseline          yhat       residual  \\\n",
       "451021    661914         2295  443588.03698  5.966974e+05   65216.643881   \n",
       "2047707   152282         1914  443588.03698  4.669495e+05 -314667.507099   \n",
       "48623     558387         1118  443588.03698  1.958753e+05  362511.739147   \n",
       "919293    273112         2034  443588.03698  5.078150e+05 -234702.971357   \n",
       "254952    276333         1314  443588.03698  2.626222e+05   13710.814192   \n",
       "...          ...          ...           ...           ...            ...   \n",
       "102510    477709         1669  443588.03698  3.835159e+05   94193.149095   \n",
       "1976504  1400549         4949  443588.03698  1.500505e+06  -99956.207296   \n",
       "1202344   228986         1159  443588.03698  2.098376e+05   19148.372192   \n",
       "1632452   170266         3023  443588.03698  8.446145e+05 -674348.505952   \n",
       "457514    251081          903  443588.03698  1.226580e+05  128423.029276   \n",
       "\n",
       "         baseline_residual  \n",
       "451021        218325.96302  \n",
       "2047707      -291306.03698  \n",
       "48623         114798.96302  \n",
       "919293       -170476.03698  \n",
       "254952       -167255.03698  \n",
       "...                    ...  \n",
       "102510         34120.96302  \n",
       "1976504       956960.96302  \n",
       "1202344      -214602.03698  \n",
       "1632452      -273322.03698  \n",
       "457514       -192507.03698  \n",
       "\n",
       "[1186424 rows x 6 columns]"
      ]
     },
     "execution_count": 31,
     "metadata": {},
     "output_type": "execute_result"
    }
   ],
   "source": [
    "model"
   ]
  },
  {
   "cell_type": "code",
   "execution_count": 32,
   "id": "11446d61",
   "metadata": {},
   "outputs": [
    {
     "data": {
      "text/plain": [
       "(-4.4852495193481445e-05, -1.004338264465332e-05)"
      ]
     },
     "execution_count": 32,
     "metadata": {},
     "output_type": "execute_result"
    }
   ],
   "source": [
    "model.residual.sum(), model.baseline_residual.sum()"
   ]
  },
  {
   "cell_type": "code",
   "execution_count": 33,
   "id": "d987f4c3",
   "metadata": {},
   "outputs": [
    {
     "data": {
      "image/png": "[encoded data removed]",
      "text/plain": [
       "<Figure size 792x360 with 2 Axes>"
      ]
     },
     "metadata": {
      "needs_background": "light"
     },
     "output_type": "display_data"
    }
   ],
   "source": [
    "plt.figure(figsize = (11,5))\n",
    "\n",
    "plt.subplot(121)\n",
    "plt.scatter(model.square_feet, model.baseline_residual)\n",
    "plt.axhline(y = 0, ls = ':')\n",
    "plt.xlabel('x')\n",
    "plt.ylabel('Residual')\n",
    "plt.title('Baseline Residuals')\n",
    "\n",
    "plt.subplot(122)\n",
    "plt.scatter(model.square_feet, model.residual)\n",
    "plt.axhline(y = 0, ls = ':')\n",
    "plt.xlabel('x')\n",
    "plt.ylabel('Residual')\n",
    "plt.title('OLS model residuals');"
   ]
  },
  {
   "cell_type": "code",
   "execution_count": 35,
   "id": "7788a74a",
   "metadata": {},
   "outputs": [
    {
     "data": {
      "text/html": [
       "<div>\n",
       "<style scoped>\n",
       "    .dataframe tbody tr th:only-of-type {\n",
       "        vertical-align: middle;\n",
       "    }\n",
       "\n",
       "    .dataframe tbody tr th {\n",
       "        vertical-align: top;\n",
       "    }\n",
       "\n",
       "    .dataframe thead th {\n",
       "        text-align: right;\n",
       "    }\n",
       "</style>\n",
       "<table border=\"1\" class=\"dataframe\">\n",
       "  <thead>\n",
       "    <tr style=\"text-align: right;\">\n",
       "      <th></th>\n",
       "      <th>value</th>\n",
       "      <th>square_feet</th>\n",
       "      <th>baseline</th>\n",
       "      <th>yhat</th>\n",
       "      <th>residual</th>\n",
       "      <th>baseline_residual</th>\n",
       "      <th>residual^2</th>\n",
       "      <th>baseline_residual^2</th>\n",
       "    </tr>\n",
       "  </thead>\n",
       "  <tbody>\n",
       "    <tr>\n",
       "      <th>451021</th>\n",
       "      <td>661914</td>\n",
       "      <td>2295</td>\n",
       "      <td>443588.03698</td>\n",
       "      <td>596697.356119</td>\n",
       "      <td>65216.643881</td>\n",
       "      <td>218325.96302</td>\n",
       "      <td>4.253211e+09</td>\n",
       "      <td>4.766623e+10</td>\n",
       "    </tr>\n",
       "    <tr>\n",
       "      <th>2047707</th>\n",
       "      <td>152282</td>\n",
       "      <td>1914</td>\n",
       "      <td>443588.03698</td>\n",
       "      <td>466949.507099</td>\n",
       "      <td>-314667.507099</td>\n",
       "      <td>-291306.03698</td>\n",
       "      <td>9.901564e+10</td>\n",
       "      <td>8.485921e+10</td>\n",
       "    </tr>\n",
       "    <tr>\n",
       "      <th>48623</th>\n",
       "      <td>558387</td>\n",
       "      <td>1118</td>\n",
       "      <td>443588.03698</td>\n",
       "      <td>195875.260853</td>\n",
       "      <td>362511.739147</td>\n",
       "      <td>114798.96302</td>\n",
       "      <td>1.314148e+11</td>\n",
       "      <td>1.317880e+10</td>\n",
       "    </tr>\n",
       "    <tr>\n",
       "      <th>919293</th>\n",
       "      <td>273112</td>\n",
       "      <td>2034</td>\n",
       "      <td>443588.03698</td>\n",
       "      <td>507814.971357</td>\n",
       "      <td>-234702.971357</td>\n",
       "      <td>-170476.03698</td>\n",
       "      <td>5.508548e+10</td>\n",
       "      <td>2.906208e+10</td>\n",
       "    </tr>\n",
       "    <tr>\n",
       "      <th>254952</th>\n",
       "      <td>276333</td>\n",
       "      <td>1314</td>\n",
       "      <td>443588.03698</td>\n",
       "      <td>262622.185808</td>\n",
       "      <td>13710.814192</td>\n",
       "      <td>-167255.03698</td>\n",
       "      <td>1.879864e+08</td>\n",
       "      <td>2.797425e+10</td>\n",
       "    </tr>\n",
       "  </tbody>\n",
       "</table>\n",
       "</div>"
      ],
      "text/plain": [
       "          value  square_feet      baseline           yhat       residual  \\\n",
       "451021   661914         2295  443588.03698  596697.356119   65216.643881   \n",
       "2047707  152282         1914  443588.03698  466949.507099 -314667.507099   \n",
       "48623    558387         1118  443588.03698  195875.260853  362511.739147   \n",
       "919293   273112         2034  443588.03698  507814.971357 -234702.971357   \n",
       "254952   276333         1314  443588.03698  262622.185808   13710.814192   \n",
       "\n",
       "         baseline_residual    residual^2  baseline_residual^2  \n",
       "451021        218325.96302  4.253211e+09         4.766623e+10  \n",
       "2047707      -291306.03698  9.901564e+10         8.485921e+10  \n",
       "48623         114798.96302  1.314148e+11         1.317880e+10  \n",
       "919293       -170476.03698  5.508548e+10         2.906208e+10  \n",
       "254952       -167255.03698  1.879864e+08         2.797425e+10  "
      ]
     },
     "execution_count": 35,
     "metadata": {},
     "output_type": "execute_result"
    }
   ],
   "source": [
    "model['residual^2'] = model.residual**2\n",
    "model['baseline_residual^2'] = model.baseline_residual**2\n",
    "\n",
    "model.head()"
   ]
  },
  {
   "cell_type": "markdown",
   "id": "e18ee595",
   "metadata": {},
   "source": [
    "### SSE (Sum of Squared Errors)"
   ]
  },
  {
   "cell_type": "code",
   "execution_count": 37,
   "id": "df0b9863",
   "metadata": {},
   "outputs": [
    {
     "data": {
      "text/plain": [
       "(1.724132941512661e+17, 2.808871735867613e+17)"
      ]
     },
     "execution_count": 37,
     "metadata": {},
     "output_type": "execute_result"
    }
   ],
   "source": [
    "SSE = model['residual^2'].sum()\n",
    "SSE_baseline = model['baseline_residual^2'].sum()\n",
    "SSE, SSE_baseline"
   ]
  },
  {
   "cell_type": "markdown",
   "id": "2382ba3f",
   "metadata": {},
   "source": [
    "### TSS (total sum of squared errors)"
   ]
  },
  {
   "cell_type": "code",
   "execution_count": 41,
   "id": "bb1b28ee",
   "metadata": {},
   "outputs": [
    {
     "data": {
      "text/plain": [
       "2.808871735867613e+17"
      ]
     },
     "execution_count": 41,
     "metadata": {},
     "output_type": "execute_result"
    }
   ],
   "source": [
    "TSS = SSE_baseline =   model['baseline_residual^2'].sum()\n",
    "TSS"
   ]
  },
  {
   "cell_type": "markdown",
   "id": "ab3bc6ac",
   "metadata": {},
   "source": [
    "### ESS (explained sum of squared errors)"
   ]
  },
  {
   "cell_type": "code",
   "execution_count": 43,
   "id": "2f745b7a",
   "metadata": {},
   "outputs": [
    {
     "data": {
      "text/plain": [
       "1.084738794354952e+17"
      ]
     },
     "execution_count": 43,
     "metadata": {},
     "output_type": "execute_result"
    }
   ],
   "source": [
    "ESS = TSS - SSE\n",
    "ESS\n"
   ]
  },
  {
   "cell_type": "markdown",
   "id": "c3fe657a",
   "metadata": {},
   "source": [
    "### MSE (Mean Squared Error)"
   ]
  },
  {
   "cell_type": "code",
   "execution_count": 38,
   "id": "ccc961d0",
   "metadata": {},
   "outputs": [
    {
     "data": {
      "text/plain": [
       "(145321819308.49857, 236751088638.43054)"
      ]
     },
     "execution_count": 38,
     "metadata": {},
     "output_type": "execute_result"
    }
   ],
   "source": [
    "MSE = SSE/len(model)\n",
    "MSE_baseline = SSE_baseline/len(model)\n",
    "\n",
    "MSE, MSE_baseline"
   ]
  },
  {
   "cell_type": "markdown",
   "id": "c02d1d96",
   "metadata": {},
   "source": [
    "### RMSE (Root Mean Squared Error)"
   ]
  },
  {
   "cell_type": "code",
   "execution_count": 39,
   "id": "adc766a9",
   "metadata": {},
   "outputs": [
    {
     "data": {
      "text/plain": [
       "(381210.9905400139, 486570.7437140365)"
      ]
     },
     "execution_count": 39,
     "metadata": {},
     "output_type": "execute_result"
    }
   ],
   "source": [
    "from math import sqrt\n",
    "RMSE = sqrt(MSE)\n",
    "RMSE_baseline =  sqrt(MSE_baseline)\n",
    "\n",
    "RMSE, RMSE_baseline"
   ]
  },
  {
   "cell_type": "markdown",
   "id": "08d8ceb9",
   "metadata": {},
   "source": [
    "#### Instruction: \n",
    "Write python code that compares the sum of squared errors for your model against the sum of squared errors for the baseline model and outputs whether or not your model performs better than the baseline model."
   ]
  },
  {
   "cell_type": "code",
   "execution_count": 44,
   "id": "c9dfaa9e",
   "metadata": {},
   "outputs": [
    {
     "name": "stdout",
     "output_type": "stream",
     "text": [
      "The model performs better than the baseline model\n"
     ]
    }
   ],
   "source": [
    "if SSE >= TSS:\n",
    "    print(\"The model does not perform better than the baseline model\")\n",
    "else:\n",
    "    print(\"The model performs better than the baseline model\")"
   ]
  },
  {
   "cell_type": "code",
   "execution_count": null,
   "id": "ae08bf28",
   "metadata": {},
   "outputs": [],
   "source": []
  }
 ],
 "metadata": {
  "kernelspec": {
   "display_name": "Python 3 (ipykernel)",
   "language": "python",
   "name": "python3"
  },
  "language_info": {
   "codemirror_mode": {
    "name": "ipython",
    "version": 3
   },
   "file_extension": ".py",
   "mimetype": "text/x-python",
   "name": "python",
   "nbconvert_exporter": "python",
   "pygments_lexer": "ipython3",
   "version": "3.9.7"
  }
 },
 "nbformat": 4,
 "nbformat_minor": 5
}

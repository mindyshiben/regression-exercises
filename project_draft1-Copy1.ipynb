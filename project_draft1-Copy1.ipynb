{
 "cells": [
  {
   "cell_type": "code",
   "execution_count": 1,
   "id": "7f6f2bfa",
   "metadata": {},
   "outputs": [],
   "source": [
    "import warnings\n",
    "warnings.filterwarnings(\"ignore\")\n",
    "\n",
    "import pandas as pd\n",
    "import matplotlib.pyplot as plt\n",
    "import seaborn as sns\n",
    "import numpy as np\n",
    "import env\n",
    "import acquire\n",
    "import wrangle"
   ]
  },
  {
   "cell_type": "code",
   "execution_count": 2,
   "id": "a3e0d886",
   "metadata": {},
   "outputs": [],
   "source": [
    "df = acquire.get_zillow_data()"
   ]
  },
  {
   "cell_type": "markdown",
   "id": "14c924e1",
   "metadata": {},
   "source": [
    "Through domain research and choosing features that have enough data (low null values, less than 20%), I've determined these columns to be the most practical to utilize in the data science pipeline for the purpose of predicting tax assessed home values through regression modeling. "
   ]
  },
  {
   "cell_type": "code",
   "execution_count": 3,
   "id": "9b5ef430",
   "metadata": {},
   "outputs": [
    {
     "name": "stdout",
     "output_type": "stream",
     "text": [
      "<class 'pandas.core.frame.DataFrame'>\n",
      "RangeIndex: 2152863 entries, 0 to 2152862\n",
      "Data columns (total 14 columns):\n",
      " #   Column                        Dtype  \n",
      "---  ------                        -----  \n",
      " 0   Unnamed: 0                    int64  \n",
      " 1   parcelid                      int64  \n",
      " 2   bedroomcnt                    float64\n",
      " 3   bathroomcnt                   float64\n",
      " 4   calculatedfinishedsquarefeet  float64\n",
      " 5   taxvaluedollarcnt             float64\n",
      " 6   yearbuilt                     float64\n",
      " 7   taxamount                     float64\n",
      " 8   fips                          float64\n",
      " 9   assessmentyear                float64\n",
      " 10  landtaxvaluedollarcnt         float64\n",
      " 11  lotsizesquarefeet             float64\n",
      " 12  latitude                      float64\n",
      " 13  longitude                     float64\n",
      "dtypes: float64(12), int64(2)\n",
      "memory usage: 230.0 MB\n"
     ]
    }
   ],
   "source": [
    "df.info()"
   ]
  },
  {
   "cell_type": "code",
   "execution_count": 4,
   "id": "b1e6ff87",
   "metadata": {},
   "outputs": [
    {
     "data": {
      "text/plain": [
       "Unnamed: 0                          0\n",
       "parcelid                            0\n",
       "bedroomcnt                         11\n",
       "bathroomcnt                        11\n",
       "calculatedfinishedsquarefeet     8484\n",
       "taxvaluedollarcnt                 493\n",
       "yearbuilt                        9337\n",
       "taxamount                        4442\n",
       "fips                                0\n",
       "assessmentyear                      1\n",
       "landtaxvaluedollarcnt             502\n",
       "lotsizesquarefeet               13438\n",
       "latitude                            0\n",
       "longitude                           0\n",
       "dtype: int64"
      ]
     },
     "execution_count": 4,
     "metadata": {},
     "output_type": "execute_result"
    }
   ],
   "source": [
    "df.isna().sum()"
   ]
  },
  {
   "cell_type": "markdown",
   "id": "c3ac9dfa",
   "metadata": {},
   "source": [
    "To not lose too much data, I'm looking at columns with many null values and how many null values they share with other columns"
   ]
  },
  {
   "cell_type": "code",
   "execution_count": 5,
   "id": "2367b94d",
   "metadata": {},
   "outputs": [
    {
     "data": {
      "text/plain": [
       "8224"
      ]
     },
     "execution_count": 5,
     "metadata": {},
     "output_type": "execute_result"
    }
   ],
   "source": [
    "df['calculatedfinishedsquarefeet'].isna().sum() & df['lotsizesquarefeet'].isna().sum() & df['yearbuilt'].isna().sum()"
   ]
  },
  {
   "cell_type": "markdown",
   "id": "2cdcc1cb",
   "metadata": {},
   "source": [
    "square feet, lot size, and year built share a lot of null rows. This is good news when considering dropping columns with null values."
   ]
  },
  {
   "cell_type": "code",
   "execution_count": 6,
   "id": "35229dd6",
   "metadata": {},
   "outputs": [
    {
     "data": {
      "text/plain": [
       "(4186, 256)"
      ]
     },
     "execution_count": 6,
     "metadata": {},
     "output_type": "execute_result"
    }
   ],
   "source": [
    "df['lotsizesquarefeet'].isna().sum() & df['taxamount'].isna().sum(), df['calculatedfinishedsquarefeet'].isna().sum() & df['taxamount'].isna().sum()"
   ]
  },
  {
   "cell_type": "markdown",
   "id": "21ccb729",
   "metadata": {},
   "source": [
    "most of tax amount nulls are also square feet nulls so again, feel better about dropping these records"
   ]
  },
  {
   "cell_type": "code",
   "execution_count": 7,
   "id": "338394ce",
   "metadata": {},
   "outputs": [
    {
     "data": {
      "text/plain": [
       "Unnamed: 0                      0.000\n",
       "parcelid                        0.000\n",
       "bedroomcnt                      0.000\n",
       "bathroomcnt                     0.000\n",
       "calculatedfinishedsquarefeet    0.004\n",
       "taxvaluedollarcnt               0.000\n",
       "yearbuilt                       0.004\n",
       "taxamount                       0.002\n",
       "fips                            0.000\n",
       "assessmentyear                  0.000\n",
       "landtaxvaluedollarcnt           0.000\n",
       "lotsizesquarefeet               0.006\n",
       "latitude                        0.000\n",
       "longitude                       0.000\n",
       "dtype: float64"
      ]
     },
     "execution_count": 7,
     "metadata": {},
     "output_type": "execute_result"
    }
   ],
   "source": [
    "(df.isnull().sum() / len(df)).round(3) \n",
    "#this shows the percentage of null values per column rounded to the 3rd decimal place"
   ]
  },
  {
   "cell_type": "markdown",
   "id": "cf56872f",
   "metadata": {},
   "source": [
    "we can see that all columns have less than 1% null (missing) values. This is favorable to dropping nulls"
   ]
  },
  {
   "cell_type": "code",
   "execution_count": 8,
   "id": "00f9b49f",
   "metadata": {},
   "outputs": [
    {
     "data": {
      "text/plain": [
       "0.01705589254866659"
      ]
     },
     "execution_count": 8,
     "metadata": {},
     "output_type": "execute_result"
    }
   ],
   "source": [
    "df.isna().mean().sum()\n",
    "#shows the percentage of missing values in the entire dataframe. "
   ]
  },
  {
   "cell_type": "markdown",
   "id": "0dc81bcf",
   "metadata": {},
   "source": [
    "If all nulls are dropped, we will lose 1.7% of the data. With this low percentage and seeing how most records with nulls have nulls across other columns, I determine dropping records with nulls is the most appropriate solution"
   ]
  },
  {
   "cell_type": "code",
   "execution_count": 9,
   "id": "fc676efc",
   "metadata": {},
   "outputs": [],
   "source": [
    "df = wrangle.wrangle_zillow(df)"
   ]
  },
  {
   "cell_type": "code",
   "execution_count": 10,
   "id": "5a69820a",
   "metadata": {},
   "outputs": [
    {
     "data": {
      "text/html": [
       "<div>\n",
       "<style scoped>\n",
       "    .dataframe tbody tr th:only-of-type {\n",
       "        vertical-align: middle;\n",
       "    }\n",
       "\n",
       "    .dataframe tbody tr th {\n",
       "        vertical-align: top;\n",
       "    }\n",
       "\n",
       "    .dataframe thead th {\n",
       "        text-align: right;\n",
       "    }\n",
       "</style>\n",
       "<table border=\"1\" class=\"dataframe\">\n",
       "  <thead>\n",
       "    <tr style=\"text-align: right;\">\n",
       "      <th></th>\n",
       "      <th>Unnamed: 0</th>\n",
       "      <th>parcelid</th>\n",
       "      <th>bedrooms</th>\n",
       "      <th>bathrooms</th>\n",
       "      <th>home_size</th>\n",
       "      <th>value</th>\n",
       "      <th>year</th>\n",
       "      <th>tax</th>\n",
       "      <th>fips</th>\n",
       "      <th>land_value</th>\n",
       "      <th>lot_size</th>\n",
       "      <th>latitude</th>\n",
       "      <th>longitude</th>\n",
       "      <th>county</th>\n",
       "    </tr>\n",
       "  </thead>\n",
       "  <tbody>\n",
       "    <tr>\n",
       "      <th>4</th>\n",
       "      <td>4</td>\n",
       "      <td>11324547</td>\n",
       "      <td>4.0</td>\n",
       "      <td>2.0</td>\n",
       "      <td>3633</td>\n",
       "      <td>296425</td>\n",
       "      <td>2005</td>\n",
       "      <td>6941.39</td>\n",
       "      <td>6037</td>\n",
       "      <td>74104</td>\n",
       "      <td>9826</td>\n",
       "      <td>34560018.0</td>\n",
       "      <td>-118169806.0</td>\n",
       "      <td>los_angeles</td>\n",
       "    </tr>\n",
       "    <tr>\n",
       "      <th>7</th>\n",
       "      <td>7</td>\n",
       "      <td>11585547</td>\n",
       "      <td>3.0</td>\n",
       "      <td>2.0</td>\n",
       "      <td>2077</td>\n",
       "      <td>646760</td>\n",
       "      <td>1926</td>\n",
       "      <td>7924.68</td>\n",
       "      <td>6037</td>\n",
       "      <td>436568</td>\n",
       "      <td>6490</td>\n",
       "      <td>34012977.0</td>\n",
       "      <td>-118479243.0</td>\n",
       "      <td>los_angeles</td>\n",
       "    </tr>\n",
       "    <tr>\n",
       "      <th>18</th>\n",
       "      <td>18</td>\n",
       "      <td>12716947</td>\n",
       "      <td>3.0</td>\n",
       "      <td>1.0</td>\n",
       "      <td>1244</td>\n",
       "      <td>169471</td>\n",
       "      <td>1950</td>\n",
       "      <td>2532.88</td>\n",
       "      <td>6037</td>\n",
       "      <td>61431</td>\n",
       "      <td>6021</td>\n",
       "      <td>33953559.0</td>\n",
       "      <td>-118083855.0</td>\n",
       "      <td>los_angeles</td>\n",
       "    </tr>\n",
       "    <tr>\n",
       "      <th>19</th>\n",
       "      <td>19</td>\n",
       "      <td>12757147</td>\n",
       "      <td>3.0</td>\n",
       "      <td>2.0</td>\n",
       "      <td>1300</td>\n",
       "      <td>233266</td>\n",
       "      <td>1950</td>\n",
       "      <td>3110.99</td>\n",
       "      <td>6037</td>\n",
       "      <td>155851</td>\n",
       "      <td>4917</td>\n",
       "      <td>33897134.0</td>\n",
       "      <td>-118102953.0</td>\n",
       "      <td>los_angeles</td>\n",
       "    </tr>\n",
       "    <tr>\n",
       "      <th>20</th>\n",
       "      <td>20</td>\n",
       "      <td>12757947</td>\n",
       "      <td>3.0</td>\n",
       "      <td>2.0</td>\n",
       "      <td>1222</td>\n",
       "      <td>290492</td>\n",
       "      <td>1951</td>\n",
       "      <td>3870.25</td>\n",
       "      <td>6037</td>\n",
       "      <td>172653</td>\n",
       "      <td>5500</td>\n",
       "      <td>33889894.0</td>\n",
       "      <td>-118100732.0</td>\n",
       "      <td>los_angeles</td>\n",
       "    </tr>\n",
       "    <tr>\n",
       "      <th>...</th>\n",
       "      <td>...</td>\n",
       "      <td>...</td>\n",
       "      <td>...</td>\n",
       "      <td>...</td>\n",
       "      <td>...</td>\n",
       "      <td>...</td>\n",
       "      <td>...</td>\n",
       "      <td>...</td>\n",
       "      <td>...</td>\n",
       "      <td>...</td>\n",
       "      <td>...</td>\n",
       "      <td>...</td>\n",
       "      <td>...</td>\n",
       "      <td>...</td>\n",
       "    </tr>\n",
       "    <tr>\n",
       "      <th>2152853</th>\n",
       "      <td>2152853</td>\n",
       "      <td>13917885</td>\n",
       "      <td>4.0</td>\n",
       "      <td>2.0</td>\n",
       "      <td>1987</td>\n",
       "      <td>259913</td>\n",
       "      <td>1955</td>\n",
       "      <td>3175.66</td>\n",
       "      <td>6059</td>\n",
       "      <td>169147</td>\n",
       "      <td>6100</td>\n",
       "      <td>33851932.0</td>\n",
       "      <td>-117934693.0</td>\n",
       "      <td>orange</td>\n",
       "    </tr>\n",
       "    <tr>\n",
       "      <th>2152855</th>\n",
       "      <td>2152855</td>\n",
       "      <td>14762130</td>\n",
       "      <td>3.0</td>\n",
       "      <td>2.5</td>\n",
       "      <td>1809</td>\n",
       "      <td>405547</td>\n",
       "      <td>2012</td>\n",
       "      <td>4181.10</td>\n",
       "      <td>6059</td>\n",
       "      <td>148031</td>\n",
       "      <td>4884</td>\n",
       "      <td>33634876.0</td>\n",
       "      <td>-117833446.0</td>\n",
       "      <td>orange</td>\n",
       "    </tr>\n",
       "    <tr>\n",
       "      <th>2152858</th>\n",
       "      <td>2152858</td>\n",
       "      <td>14356230</td>\n",
       "      <td>4.0</td>\n",
       "      <td>3.0</td>\n",
       "      <td>2262</td>\n",
       "      <td>960756</td>\n",
       "      <td>2015</td>\n",
       "      <td>13494.52</td>\n",
       "      <td>6059</td>\n",
       "      <td>564569</td>\n",
       "      <td>3220</td>\n",
       "      <td>33687201.0</td>\n",
       "      <td>-117759785.0</td>\n",
       "      <td>orange</td>\n",
       "    </tr>\n",
       "    <tr>\n",
       "      <th>2152859</th>\n",
       "      <td>2152859</td>\n",
       "      <td>14157725</td>\n",
       "      <td>4.0</td>\n",
       "      <td>4.5</td>\n",
       "      <td>3127</td>\n",
       "      <td>536061</td>\n",
       "      <td>2014</td>\n",
       "      <td>6244.16</td>\n",
       "      <td>6059</td>\n",
       "      <td>147419</td>\n",
       "      <td>8930</td>\n",
       "      <td>33929748.0</td>\n",
       "      <td>-117801513.0</td>\n",
       "      <td>orange</td>\n",
       "    </tr>\n",
       "    <tr>\n",
       "      <th>2152861</th>\n",
       "      <td>2152861</td>\n",
       "      <td>14367624</td>\n",
       "      <td>3.0</td>\n",
       "      <td>2.5</td>\n",
       "      <td>1974</td>\n",
       "      <td>424353</td>\n",
       "      <td>2015</td>\n",
       "      <td>5302.70</td>\n",
       "      <td>6059</td>\n",
       "      <td>129441</td>\n",
       "      <td>3376</td>\n",
       "      <td>33645700.0</td>\n",
       "      <td>-117598692.0</td>\n",
       "      <td>orange</td>\n",
       "    </tr>\n",
       "  </tbody>\n",
       "</table>\n",
       "<p>2118089 rows × 14 columns</p>\n",
       "</div>"
      ],
      "text/plain": [
       "         Unnamed: 0  parcelid  bedrooms  bathrooms  home_size   value  year  \\\n",
       "4                 4  11324547       4.0        2.0       3633  296425  2005   \n",
       "7                 7  11585547       3.0        2.0       2077  646760  1926   \n",
       "18               18  12716947       3.0        1.0       1244  169471  1950   \n",
       "19               19  12757147       3.0        2.0       1300  233266  1950   \n",
       "20               20  12757947       3.0        2.0       1222  290492  1951   \n",
       "...             ...       ...       ...        ...        ...     ...   ...   \n",
       "2152853     2152853  13917885       4.0        2.0       1987  259913  1955   \n",
       "2152855     2152855  14762130       3.0        2.5       1809  405547  2012   \n",
       "2152858     2152858  14356230       4.0        3.0       2262  960756  2015   \n",
       "2152859     2152859  14157725       4.0        4.5       3127  536061  2014   \n",
       "2152861     2152861  14367624       3.0        2.5       1974  424353  2015   \n",
       "\n",
       "              tax  fips  land_value  lot_size    latitude    longitude  \\\n",
       "4         6941.39  6037       74104      9826  34560018.0 -118169806.0   \n",
       "7         7924.68  6037      436568      6490  34012977.0 -118479243.0   \n",
       "18        2532.88  6037       61431      6021  33953559.0 -118083855.0   \n",
       "19        3110.99  6037      155851      4917  33897134.0 -118102953.0   \n",
       "20        3870.25  6037      172653      5500  33889894.0 -118100732.0   \n",
       "...           ...   ...         ...       ...         ...          ...   \n",
       "2152853   3175.66  6059      169147      6100  33851932.0 -117934693.0   \n",
       "2152855   4181.10  6059      148031      4884  33634876.0 -117833446.0   \n",
       "2152858  13494.52  6059      564569      3220  33687201.0 -117759785.0   \n",
       "2152859   6244.16  6059      147419      8930  33929748.0 -117801513.0   \n",
       "2152861   5302.70  6059      129441      3376  33645700.0 -117598692.0   \n",
       "\n",
       "              county  \n",
       "4        los_angeles  \n",
       "7        los_angeles  \n",
       "18       los_angeles  \n",
       "19       los_angeles  \n",
       "20       los_angeles  \n",
       "...              ...  \n",
       "2152853       orange  \n",
       "2152855       orange  \n",
       "2152858       orange  \n",
       "2152859       orange  \n",
       "2152861       orange  \n",
       "\n",
       "[2118089 rows x 14 columns]"
      ]
     },
     "execution_count": 10,
     "metadata": {},
     "output_type": "execute_result"
    }
   ],
   "source": [
    "df"
   ]
  },
  {
   "cell_type": "code",
   "execution_count": 11,
   "id": "878d88a0",
   "metadata": {},
   "outputs": [],
   "source": [
    "df = wrangle.wrangle_locs(df)"
   ]
  },
  {
   "cell_type": "code",
   "execution_count": 12,
   "id": "be965843",
   "metadata": {},
   "outputs": [],
   "source": [
    "df.drop(columns= 'Unnamed: 0', inplace = True)"
   ]
  },
  {
   "cell_type": "code",
   "execution_count": 13,
   "id": "572d4809",
   "metadata": {},
   "outputs": [
    {
     "data": {
      "text/html": [
       "<div>\n",
       "<style scoped>\n",
       "    .dataframe tbody tr th:only-of-type {\n",
       "        vertical-align: middle;\n",
       "    }\n",
       "\n",
       "    .dataframe tbody tr th {\n",
       "        vertical-align: top;\n",
       "    }\n",
       "\n",
       "    .dataframe thead th {\n",
       "        text-align: right;\n",
       "    }\n",
       "</style>\n",
       "<table border=\"1\" class=\"dataframe\">\n",
       "  <thead>\n",
       "    <tr style=\"text-align: right;\">\n",
       "      <th></th>\n",
       "      <th>parcelid</th>\n",
       "      <th>bedrooms</th>\n",
       "      <th>bathrooms</th>\n",
       "      <th>home_size</th>\n",
       "      <th>value</th>\n",
       "      <th>year</th>\n",
       "      <th>tax</th>\n",
       "      <th>fips</th>\n",
       "      <th>land_value</th>\n",
       "      <th>lot_size</th>\n",
       "      <th>county</th>\n",
       "      <th>latitude</th>\n",
       "      <th>longitude</th>\n",
       "    </tr>\n",
       "  </thead>\n",
       "  <tbody>\n",
       "    <tr>\n",
       "      <th>4</th>\n",
       "      <td>11324547</td>\n",
       "      <td>4.0</td>\n",
       "      <td>2.0</td>\n",
       "      <td>3633</td>\n",
       "      <td>296425</td>\n",
       "      <td>2005</td>\n",
       "      <td>6941.39</td>\n",
       "      <td>6037</td>\n",
       "      <td>74104</td>\n",
       "      <td>9826</td>\n",
       "      <td>los_angeles</td>\n",
       "      <td>34.560018</td>\n",
       "      <td>-118.18169806.0</td>\n",
       "    </tr>\n",
       "    <tr>\n",
       "      <th>7</th>\n",
       "      <td>11585547</td>\n",
       "      <td>3.0</td>\n",
       "      <td>2.0</td>\n",
       "      <td>2077</td>\n",
       "      <td>646760</td>\n",
       "      <td>1926</td>\n",
       "      <td>7924.68</td>\n",
       "      <td>6037</td>\n",
       "      <td>436568</td>\n",
       "      <td>6490</td>\n",
       "      <td>los_angeles</td>\n",
       "      <td>34.012977</td>\n",
       "      <td>-118.18479243.0</td>\n",
       "    </tr>\n",
       "    <tr>\n",
       "      <th>18</th>\n",
       "      <td>12716947</td>\n",
       "      <td>3.0</td>\n",
       "      <td>1.0</td>\n",
       "      <td>1244</td>\n",
       "      <td>169471</td>\n",
       "      <td>1950</td>\n",
       "      <td>2532.88</td>\n",
       "      <td>6037</td>\n",
       "      <td>61431</td>\n",
       "      <td>6021</td>\n",
       "      <td>los_angeles</td>\n",
       "      <td>33.953559</td>\n",
       "      <td>-118.18083855.0</td>\n",
       "    </tr>\n",
       "    <tr>\n",
       "      <th>19</th>\n",
       "      <td>12757147</td>\n",
       "      <td>3.0</td>\n",
       "      <td>2.0</td>\n",
       "      <td>1300</td>\n",
       "      <td>233266</td>\n",
       "      <td>1950</td>\n",
       "      <td>3110.99</td>\n",
       "      <td>6037</td>\n",
       "      <td>155851</td>\n",
       "      <td>4917</td>\n",
       "      <td>los_angeles</td>\n",
       "      <td>33.897134</td>\n",
       "      <td>-118.18102953.0</td>\n",
       "    </tr>\n",
       "    <tr>\n",
       "      <th>20</th>\n",
       "      <td>12757947</td>\n",
       "      <td>3.0</td>\n",
       "      <td>2.0</td>\n",
       "      <td>1222</td>\n",
       "      <td>290492</td>\n",
       "      <td>1951</td>\n",
       "      <td>3870.25</td>\n",
       "      <td>6037</td>\n",
       "      <td>172653</td>\n",
       "      <td>5500</td>\n",
       "      <td>los_angeles</td>\n",
       "      <td>33.889894</td>\n",
       "      <td>-118.18100732.0</td>\n",
       "    </tr>\n",
       "    <tr>\n",
       "      <th>...</th>\n",
       "      <td>...</td>\n",
       "      <td>...</td>\n",
       "      <td>...</td>\n",
       "      <td>...</td>\n",
       "      <td>...</td>\n",
       "      <td>...</td>\n",
       "      <td>...</td>\n",
       "      <td>...</td>\n",
       "      <td>...</td>\n",
       "      <td>...</td>\n",
       "      <td>...</td>\n",
       "      <td>...</td>\n",
       "      <td>...</td>\n",
       "    </tr>\n",
       "    <tr>\n",
       "      <th>2152853</th>\n",
       "      <td>13917885</td>\n",
       "      <td>4.0</td>\n",
       "      <td>2.0</td>\n",
       "      <td>1987</td>\n",
       "      <td>259913</td>\n",
       "      <td>1955</td>\n",
       "      <td>3175.66</td>\n",
       "      <td>6059</td>\n",
       "      <td>169147</td>\n",
       "      <td>6100</td>\n",
       "      <td>orange</td>\n",
       "      <td>33.851932</td>\n",
       "      <td>-117.17934693.0</td>\n",
       "    </tr>\n",
       "    <tr>\n",
       "      <th>2152855</th>\n",
       "      <td>14762130</td>\n",
       "      <td>3.0</td>\n",
       "      <td>2.5</td>\n",
       "      <td>1809</td>\n",
       "      <td>405547</td>\n",
       "      <td>2012</td>\n",
       "      <td>4181.10</td>\n",
       "      <td>6059</td>\n",
       "      <td>148031</td>\n",
       "      <td>4884</td>\n",
       "      <td>orange</td>\n",
       "      <td>33.634876</td>\n",
       "      <td>-117.17833446.0</td>\n",
       "    </tr>\n",
       "    <tr>\n",
       "      <th>2152858</th>\n",
       "      <td>14356230</td>\n",
       "      <td>4.0</td>\n",
       "      <td>3.0</td>\n",
       "      <td>2262</td>\n",
       "      <td>960756</td>\n",
       "      <td>2015</td>\n",
       "      <td>13494.52</td>\n",
       "      <td>6059</td>\n",
       "      <td>564569</td>\n",
       "      <td>3220</td>\n",
       "      <td>orange</td>\n",
       "      <td>33.687201</td>\n",
       "      <td>-117.17759785.0</td>\n",
       "    </tr>\n",
       "    <tr>\n",
       "      <th>2152859</th>\n",
       "      <td>14157725</td>\n",
       "      <td>4.0</td>\n",
       "      <td>4.5</td>\n",
       "      <td>3127</td>\n",
       "      <td>536061</td>\n",
       "      <td>2014</td>\n",
       "      <td>6244.16</td>\n",
       "      <td>6059</td>\n",
       "      <td>147419</td>\n",
       "      <td>8930</td>\n",
       "      <td>orange</td>\n",
       "      <td>33.929748</td>\n",
       "      <td>-117.17801513.0</td>\n",
       "    </tr>\n",
       "    <tr>\n",
       "      <th>2152861</th>\n",
       "      <td>14367624</td>\n",
       "      <td>3.0</td>\n",
       "      <td>2.5</td>\n",
       "      <td>1974</td>\n",
       "      <td>424353</td>\n",
       "      <td>2015</td>\n",
       "      <td>5302.70</td>\n",
       "      <td>6059</td>\n",
       "      <td>129441</td>\n",
       "      <td>3376</td>\n",
       "      <td>orange</td>\n",
       "      <td>33.6457</td>\n",
       "      <td>-117.17598692.0</td>\n",
       "    </tr>\n",
       "  </tbody>\n",
       "</table>\n",
       "<p>2118089 rows × 13 columns</p>\n",
       "</div>"
      ],
      "text/plain": [
       "         parcelid  bedrooms  bathrooms  home_size   value  year       tax  \\\n",
       "4        11324547       4.0        2.0       3633  296425  2005   6941.39   \n",
       "7        11585547       3.0        2.0       2077  646760  1926   7924.68   \n",
       "18       12716947       3.0        1.0       1244  169471  1950   2532.88   \n",
       "19       12757147       3.0        2.0       1300  233266  1950   3110.99   \n",
       "20       12757947       3.0        2.0       1222  290492  1951   3870.25   \n",
       "...           ...       ...        ...        ...     ...   ...       ...   \n",
       "2152853  13917885       4.0        2.0       1987  259913  1955   3175.66   \n",
       "2152855  14762130       3.0        2.5       1809  405547  2012   4181.10   \n",
       "2152858  14356230       4.0        3.0       2262  960756  2015  13494.52   \n",
       "2152859  14157725       4.0        4.5       3127  536061  2014   6244.16   \n",
       "2152861  14367624       3.0        2.5       1974  424353  2015   5302.70   \n",
       "\n",
       "         fips  land_value  lot_size       county   latitude        longitude  \n",
       "4        6037       74104      9826  los_angeles  34.560018  -118.18169806.0  \n",
       "7        6037      436568      6490  los_angeles  34.012977  -118.18479243.0  \n",
       "18       6037       61431      6021  los_angeles  33.953559  -118.18083855.0  \n",
       "19       6037      155851      4917  los_angeles  33.897134  -118.18102953.0  \n",
       "20       6037      172653      5500  los_angeles  33.889894  -118.18100732.0  \n",
       "...       ...         ...       ...          ...        ...              ...  \n",
       "2152853  6059      169147      6100       orange  33.851932  -117.17934693.0  \n",
       "2152855  6059      148031      4884       orange  33.634876  -117.17833446.0  \n",
       "2152858  6059      564569      3220       orange  33.687201  -117.17759785.0  \n",
       "2152859  6059      147419      8930       orange  33.929748  -117.17801513.0  \n",
       "2152861  6059      129441      3376       orange    33.6457  -117.17598692.0  \n",
       "\n",
       "[2118089 rows x 13 columns]"
      ]
     },
     "execution_count": 13,
     "metadata": {},
     "output_type": "execute_result"
    }
   ],
   "source": [
    "df"
   ]
  },
  {
   "cell_type": "code",
   "execution_count": 14,
   "id": "3a8b746b",
   "metadata": {},
   "outputs": [
    {
     "data": {
      "text/plain": [
       "443508.71033417387"
      ]
     },
     "execution_count": 14,
     "metadata": {},
     "output_type": "execute_result"
    }
   ],
   "source": [
    "df.value.mean()"
   ]
  },
  {
   "cell_type": "markdown",
   "id": "0f642bd9",
   "metadata": {},
   "source": [
    "seeing that tax assessed value mean is very different based on the assessment year, I am dropping 2014 and 2015 assessment year records from the dataframe for consistency"
   ]
  },
  {
   "cell_type": "code",
   "execution_count": 15,
   "id": "be13e9e2",
   "metadata": {},
   "outputs": [],
   "source": [
    "#df.assessmentyear.value_counts()"
   ]
  },
  {
   "cell_type": "markdown",
   "id": "dd1a781d",
   "metadata": {},
   "source": [
    "Now that all records have the same assessment year (2016), I can drop this column"
   ]
  },
  {
   "cell_type": "code",
   "execution_count": 16,
   "id": "4043dc72",
   "metadata": {},
   "outputs": [],
   "source": [
    "#df.drop(columns = ['assessmentyear'], inplace=True)"
   ]
  },
  {
   "cell_type": "code",
   "execution_count": 17,
   "id": "ec35ea79",
   "metadata": {},
   "outputs": [
    {
     "data": {
      "text/html": [
       "<div>\n",
       "<style scoped>\n",
       "    .dataframe tbody tr th:only-of-type {\n",
       "        vertical-align: middle;\n",
       "    }\n",
       "\n",
       "    .dataframe tbody tr th {\n",
       "        vertical-align: top;\n",
       "    }\n",
       "\n",
       "    .dataframe thead th {\n",
       "        text-align: right;\n",
       "    }\n",
       "</style>\n",
       "<table border=\"1\" class=\"dataframe\">\n",
       "  <thead>\n",
       "    <tr style=\"text-align: right;\">\n",
       "      <th></th>\n",
       "      <th>parcelid</th>\n",
       "      <th>bedrooms</th>\n",
       "      <th>bathrooms</th>\n",
       "      <th>home_size</th>\n",
       "      <th>value</th>\n",
       "      <th>year</th>\n",
       "      <th>tax</th>\n",
       "      <th>fips</th>\n",
       "      <th>land_value</th>\n",
       "      <th>lot_size</th>\n",
       "      <th>county</th>\n",
       "      <th>latitude</th>\n",
       "      <th>longitude</th>\n",
       "    </tr>\n",
       "  </thead>\n",
       "  <tbody>\n",
       "    <tr>\n",
       "      <th>4</th>\n",
       "      <td>11324547</td>\n",
       "      <td>4.0</td>\n",
       "      <td>2.0</td>\n",
       "      <td>3633</td>\n",
       "      <td>296425</td>\n",
       "      <td>2005</td>\n",
       "      <td>6941.39</td>\n",
       "      <td>6037</td>\n",
       "      <td>74104</td>\n",
       "      <td>9826</td>\n",
       "      <td>los_angeles</td>\n",
       "      <td>34.560018</td>\n",
       "      <td>-118.18169806.0</td>\n",
       "    </tr>\n",
       "    <tr>\n",
       "      <th>7</th>\n",
       "      <td>11585547</td>\n",
       "      <td>3.0</td>\n",
       "      <td>2.0</td>\n",
       "      <td>2077</td>\n",
       "      <td>646760</td>\n",
       "      <td>1926</td>\n",
       "      <td>7924.68</td>\n",
       "      <td>6037</td>\n",
       "      <td>436568</td>\n",
       "      <td>6490</td>\n",
       "      <td>los_angeles</td>\n",
       "      <td>34.012977</td>\n",
       "      <td>-118.18479243.0</td>\n",
       "    </tr>\n",
       "    <tr>\n",
       "      <th>18</th>\n",
       "      <td>12716947</td>\n",
       "      <td>3.0</td>\n",
       "      <td>1.0</td>\n",
       "      <td>1244</td>\n",
       "      <td>169471</td>\n",
       "      <td>1950</td>\n",
       "      <td>2532.88</td>\n",
       "      <td>6037</td>\n",
       "      <td>61431</td>\n",
       "      <td>6021</td>\n",
       "      <td>los_angeles</td>\n",
       "      <td>33.953559</td>\n",
       "      <td>-118.18083855.0</td>\n",
       "    </tr>\n",
       "    <tr>\n",
       "      <th>19</th>\n",
       "      <td>12757147</td>\n",
       "      <td>3.0</td>\n",
       "      <td>2.0</td>\n",
       "      <td>1300</td>\n",
       "      <td>233266</td>\n",
       "      <td>1950</td>\n",
       "      <td>3110.99</td>\n",
       "      <td>6037</td>\n",
       "      <td>155851</td>\n",
       "      <td>4917</td>\n",
       "      <td>los_angeles</td>\n",
       "      <td>33.897134</td>\n",
       "      <td>-118.18102953.0</td>\n",
       "    </tr>\n",
       "    <tr>\n",
       "      <th>20</th>\n",
       "      <td>12757947</td>\n",
       "      <td>3.0</td>\n",
       "      <td>2.0</td>\n",
       "      <td>1222</td>\n",
       "      <td>290492</td>\n",
       "      <td>1951</td>\n",
       "      <td>3870.25</td>\n",
       "      <td>6037</td>\n",
       "      <td>172653</td>\n",
       "      <td>5500</td>\n",
       "      <td>los_angeles</td>\n",
       "      <td>33.889894</td>\n",
       "      <td>-118.18100732.0</td>\n",
       "    </tr>\n",
       "    <tr>\n",
       "      <th>...</th>\n",
       "      <td>...</td>\n",
       "      <td>...</td>\n",
       "      <td>...</td>\n",
       "      <td>...</td>\n",
       "      <td>...</td>\n",
       "      <td>...</td>\n",
       "      <td>...</td>\n",
       "      <td>...</td>\n",
       "      <td>...</td>\n",
       "      <td>...</td>\n",
       "      <td>...</td>\n",
       "      <td>...</td>\n",
       "      <td>...</td>\n",
       "    </tr>\n",
       "    <tr>\n",
       "      <th>2152853</th>\n",
       "      <td>13917885</td>\n",
       "      <td>4.0</td>\n",
       "      <td>2.0</td>\n",
       "      <td>1987</td>\n",
       "      <td>259913</td>\n",
       "      <td>1955</td>\n",
       "      <td>3175.66</td>\n",
       "      <td>6059</td>\n",
       "      <td>169147</td>\n",
       "      <td>6100</td>\n",
       "      <td>orange</td>\n",
       "      <td>33.851932</td>\n",
       "      <td>-117.17934693.0</td>\n",
       "    </tr>\n",
       "    <tr>\n",
       "      <th>2152855</th>\n",
       "      <td>14762130</td>\n",
       "      <td>3.0</td>\n",
       "      <td>2.5</td>\n",
       "      <td>1809</td>\n",
       "      <td>405547</td>\n",
       "      <td>2012</td>\n",
       "      <td>4181.10</td>\n",
       "      <td>6059</td>\n",
       "      <td>148031</td>\n",
       "      <td>4884</td>\n",
       "      <td>orange</td>\n",
       "      <td>33.634876</td>\n",
       "      <td>-117.17833446.0</td>\n",
       "    </tr>\n",
       "    <tr>\n",
       "      <th>2152858</th>\n",
       "      <td>14356230</td>\n",
       "      <td>4.0</td>\n",
       "      <td>3.0</td>\n",
       "      <td>2262</td>\n",
       "      <td>960756</td>\n",
       "      <td>2015</td>\n",
       "      <td>13494.52</td>\n",
       "      <td>6059</td>\n",
       "      <td>564569</td>\n",
       "      <td>3220</td>\n",
       "      <td>orange</td>\n",
       "      <td>33.687201</td>\n",
       "      <td>-117.17759785.0</td>\n",
       "    </tr>\n",
       "    <tr>\n",
       "      <th>2152859</th>\n",
       "      <td>14157725</td>\n",
       "      <td>4.0</td>\n",
       "      <td>4.5</td>\n",
       "      <td>3127</td>\n",
       "      <td>536061</td>\n",
       "      <td>2014</td>\n",
       "      <td>6244.16</td>\n",
       "      <td>6059</td>\n",
       "      <td>147419</td>\n",
       "      <td>8930</td>\n",
       "      <td>orange</td>\n",
       "      <td>33.929748</td>\n",
       "      <td>-117.17801513.0</td>\n",
       "    </tr>\n",
       "    <tr>\n",
       "      <th>2152861</th>\n",
       "      <td>14367624</td>\n",
       "      <td>3.0</td>\n",
       "      <td>2.5</td>\n",
       "      <td>1974</td>\n",
       "      <td>424353</td>\n",
       "      <td>2015</td>\n",
       "      <td>5302.70</td>\n",
       "      <td>6059</td>\n",
       "      <td>129441</td>\n",
       "      <td>3376</td>\n",
       "      <td>orange</td>\n",
       "      <td>33.6457</td>\n",
       "      <td>-117.17598692.0</td>\n",
       "    </tr>\n",
       "  </tbody>\n",
       "</table>\n",
       "<p>2118089 rows × 13 columns</p>\n",
       "</div>"
      ],
      "text/plain": [
       "         parcelid  bedrooms  bathrooms  home_size   value  year       tax  \\\n",
       "4        11324547       4.0        2.0       3633  296425  2005   6941.39   \n",
       "7        11585547       3.0        2.0       2077  646760  1926   7924.68   \n",
       "18       12716947       3.0        1.0       1244  169471  1950   2532.88   \n",
       "19       12757147       3.0        2.0       1300  233266  1950   3110.99   \n",
       "20       12757947       3.0        2.0       1222  290492  1951   3870.25   \n",
       "...           ...       ...        ...        ...     ...   ...       ...   \n",
       "2152853  13917885       4.0        2.0       1987  259913  1955   3175.66   \n",
       "2152855  14762130       3.0        2.5       1809  405547  2012   4181.10   \n",
       "2152858  14356230       4.0        3.0       2262  960756  2015  13494.52   \n",
       "2152859  14157725       4.0        4.5       3127  536061  2014   6244.16   \n",
       "2152861  14367624       3.0        2.5       1974  424353  2015   5302.70   \n",
       "\n",
       "         fips  land_value  lot_size       county   latitude        longitude  \n",
       "4        6037       74104      9826  los_angeles  34.560018  -118.18169806.0  \n",
       "7        6037      436568      6490  los_angeles  34.012977  -118.18479243.0  \n",
       "18       6037       61431      6021  los_angeles  33.953559  -118.18083855.0  \n",
       "19       6037      155851      4917  los_angeles  33.897134  -118.18102953.0  \n",
       "20       6037      172653      5500  los_angeles  33.889894  -118.18100732.0  \n",
       "...       ...         ...       ...          ...        ...              ...  \n",
       "2152853  6059      169147      6100       orange  33.851932  -117.17934693.0  \n",
       "2152855  6059      148031      4884       orange  33.634876  -117.17833446.0  \n",
       "2152858  6059      564569      3220       orange  33.687201  -117.17759785.0  \n",
       "2152859  6059      147419      8930       orange  33.929748  -117.17801513.0  \n",
       "2152861  6059      129441      3376       orange    33.6457  -117.17598692.0  \n",
       "\n",
       "[2118089 rows x 13 columns]"
      ]
     },
     "execution_count": 17,
     "metadata": {},
     "output_type": "execute_result"
    }
   ],
   "source": [
    "df"
   ]
  },
  {
   "cell_type": "code",
   "execution_count": 18,
   "id": "ea2d09f2",
   "metadata": {},
   "outputs": [],
   "source": [
    "# df.rename(columns={'landtaxvaluedollarcnt': 'land_value', 'lotsizesquarefeet': 'lot_size', 'square_feet': 'home_size'}, inplace=True)"
   ]
  },
  {
   "cell_type": "code",
   "execution_count": 19,
   "id": "f5f5823b",
   "metadata": {},
   "outputs": [],
   "source": [
    "# df.drop(columns='Unnamed: 0', inplace=True)"
   ]
  },
  {
   "cell_type": "code",
   "execution_count": 20,
   "id": "885f8373",
   "metadata": {},
   "outputs": [],
   "source": [
    "# df"
   ]
  },
  {
   "cell_type": "code",
   "execution_count": 21,
   "id": "deba9306",
   "metadata": {},
   "outputs": [],
   "source": [
    "# df['land_value'] = df.land_value.astype(int)"
   ]
  },
  {
   "cell_type": "code",
   "execution_count": 22,
   "id": "cd6c04c3",
   "metadata": {},
   "outputs": [],
   "source": [
    "# df['lot_size'] = df.lot_size.astype(int)"
   ]
  },
  {
   "cell_type": "markdown",
   "id": "46ebb568",
   "metadata": {},
   "source": [
    "### Univariate Exploration"
   ]
  },
  {
   "cell_type": "code",
   "execution_count": 23,
   "id": "aa9fd7d6",
   "metadata": {},
   "outputs": [
    {
     "data": {
      "text/plain": [
       "7.0      3962\n",
       "1.0     22116\n",
       "6.0     23500\n",
       "5.0    148315\n",
       "2.0    331626\n",
       "4.0    629484\n",
       "3.0    959086\n",
       "Name: bedrooms, dtype: int64"
      ]
     },
     "execution_count": 23,
     "metadata": {},
     "output_type": "execute_result"
    }
   ],
   "source": [
    "df.bedrooms.value_counts().sort_values()"
   ]
  },
  {
   "cell_type": "code",
   "execution_count": 24,
   "id": "f3434ddc",
   "metadata": {},
   "outputs": [
    {
     "data": {
      "text/plain": [
       "0.5        14\n",
       "7.5       330\n",
       "6.5      1260\n",
       "7.0      3828\n",
       "5.5      6126\n",
       "6.0      9932\n",
       "4.5     19405\n",
       "5.0     26992\n",
       "3.5     28384\n",
       "1.5     31006\n",
       "4.0     79917\n",
       "2.5    142649\n",
       "1.0    410014\n",
       "3.0    418871\n",
       "2.0    939361\n",
       "Name: bathrooms, dtype: int64"
      ]
     },
     "execution_count": 24,
     "metadata": {},
     "output_type": "execute_result"
    }
   ],
   "source": [
    "df.bathrooms.value_counts().sort_values()"
   ]
  },
  {
   "cell_type": "code",
   "execution_count": 25,
   "id": "fecb9109",
   "metadata": {},
   "outputs": [],
   "source": [
    "# put this in wrangle function \n",
    "\n",
    "df = df[df.lot_size > 500]\n",
    "df = df[df.home_size > 500]\n",
    "df = df[df.value > 10000]"
   ]
  },
  {
   "cell_type": "code",
   "execution_count": 26,
   "id": "fc6140c0",
   "metadata": {},
   "outputs": [
    {
     "name": "stdout",
     "output_type": "stream",
     "text": [
      "\n"
     ]
    },
    {
     "data": {
      "text/markdown": [
       "**Zillow Data (Min, Max, Average)**"
      ],
      "text/plain": [
       "<IPython.core.display.Markdown object>"
      ]
     },
     "metadata": {},
     "output_type": "display_data"
    },
    {
     "name": "stdout",
     "output_type": "stream",
     "text": [
      "--------------------------------\n"
     ]
    },
    {
     "data": {
      "text/markdown": [
       "**Tax Assessed Value of Home**"
      ],
      "text/plain": [
       "<IPython.core.display.Markdown object>"
      ]
     },
     "metadata": {},
     "output_type": "display_data"
    },
    {
     "data": {
      "text/markdown": [
       "*Maximum Tax Assessed Value: 7,996,713*"
      ],
      "text/plain": [
       "<IPython.core.display.Markdown object>"
      ]
     },
     "metadata": {},
     "output_type": "display_data"
    },
    {
     "data": {
      "text/markdown": [
       "*Minimum Tax Assessed Value: 10,090*"
      ],
      "text/plain": [
       "<IPython.core.display.Markdown object>"
      ]
     },
     "metadata": {},
     "output_type": "display_data"
    },
    {
     "data": {
      "text/markdown": [
       "*Average Tax Assessed Value: 443,849*"
      ],
      "text/plain": [
       "<IPython.core.display.Markdown object>"
      ]
     },
     "metadata": {},
     "output_type": "display_data"
    },
    {
     "name": "stdout",
     "output_type": "stream",
     "text": [
      "--------------------------------\n"
     ]
    },
    {
     "data": {
      "text/markdown": [
       "**Tax Amount of Home**"
      ],
      "text/plain": [
       "<IPython.core.display.Markdown object>"
      ]
     },
     "metadata": {},
     "output_type": "display_data"
    },
    {
     "data": {
      "text/markdown": [
       "*Maximum Tax Amount of Home: 175,525*"
      ],
      "text/plain": [
       "<IPython.core.display.Markdown object>"
      ]
     },
     "metadata": {},
     "output_type": "display_data"
    },
    {
     "data": {
      "text/markdown": [
       "*Minimum Tax Amount of Home: 16.48*"
      ],
      "text/plain": [
       "<IPython.core.display.Markdown object>"
      ]
     },
     "metadata": {},
     "output_type": "display_data"
    },
    {
     "data": {
      "text/markdown": [
       "*Average Tax Amount of Home: 5,419*"
      ],
      "text/plain": [
       "<IPython.core.display.Markdown object>"
      ]
     },
     "metadata": {},
     "output_type": "display_data"
    },
    {
     "name": "stdout",
     "output_type": "stream",
     "text": [
      "--------------------------------\n"
     ]
    },
    {
     "data": {
      "text/markdown": [
       "**Home Size in Square Feet**"
      ],
      "text/plain": [
       "<IPython.core.display.Markdown object>"
      ]
     },
     "metadata": {},
     "output_type": "display_data"
    },
    {
     "data": {
      "text/markdown": [
       "*Maximum Home Size: 952,576 square feet*"
      ],
      "text/plain": [
       "<IPython.core.display.Markdown object>"
      ]
     },
     "metadata": {},
     "output_type": "display_data"
    },
    {
     "data": {
      "text/markdown": [
       "*Minimum Home Size: 501 square feet*"
      ],
      "text/plain": [
       "<IPython.core.display.Markdown object>"
      ]
     },
     "metadata": {},
     "output_type": "display_data"
    },
    {
     "data": {
      "text/markdown": [
       "*Average Home Size: 1,848 square feet*"
      ],
      "text/plain": [
       "<IPython.core.display.Markdown object>"
      ]
     },
     "metadata": {},
     "output_type": "display_data"
    },
    {
     "name": "stdout",
     "output_type": "stream",
     "text": [
      "--------------------------------\n"
     ]
    },
    {
     "data": {
      "text/markdown": [
       "**Lot Size in Square Feet**"
      ],
      "text/plain": [
       "<IPython.core.display.Markdown object>"
      ]
     },
     "metadata": {},
     "output_type": "display_data"
    },
    {
     "data": {
      "text/markdown": [
       "*Maximum Lot Size: 371,000,512 square feet*"
      ],
      "text/plain": [
       "<IPython.core.display.Markdown object>"
      ]
     },
     "metadata": {},
     "output_type": "display_data"
    },
    {
     "data": {
      "text/markdown": [
       "*Minimum Lot Size: 510 square feet*"
      ],
      "text/plain": [
       "<IPython.core.display.Markdown object>"
      ]
     },
     "metadata": {},
     "output_type": "display_data"
    },
    {
     "data": {
      "text/markdown": [
       "*Average Lot Size: 10,564 square feet*"
      ],
      "text/plain": [
       "<IPython.core.display.Markdown object>"
      ]
     },
     "metadata": {},
     "output_type": "display_data"
    },
    {
     "name": "stdout",
     "output_type": "stream",
     "text": [
      "--------------------------------\n"
     ]
    },
    {
     "data": {
      "text/markdown": [
       "**Tax Assessed Land Value**"
      ],
      "text/plain": [
       "<IPython.core.display.Markdown object>"
      ]
     },
     "metadata": {},
     "output_type": "display_data"
    },
    {
     "data": {
      "text/markdown": [
       "*Maximum Land Value: 7,726,052*"
      ],
      "text/plain": [
       "<IPython.core.display.Markdown object>"
      ]
     },
     "metadata": {},
     "output_type": "display_data"
    },
    {
     "data": {
      "text/markdown": [
       "*Minimum Land Value: 30*"
      ],
      "text/plain": [
       "<IPython.core.display.Markdown object>"
      ]
     },
     "metadata": {},
     "output_type": "display_data"
    },
    {
     "data": {
      "text/markdown": [
       "*Average Land Value: 272,066*"
      ],
      "text/plain": [
       "<IPython.core.display.Markdown object>"
      ]
     },
     "metadata": {},
     "output_type": "display_data"
    }
   ],
   "source": [
    "from IPython.display import Markdown, display\n",
    "def printmd(string):\n",
    "    display(Markdown(string))\n",
    "    \n",
    "print()\n",
    "printmd(\"**Zillow Data (Min, Max, Average)**\")\n",
    "print(\"--------------------------------\")\n",
    "printmd(\"**Tax Assessed Value of Home**\")\n",
    "printmd('*Maximum Tax Assessed Value: {:,}*'\n",
    "     .format(df['value'].max()))\n",
    "printmd('*Minimum Tax Assessed Value: {:,}*'\n",
    "     .format(df['value'].min()))\n",
    "printmd('*Average Tax Assessed Value: {:,}*'\n",
    "     .format(round(df['value'].mean())))\n",
    "print(\"--------------------------------\")\n",
    "printmd(\"**Tax Amount of Home**\")\n",
    "printmd('*Maximum Tax Amount of Home: {:,}*'\n",
    "     .format(round(df['tax'].max())))\n",
    "printmd('*Minimum Tax Amount of Home: {:,}*'\n",
    "     .format(df['tax'].min()))\n",
    "printmd('*Average Tax Amount of Home: {:,}*'\n",
    "     .format(round(df['tax'].mean())))\n",
    "print(\"--------------------------------\")\n",
    "printmd(\"**Home Size in Square Feet**\")\n",
    "printmd('*Maximum Home Size: {:,} square feet*'\n",
    "     .format(df['home_size'].max()))\n",
    "printmd('*Minimum Home Size: {:,} square feet*'\n",
    "     .format(df['home_size'].min()))\n",
    "printmd('*Average Home Size: {:,} square feet*'\n",
    "     .format(round(df['home_size'].mean())))\n",
    "print(\"--------------------------------\")\n",
    "printmd(\"**Lot Size in Square Feet**\")\n",
    "printmd('*Maximum Lot Size: {:,} square feet*'\n",
    "     .format(df['lot_size'].max()))\n",
    "printmd('*Minimum Lot Size: {:,} square feet*'\n",
    "     .format(df['lot_size'].min()))\n",
    "printmd('*Average Lot Size: {:,} square feet*'\n",
    "     .format(round(df['lot_size'].mean())))\n",
    "print(\"--------------------------------\")\n",
    "printmd(\"**Tax Assessed Land Value**\")\n",
    "printmd('*Maximum Land Value: {:,}*'\n",
    "     .format(df['land_value'].max()))\n",
    "printmd('*Minimum Land Value: {:,}*'\n",
    "     .format(df['land_value'].min()))\n",
    "printmd('*Average Land Value: {:,}*'\n",
    "     .format(round(df['land_value'].mean())))"
   ]
  },
  {
   "cell_type": "code",
   "execution_count": 27,
   "id": "a6b2a77d",
   "metadata": {},
   "outputs": [
    {
     "data": {
      "text/plain": [
       "<AxesSubplot:title={'center':'bedroom count'}, xlabel='bedrooms', ylabel='count'>"
      ]
     },
     "execution_count": 27,
     "metadata": {},
     "output_type": "execute_result"
    },
    {
     "data": {
      "image/png": "[encoded data removed]",
      "text/plain": [
       "<Figure size 720x288 with 1 Axes>"
      ]
     },
     "metadata": {
      "needs_background": "light"
     },
     "output_type": "display_data"
    }
   ],
   "source": [
    "plt.figure(figsize=(10, 4))\n",
    "sns.set_palette('Set2', 8)\n",
    "plt.title('bedroom count')\n",
    "sns.countplot(x = 'bedrooms', data= df)"
   ]
  },
  {
   "cell_type": "code",
   "execution_count": 28,
   "id": "b341739c",
   "metadata": {},
   "outputs": [
    {
     "data": {
      "text/plain": [
       "Text(0.5, 1.0, 'bathroom count')"
      ]
     },
     "execution_count": 28,
     "metadata": {},
     "output_type": "execute_result"
    },
    {
     "data": {
      "image/png": "[encoded data removed]",
      "text/plain": [
       "<Figure size 1008x360 with 1 Axes>"
      ]
     },
     "metadata": {
      "needs_background": "light"
     },
     "output_type": "display_data"
    }
   ],
   "source": [
    "plt.figure(figsize=(14, 5))\n",
    "sns.set_palette('Set2', 20)\n",
    "sns.countplot(x='bathrooms', data=df)\n",
    "plt.title('bathroom count')"
   ]
  },
  {
   "cell_type": "code",
   "execution_count": 29,
   "id": "9386c112",
   "metadata": {},
   "outputs": [],
   "source": [
    "from sklearn.model_selection import train_test_split\n",
    "from scipy.stats import pearsonr, spearmanr\n",
    "\n",
    "from math import sqrt\n",
    "from scipy import stats"
   ]
  },
  {
   "cell_type": "code",
   "execution_count": 30,
   "id": "9225fc27",
   "metadata": {},
   "outputs": [],
   "source": [
    "# make this a function\n",
    "train_and_validate, test = train_test_split(df, test_size=.2, random_state=123)\n",
    "train, validate = train_test_split(train_and_validate, test_size=.3, random_state=123)"
   ]
  },
  {
   "cell_type": "code",
   "execution_count": 31,
   "id": "a20f2c85",
   "metadata": {},
   "outputs": [
    {
     "name": "stdout",
     "output_type": "stream",
     "text": [
      "<class 'pandas.core.frame.DataFrame'>\n",
      "Int64Index: 1184478 entries, 1341155 to 63651\n",
      "Data columns (total 13 columns):\n",
      " #   Column      Non-Null Count    Dtype  \n",
      "---  ------      --------------    -----  \n",
      " 0   parcelid    1184478 non-null  int64  \n",
      " 1   bedrooms    1184478 non-null  float64\n",
      " 2   bathrooms   1184478 non-null  float64\n",
      " 3   home_size   1184478 non-null  int64  \n",
      " 4   value       1184478 non-null  int64  \n",
      " 5   year        1184478 non-null  int64  \n",
      " 6   tax         1184478 non-null  float64\n",
      " 7   fips        1184478 non-null  int64  \n",
      " 8   land_value  1184478 non-null  int64  \n",
      " 9   lot_size    1184478 non-null  int64  \n",
      " 10  county      1184478 non-null  object \n",
      " 11  latitude    1184478 non-null  object \n",
      " 12  longitude   1184478 non-null  object \n",
      "dtypes: float64(3), int64(7), object(3)\n",
      "memory usage: 126.5+ MB\n"
     ]
    }
   ],
   "source": [
    "train.info()"
   ]
  },
  {
   "cell_type": "code",
   "execution_count": 32,
   "id": "f9102171",
   "metadata": {},
   "outputs": [],
   "source": [
    "orange_train = train.copy()"
   ]
  },
  {
   "cell_type": "code",
   "execution_count": 33,
   "id": "ea013619",
   "metadata": {},
   "outputs": [],
   "source": [
    "ventura_train = train.copy()"
   ]
  },
  {
   "cell_type": "code",
   "execution_count": 34,
   "id": "9e5c212b",
   "metadata": {},
   "outputs": [],
   "source": [
    "la_train = train.copy()"
   ]
  },
  {
   "cell_type": "code",
   "execution_count": 35,
   "id": "b3d12c8a",
   "metadata": {},
   "outputs": [],
   "source": [
    "orange_train = orange_train[orange_train.county == 'orange']"
   ]
  },
  {
   "cell_type": "code",
   "execution_count": 36,
   "id": "d34a30d0",
   "metadata": {},
   "outputs": [
    {
     "data": {
      "text/html": [
       "<div>\n",
       "<style scoped>\n",
       "    .dataframe tbody tr th:only-of-type {\n",
       "        vertical-align: middle;\n",
       "    }\n",
       "\n",
       "    .dataframe tbody tr th {\n",
       "        vertical-align: top;\n",
       "    }\n",
       "\n",
       "    .dataframe thead th {\n",
       "        text-align: right;\n",
       "    }\n",
       "</style>\n",
       "<table border=\"1\" class=\"dataframe\">\n",
       "  <thead>\n",
       "    <tr style=\"text-align: right;\">\n",
       "      <th></th>\n",
       "      <th>parcelid</th>\n",
       "      <th>bedrooms</th>\n",
       "      <th>bathrooms</th>\n",
       "      <th>home_size</th>\n",
       "      <th>value</th>\n",
       "      <th>year</th>\n",
       "      <th>tax</th>\n",
       "      <th>fips</th>\n",
       "      <th>land_value</th>\n",
       "      <th>lot_size</th>\n",
       "      <th>county</th>\n",
       "      <th>latitude</th>\n",
       "      <th>longitude</th>\n",
       "    </tr>\n",
       "  </thead>\n",
       "  <tbody>\n",
       "    <tr>\n",
       "      <th>1988388</th>\n",
       "      <td>13876547</td>\n",
       "      <td>3.0</td>\n",
       "      <td>2.0</td>\n",
       "      <td>1233</td>\n",
       "      <td>196350</td>\n",
       "      <td>1956</td>\n",
       "      <td>2473.32</td>\n",
       "      <td>6059</td>\n",
       "      <td>125568</td>\n",
       "      <td>7300</td>\n",
       "      <td>orange</td>\n",
       "      <td>33.87081</td>\n",
       "      <td>-117.17887411.0</td>\n",
       "    </tr>\n",
       "    <tr>\n",
       "      <th>2118924</th>\n",
       "      <td>14192018</td>\n",
       "      <td>4.0</td>\n",
       "      <td>2.0</td>\n",
       "      <td>1847</td>\n",
       "      <td>286622</td>\n",
       "      <td>1970</td>\n",
       "      <td>3541.50</td>\n",
       "      <td>6059</td>\n",
       "      <td>164313</td>\n",
       "      <td>7480</td>\n",
       "      <td>orange</td>\n",
       "      <td>33.892583</td>\n",
       "      <td>-117.17789913.0</td>\n",
       "    </tr>\n",
       "    <tr>\n",
       "      <th>1000859</th>\n",
       "      <td>14215564</td>\n",
       "      <td>4.0</td>\n",
       "      <td>2.5</td>\n",
       "      <td>2848</td>\n",
       "      <td>738566</td>\n",
       "      <td>1974</td>\n",
       "      <td>7904.84</td>\n",
       "      <td>6059</td>\n",
       "      <td>563756</td>\n",
       "      <td>14000</td>\n",
       "      <td>orange</td>\n",
       "      <td>33.839723</td>\n",
       "      <td>-117.17800759.0</td>\n",
       "    </tr>\n",
       "    <tr>\n",
       "      <th>2054197</th>\n",
       "      <td>14170956</td>\n",
       "      <td>4.0</td>\n",
       "      <td>2.0</td>\n",
       "      <td>1752</td>\n",
       "      <td>74821</td>\n",
       "      <td>1969</td>\n",
       "      <td>1365.12</td>\n",
       "      <td>6059</td>\n",
       "      <td>26780</td>\n",
       "      <td>11000</td>\n",
       "      <td>orange</td>\n",
       "      <td>33.897003</td>\n",
       "      <td>-117.17852274.0</td>\n",
       "    </tr>\n",
       "    <tr>\n",
       "      <th>1183654</th>\n",
       "      <td>14502754</td>\n",
       "      <td>3.0</td>\n",
       "      <td>2.5</td>\n",
       "      <td>1758</td>\n",
       "      <td>652805</td>\n",
       "      <td>1998</td>\n",
       "      <td>9602.62</td>\n",
       "      <td>6059</td>\n",
       "      <td>462919</td>\n",
       "      <td>5744</td>\n",
       "      <td>orange</td>\n",
       "      <td>33.649952</td>\n",
       "      <td>-117.17611226.0</td>\n",
       "    </tr>\n",
       "    <tr>\n",
       "      <th>...</th>\n",
       "      <td>...</td>\n",
       "      <td>...</td>\n",
       "      <td>...</td>\n",
       "      <td>...</td>\n",
       "      <td>...</td>\n",
       "      <td>...</td>\n",
       "      <td>...</td>\n",
       "      <td>...</td>\n",
       "      <td>...</td>\n",
       "      <td>...</td>\n",
       "      <td>...</td>\n",
       "      <td>...</td>\n",
       "      <td>...</td>\n",
       "    </tr>\n",
       "    <tr>\n",
       "      <th>515808</th>\n",
       "      <td>14386067</td>\n",
       "      <td>4.0</td>\n",
       "      <td>2.5</td>\n",
       "      <td>2099</td>\n",
       "      <td>599004</td>\n",
       "      <td>1995</td>\n",
       "      <td>5942.40</td>\n",
       "      <td>6059</td>\n",
       "      <td>347723</td>\n",
       "      <td>5740</td>\n",
       "      <td>orange</td>\n",
       "      <td>33.599387</td>\n",
       "      <td>-117.17732992.0</td>\n",
       "    </tr>\n",
       "    <tr>\n",
       "      <th>578738</th>\n",
       "      <td>13943574</td>\n",
       "      <td>3.0</td>\n",
       "      <td>2.0</td>\n",
       "      <td>1205</td>\n",
       "      <td>443671</td>\n",
       "      <td>1959</td>\n",
       "      <td>5435.88</td>\n",
       "      <td>6059</td>\n",
       "      <td>388347</td>\n",
       "      <td>6675</td>\n",
       "      <td>orange</td>\n",
       "      <td>33.763437</td>\n",
       "      <td>-117.17982119.0</td>\n",
       "    </tr>\n",
       "    <tr>\n",
       "      <th>1828325</th>\n",
       "      <td>14158437</td>\n",
       "      <td>4.0</td>\n",
       "      <td>2.0</td>\n",
       "      <td>2017</td>\n",
       "      <td>243661</td>\n",
       "      <td>1970</td>\n",
       "      <td>2949.76</td>\n",
       "      <td>6059</td>\n",
       "      <td>76012</td>\n",
       "      <td>5600</td>\n",
       "      <td>orange</td>\n",
       "      <td>33.916138</td>\n",
       "      <td>-117.17879697.0</td>\n",
       "    </tr>\n",
       "    <tr>\n",
       "      <th>1732642</th>\n",
       "      <td>14489279</td>\n",
       "      <td>3.0</td>\n",
       "      <td>3.0</td>\n",
       "      <td>1936</td>\n",
       "      <td>615241</td>\n",
       "      <td>1978</td>\n",
       "      <td>6173.68</td>\n",
       "      <td>6059</td>\n",
       "      <td>499931</td>\n",
       "      <td>5412</td>\n",
       "      <td>orange</td>\n",
       "      <td>33.606502</td>\n",
       "      <td>-117.17636240.0</td>\n",
       "    </tr>\n",
       "    <tr>\n",
       "      <th>63651</th>\n",
       "      <td>14424401</td>\n",
       "      <td>2.0</td>\n",
       "      <td>2.0</td>\n",
       "      <td>1350</td>\n",
       "      <td>153035</td>\n",
       "      <td>1979</td>\n",
       "      <td>1548.68</td>\n",
       "      <td>6059</td>\n",
       "      <td>57383</td>\n",
       "      <td>1755</td>\n",
       "      <td>orange</td>\n",
       "      <td>33.495145</td>\n",
       "      <td>-117.17650721.0</td>\n",
       "    </tr>\n",
       "  </tbody>\n",
       "</table>\n",
       "<p>306938 rows × 13 columns</p>\n",
       "</div>"
      ],
      "text/plain": [
       "         parcelid  bedrooms  bathrooms  home_size   value  year      tax  \\\n",
       "1988388  13876547       3.0        2.0       1233  196350  1956  2473.32   \n",
       "2118924  14192018       4.0        2.0       1847  286622  1970  3541.50   \n",
       "1000859  14215564       4.0        2.5       2848  738566  1974  7904.84   \n",
       "2054197  14170956       4.0        2.0       1752   74821  1969  1365.12   \n",
       "1183654  14502754       3.0        2.5       1758  652805  1998  9602.62   \n",
       "...           ...       ...        ...        ...     ...   ...      ...   \n",
       "515808   14386067       4.0        2.5       2099  599004  1995  5942.40   \n",
       "578738   13943574       3.0        2.0       1205  443671  1959  5435.88   \n",
       "1828325  14158437       4.0        2.0       2017  243661  1970  2949.76   \n",
       "1732642  14489279       3.0        3.0       1936  615241  1978  6173.68   \n",
       "63651    14424401       2.0        2.0       1350  153035  1979  1548.68   \n",
       "\n",
       "         fips  land_value  lot_size  county   latitude        longitude  \n",
       "1988388  6059      125568      7300  orange   33.87081  -117.17887411.0  \n",
       "2118924  6059      164313      7480  orange  33.892583  -117.17789913.0  \n",
       "1000859  6059      563756     14000  orange  33.839723  -117.17800759.0  \n",
       "2054197  6059       26780     11000  orange  33.897003  -117.17852274.0  \n",
       "1183654  6059      462919      5744  orange  33.649952  -117.17611226.0  \n",
       "...       ...         ...       ...     ...        ...              ...  \n",
       "515808   6059      347723      5740  orange  33.599387  -117.17732992.0  \n",
       "578738   6059      388347      6675  orange  33.763437  -117.17982119.0  \n",
       "1828325  6059       76012      5600  orange  33.916138  -117.17879697.0  \n",
       "1732642  6059      499931      5412  orange  33.606502  -117.17636240.0  \n",
       "63651    6059       57383      1755  orange  33.495145  -117.17650721.0  \n",
       "\n",
       "[306938 rows x 13 columns]"
      ]
     },
     "execution_count": 36,
     "metadata": {},
     "output_type": "execute_result"
    }
   ],
   "source": [
    "orange_train"
   ]
  },
  {
   "cell_type": "code",
   "execution_count": 37,
   "id": "06e0c4ad",
   "metadata": {},
   "outputs": [],
   "source": [
    "ventura_train = ventura_train[ventura_train.county == 'ventura']"
   ]
  },
  {
   "cell_type": "code",
   "execution_count": 38,
   "id": "c6b7316c",
   "metadata": {},
   "outputs": [],
   "source": [
    "la_train = la_train[la_train.county == 'los_angeles']"
   ]
  },
  {
   "cell_type": "code",
   "execution_count": 39,
   "id": "3302fb45",
   "metadata": {},
   "outputs": [],
   "source": [
    "ventura_train.to_csv(\"ventura_locations.csv\")\n",
    "la_train.to_csv(\"la_locations.csv\")\n",
    "orange_train.to_csv(\"orange_locations.csv\")"
   ]
  },
  {
   "cell_type": "code",
   "execution_count": 40,
   "id": "89890b94",
   "metadata": {},
   "outputs": [
    {
     "name": "stdout",
     "output_type": "stream",
     "text": [
      "<class 'pandas.core.frame.DataFrame'>\n",
      "Int64Index: 90679 entries, 1033849 to 549754\n",
      "Data columns (total 13 columns):\n",
      " #   Column      Non-Null Count  Dtype  \n",
      "---  ------      --------------  -----  \n",
      " 0   parcelid    90679 non-null  int64  \n",
      " 1   bedrooms    90679 non-null  float64\n",
      " 2   bathrooms   90679 non-null  float64\n",
      " 3   home_size   90679 non-null  int64  \n",
      " 4   value       90679 non-null  int64  \n",
      " 5   year        90679 non-null  int64  \n",
      " 6   tax         90679 non-null  float64\n",
      " 7   fips        90679 non-null  int64  \n",
      " 8   land_value  90679 non-null  int64  \n",
      " 9   lot_size    90679 non-null  int64  \n",
      " 10  county      90679 non-null  object \n",
      " 11  latitude    90679 non-null  object \n",
      " 12  longitude   90679 non-null  object \n",
      "dtypes: float64(3), int64(7), object(3)\n",
      "memory usage: 9.7+ MB\n"
     ]
    }
   ],
   "source": [
    "ventura_train.info()"
   ]
  },
  {
   "cell_type": "code",
   "execution_count": 41,
   "id": "10280a4e",
   "metadata": {},
   "outputs": [],
   "source": [
    "ventura_train['latitude'] = ventura_train.latitude.astype(str)"
   ]
  },
  {
   "cell_type": "code",
   "execution_count": 42,
   "id": "9aafaa10",
   "metadata": {},
   "outputs": [
    {
     "data": {
      "text/plain": [
       "dtype('O')"
      ]
     },
     "execution_count": 42,
     "metadata": {},
     "output_type": "execute_result"
    }
   ],
   "source": [
    "ventura_train['latitude'].dtype"
   ]
  },
  {
   "cell_type": "code",
   "execution_count": 43,
   "id": "2c653504",
   "metadata": {},
   "outputs": [],
   "source": [
    "ventura_train['latitude'] = np.where(ventura_train['latitude']==' ',0, ventura_train['latitude']).astype(float)"
   ]
  },
  {
   "cell_type": "code",
   "execution_count": 44,
   "id": "1c249599",
   "metadata": {},
   "outputs": [],
   "source": [
    "ventura_train['longitude'] = ventura_train.longitude.astype(str)"
   ]
  },
  {
   "cell_type": "code",
   "execution_count": 45,
   "id": "e1d95198",
   "metadata": {},
   "outputs": [],
   "source": [
    "ventura_train['longitude'] = ventura_train['longitude'].str.rstrip('.0') "
   ]
  },
  {
   "cell_type": "code",
   "execution_count": 46,
   "id": "e6a8e946",
   "metadata": {},
   "outputs": [
    {
     "data": {
      "text/plain": [
       "1033849    -119.19207912\n",
       "2045438    -119.19220729\n",
       "1130383    -119.19028047\n",
       "1411349    -118.18762283\n",
       "1120403    -118.18710355\n",
       "               ...      \n",
       "1938038    -119.19208389\n",
       "118735     -119.19164934\n",
       "1120471    -118.18769013\n",
       "2089080    -118.18839191\n",
       "549754     -118.18673452\n",
       "Name: longitude, Length: 90679, dtype: object"
      ]
     },
     "execution_count": 46,
     "metadata": {},
     "output_type": "execute_result"
    }
   ],
   "source": [
    "ventura_train['longitude']"
   ]
  },
  {
   "cell_type": "code",
   "execution_count": 47,
   "id": "759eed4f",
   "metadata": {},
   "outputs": [],
   "source": [
    "ventura_train['longitude'] = np.where(ventura_train['longitude']==' ',0, ventura_train['longitude']).astype(float)"
   ]
  },
  {
   "cell_type": "code",
   "execution_count": 48,
   "id": "81017e09",
   "metadata": {},
   "outputs": [],
   "source": [
    "import geopy"
   ]
  },
  {
   "cell_type": "code",
   "execution_count": 49,
   "id": "1f896c93",
   "metadata": {},
   "outputs": [],
   "source": [
    "def get_zipcode(ventura_train, geolocator, lat_field, lon_field):\n",
    "    location = geolocator.reverse((ventura_train['latitude'], ventura_train['longitude']))\n",
    "    return location.raw['address']['postcode']\n",
    "\n",
    "geolocator = geopy.Nominatim(user_agent='mlshiben')"
   ]
  },
  {
   "cell_type": "code",
   "execution_count": 50,
   "id": "51425cc6",
   "metadata": {},
   "outputs": [
    {
     "data": {
      "text/plain": [
       "1033849    34.297995\n",
       "2045438    34.281777\n",
       "1130383    34.209863\n",
       "1411349    34.173449\n",
       "1120403    34.285788\n",
       "             ...    \n",
       "1938038    34.188076\n",
       "118735     34.276843\n",
       "1120471    34.257785\n",
       "2089080    34.140747\n",
       "549754     34.275027\n",
       "Name: latitude, Length: 90679, dtype: float64"
      ]
     },
     "execution_count": 50,
     "metadata": {},
     "output_type": "execute_result"
    }
   ],
   "source": [
    "ventura_train.get('latitude')"
   ]
  },
  {
   "cell_type": "code",
   "execution_count": 51,
   "id": "e4a16bfb",
   "metadata": {},
   "outputs": [],
   "source": [
    "import geocoder"
   ]
  },
  {
   "cell_type": "code",
   "execution_count": 52,
   "id": "43b64376",
   "metadata": {},
   "outputs": [],
   "source": [
    "# def geo_rev(ventura_train):\n",
    "#     g = geocoder.osm([ventura_train.latitude, ventura_train.longitude], method='reverse').json\n",
    "#     if g:\n",
    "#         return g.get('postal')\n",
    "#     else:\n",
    "#         return 'no postal'\n",
    "\n",
    "# ventura_train[['latitude', 'longitude']].apply(geo_rev, axis=1)\n"
   ]
  },
  {
   "cell_type": "code",
   "execution_count": 53,
   "id": "9038c8e2",
   "metadata": {},
   "outputs": [],
   "source": [
    "# g = geocoder.osm(ventura_train['latitude'], ventura_train['longitude']), method='reverse')\n",
    "# g.json['postal']"
   ]
  },
  {
   "cell_type": "code",
   "execution_count": 54,
   "id": "012128cb",
   "metadata": {},
   "outputs": [],
   "source": [
    "# zipcodes = ventura_train.apply(get_zipcode, geolocator=geolocator, lat_field ='latitude', lon_field = 'longitude')"
   ]
  },
  {
   "cell_type": "code",
   "execution_count": 57,
   "id": "5b99204d",
   "metadata": {},
   "outputs": [
    {
     "data": {
      "text/plain": [
       "1511.3166666666666"
      ]
     },
     "execution_count": 57,
     "metadata": {},
     "output_type": "execute_result"
    }
   ],
   "source": [
    "90679/ 60"
   ]
  },
  {
   "cell_type": "code",
   "execution_count": 58,
   "id": "28159519",
   "metadata": {},
   "outputs": [
    {
     "data": {
      "text/plain": [
       "25.183333333333334"
      ]
     },
     "execution_count": 58,
     "metadata": {},
     "output_type": "execute_result"
    }
   ],
   "source": [
    "1511 / 60"
   ]
  },
  {
   "cell_type": "code",
   "execution_count": 56,
   "id": "156e5b8b",
   "metadata": {},
   "outputs": [
    {
     "name": "stdout",
     "output_type": "stream",
     "text": [
      "<class 'pandas.core.frame.DataFrame'>\n",
      "Int64Index: 90679 entries, 1033849 to 549754\n",
      "Data columns (total 13 columns):\n",
      " #   Column      Non-Null Count  Dtype  \n",
      "---  ------      --------------  -----  \n",
      " 0   parcelid    90679 non-null  int64  \n",
      " 1   bedrooms    90679 non-null  float64\n",
      " 2   bathrooms   90679 non-null  float64\n",
      " 3   home_size   90679 non-null  int64  \n",
      " 4   value       90679 non-null  int64  \n",
      " 5   year        90679 non-null  int64  \n",
      " 6   tax         90679 non-null  float64\n",
      " 7   fips        90679 non-null  int64  \n",
      " 8   land_value  90679 non-null  int64  \n",
      " 9   lot_size    90679 non-null  int64  \n",
      " 10  county      90679 non-null  object \n",
      " 11  latitude    90679 non-null  float64\n",
      " 12  longitude   90679 non-null  float64\n",
      "dtypes: float64(5), int64(7), object(1)\n",
      "memory usage: 9.7+ MB\n"
     ]
    }
   ],
   "source": [
    "ventura_train.info()"
   ]
  },
  {
   "cell_type": "code",
   "execution_count": 59,
   "id": "233df0f7",
   "metadata": {},
   "outputs": [],
   "source": [
    "sample = ventura_train.copy()"
   ]
  },
  {
   "cell_type": "code",
   "execution_count": 64,
   "id": "a14997c9",
   "metadata": {},
   "outputs": [
    {
     "data": {
      "text/plain": [
       "3843389.890000062"
      ]
     },
     "execution_count": 64,
     "metadata": {},
     "output_type": "execute_result"
    }
   ],
   "source": [
    "sample.value.quantile(.999)"
   ]
  },
  {
   "cell_type": "code",
   "execution_count": 65,
   "id": "2b6d3676",
   "metadata": {},
   "outputs": [],
   "source": [
    "sample = sample[sample.value > 3843389]"
   ]
  },
  {
   "cell_type": "code",
   "execution_count": 66,
   "id": "9d4b2332",
   "metadata": {},
   "outputs": [
    {
     "data": {
      "text/html": [
       "<div>\n",
       "<style scoped>\n",
       "    .dataframe tbody tr th:only-of-type {\n",
       "        vertical-align: middle;\n",
       "    }\n",
       "\n",
       "    .dataframe tbody tr th {\n",
       "        vertical-align: top;\n",
       "    }\n",
       "\n",
       "    .dataframe thead th {\n",
       "        text-align: right;\n",
       "    }\n",
       "</style>\n",
       "<table border=\"1\" class=\"dataframe\">\n",
       "  <thead>\n",
       "    <tr style=\"text-align: right;\">\n",
       "      <th></th>\n",
       "      <th>parcelid</th>\n",
       "      <th>bedrooms</th>\n",
       "      <th>bathrooms</th>\n",
       "      <th>home_size</th>\n",
       "      <th>value</th>\n",
       "      <th>year</th>\n",
       "      <th>tax</th>\n",
       "      <th>fips</th>\n",
       "      <th>land_value</th>\n",
       "      <th>lot_size</th>\n",
       "      <th>county</th>\n",
       "      <th>latitude</th>\n",
       "      <th>longitude</th>\n",
       "    </tr>\n",
       "  </thead>\n",
       "  <tbody>\n",
       "    <tr>\n",
       "      <th>1927654</th>\n",
       "      <td>17272810</td>\n",
       "      <td>4.0</td>\n",
       "      <td>5.0</td>\n",
       "      <td>9735</td>\n",
       "      <td>7272000</td>\n",
       "      <td>1999</td>\n",
       "      <td>76767.30</td>\n",
       "      <td>6111</td>\n",
       "      <td>4939000</td>\n",
       "      <td>881218</td>\n",
       "      <td>ventura</td>\n",
       "      <td>34.160348</td>\n",
       "      <td>-118.189272</td>\n",
       "    </tr>\n",
       "    <tr>\n",
       "      <th>1336007</th>\n",
       "      <td>17292879</td>\n",
       "      <td>5.0</td>\n",
       "      <td>5.5</td>\n",
       "      <td>7836</td>\n",
       "      <td>4242518</td>\n",
       "      <td>2002</td>\n",
       "      <td>45145.90</td>\n",
       "      <td>6111</td>\n",
       "      <td>2610781</td>\n",
       "      <td>37462</td>\n",
       "      <td>ventura</td>\n",
       "      <td>34.131518</td>\n",
       "      <td>-118.188785</td>\n",
       "    </tr>\n",
       "    <tr>\n",
       "      <th>538503</th>\n",
       "      <td>17051397</td>\n",
       "      <td>7.0</td>\n",
       "      <td>7.5</td>\n",
       "      <td>7592</td>\n",
       "      <td>4168470</td>\n",
       "      <td>1930</td>\n",
       "      <td>45064.24</td>\n",
       "      <td>6111</td>\n",
       "      <td>2943741</td>\n",
       "      <td>512266</td>\n",
       "      <td>ventura</td>\n",
       "      <td>34.460740</td>\n",
       "      <td>-119.192594</td>\n",
       "    </tr>\n",
       "    <tr>\n",
       "      <th>872277</th>\n",
       "      <td>167646228</td>\n",
       "      <td>7.0</td>\n",
       "      <td>4.0</td>\n",
       "      <td>4906</td>\n",
       "      <td>5351281</td>\n",
       "      <td>1927</td>\n",
       "      <td>57465.48</td>\n",
       "      <td>6111</td>\n",
       "      <td>4508319</td>\n",
       "      <td>1798514</td>\n",
       "      <td>ventura</td>\n",
       "      <td>34.439763</td>\n",
       "      <td>-119.192397</td>\n",
       "    </tr>\n",
       "    <tr>\n",
       "      <th>108488</th>\n",
       "      <td>17292587</td>\n",
       "      <td>5.0</td>\n",
       "      <td>5.5</td>\n",
       "      <td>6540</td>\n",
       "      <td>4062359</td>\n",
       "      <td>2003</td>\n",
       "      <td>43267.26</td>\n",
       "      <td>6111</td>\n",
       "      <td>3061491</td>\n",
       "      <td>101930</td>\n",
       "      <td>ventura</td>\n",
       "      <td>34.130145</td>\n",
       "      <td>-118.188818</td>\n",
       "    </tr>\n",
       "    <tr>\n",
       "      <th>...</th>\n",
       "      <td>...</td>\n",
       "      <td>...</td>\n",
       "      <td>...</td>\n",
       "      <td>...</td>\n",
       "      <td>...</td>\n",
       "      <td>...</td>\n",
       "      <td>...</td>\n",
       "      <td>...</td>\n",
       "      <td>...</td>\n",
       "      <td>...</td>\n",
       "      <td>...</td>\n",
       "      <td>...</td>\n",
       "      <td>...</td>\n",
       "    </tr>\n",
       "    <tr>\n",
       "      <th>1087319</th>\n",
       "      <td>17068906</td>\n",
       "      <td>4.0</td>\n",
       "      <td>4.5</td>\n",
       "      <td>3419</td>\n",
       "      <td>4131782</td>\n",
       "      <td>2010</td>\n",
       "      <td>44707.26</td>\n",
       "      <td>6111</td>\n",
       "      <td>3624371</td>\n",
       "      <td>6211</td>\n",
       "      <td>ventura</td>\n",
       "      <td>34.340704</td>\n",
       "      <td>-119.194140</td>\n",
       "    </tr>\n",
       "    <tr>\n",
       "      <th>1701064</th>\n",
       "      <td>17057650</td>\n",
       "      <td>2.0</td>\n",
       "      <td>2.0</td>\n",
       "      <td>1722</td>\n",
       "      <td>3936457</td>\n",
       "      <td>1950</td>\n",
       "      <td>42194.12</td>\n",
       "      <td>6111</td>\n",
       "      <td>3268003</td>\n",
       "      <td>219542</td>\n",
       "      <td>ventura</td>\n",
       "      <td>34.458268</td>\n",
       "      <td>-119.191915</td>\n",
       "    </tr>\n",
       "    <tr>\n",
       "      <th>959175</th>\n",
       "      <td>17292592</td>\n",
       "      <td>5.0</td>\n",
       "      <td>6.5</td>\n",
       "      <td>8040</td>\n",
       "      <td>5077000</td>\n",
       "      <td>2000</td>\n",
       "      <td>53920.42</td>\n",
       "      <td>6111</td>\n",
       "      <td>3842000</td>\n",
       "      <td>65217</td>\n",
       "      <td>ventura</td>\n",
       "      <td>34.127593</td>\n",
       "      <td>-118.188830</td>\n",
       "    </tr>\n",
       "    <tr>\n",
       "      <th>2141976</th>\n",
       "      <td>17103922</td>\n",
       "      <td>5.0</td>\n",
       "      <td>7.0</td>\n",
       "      <td>13751</td>\n",
       "      <td>4006357</td>\n",
       "      <td>2008</td>\n",
       "      <td>43086.90</td>\n",
       "      <td>6111</td>\n",
       "      <td>343173</td>\n",
       "      <td>394654</td>\n",
       "      <td>ventura</td>\n",
       "      <td>34.319980</td>\n",
       "      <td>-118.189903</td>\n",
       "    </tr>\n",
       "    <tr>\n",
       "      <th>1519198</th>\n",
       "      <td>17292554</td>\n",
       "      <td>5.0</td>\n",
       "      <td>7.0</td>\n",
       "      <td>7438</td>\n",
       "      <td>4935380</td>\n",
       "      <td>1990</td>\n",
       "      <td>52502.26</td>\n",
       "      <td>6111</td>\n",
       "      <td>3369436</td>\n",
       "      <td>46035</td>\n",
       "      <td>ventura</td>\n",
       "      <td>34.135543</td>\n",
       "      <td>-118.188794</td>\n",
       "    </tr>\n",
       "  </tbody>\n",
       "</table>\n",
       "<p>91 rows × 13 columns</p>\n",
       "</div>"
      ],
      "text/plain": [
       "          parcelid  bedrooms  bathrooms  home_size    value  year       tax  \\\n",
       "1927654   17272810       4.0        5.0       9735  7272000  1999  76767.30   \n",
       "1336007   17292879       5.0        5.5       7836  4242518  2002  45145.90   \n",
       "538503    17051397       7.0        7.5       7592  4168470  1930  45064.24   \n",
       "872277   167646228       7.0        4.0       4906  5351281  1927  57465.48   \n",
       "108488    17292587       5.0        5.5       6540  4062359  2003  43267.26   \n",
       "...            ...       ...        ...        ...      ...   ...       ...   \n",
       "1087319   17068906       4.0        4.5       3419  4131782  2010  44707.26   \n",
       "1701064   17057650       2.0        2.0       1722  3936457  1950  42194.12   \n",
       "959175    17292592       5.0        6.5       8040  5077000  2000  53920.42   \n",
       "2141976   17103922       5.0        7.0      13751  4006357  2008  43086.90   \n",
       "1519198   17292554       5.0        7.0       7438  4935380  1990  52502.26   \n",
       "\n",
       "         fips  land_value  lot_size   county   latitude   longitude  \n",
       "1927654  6111     4939000    881218  ventura  34.160348 -118.189272  \n",
       "1336007  6111     2610781     37462  ventura  34.131518 -118.188785  \n",
       "538503   6111     2943741    512266  ventura  34.460740 -119.192594  \n",
       "872277   6111     4508319   1798514  ventura  34.439763 -119.192397  \n",
       "108488   6111     3061491    101930  ventura  34.130145 -118.188818  \n",
       "...       ...         ...       ...      ...        ...         ...  \n",
       "1087319  6111     3624371      6211  ventura  34.340704 -119.194140  \n",
       "1701064  6111     3268003    219542  ventura  34.458268 -119.191915  \n",
       "959175   6111     3842000     65217  ventura  34.127593 -118.188830  \n",
       "2141976  6111      343173    394654  ventura  34.319980 -118.189903  \n",
       "1519198  6111     3369436     46035  ventura  34.135543 -118.188794  \n",
       "\n",
       "[91 rows x 13 columns]"
      ]
     },
     "execution_count": 66,
     "metadata": {},
     "output_type": "execute_result"
    }
   ],
   "source": [
    "sample"
   ]
  },
  {
   "cell_type": "code",
   "execution_count": 79,
   "id": "560cc987",
   "metadata": {},
   "outputs": [],
   "source": [
    "def geo_rev(sample):\n",
    "    g = geocoder.osm([sample.latitude, sample.longitude], method='reverse').json\n",
    "    if g:\n",
    "        return g.get('postal')\n",
    "    else:\n",
    "        return 'no postal'\n",
    "\n",
    "zips = sample[['latitude', 'longitude']].apply(geo_rev, axis=1)"
   ]
  },
  {
   "cell_type": "code",
   "execution_count": 142,
   "id": "1de9baba",
   "metadata": {},
   "outputs": [],
   "source": [
    "import plotly.express as px"
   ]
  },
  {
   "cell_type": "code",
   "execution_count": 149,
   "id": "6180c739",
   "metadata": {},
   "outputs": [],
   "source": [
    "from sklearn.cluster import DBSCAN\n",
    "from geopy.distance import great_circle\n",
    "from shapely.geometry import MultiPoint"
   ]
  },
  {
   "cell_type": "markdown",
   "id": "9239a30d",
   "metadata": {},
   "source": [
    "clustering = DBSCAN(eps=15, min_samples=5).fit(coords)"
   ]
  },
  {
   "cell_type": "code",
   "execution_count": 190,
   "id": "5aff41ea",
   "metadata": {},
   "outputs": [
    {
     "data": {
      "text/plain": [
       "DBSCAN(eps=15)"
      ]
     },
     "execution_count": 190,
     "metadata": {},
     "output_type": "execute_result"
    }
   ],
   "source": [
    "clustering"
   ]
  },
  {
   "cell_type": "code",
   "execution_count": 191,
   "id": "f41a3942",
   "metadata": {},
   "outputs": [],
   "source": [
    "labels = clustering.labels_"
   ]
  },
  {
   "cell_type": "code",
   "execution_count": 192,
   "id": "17c3b3ef",
   "metadata": {},
   "outputs": [
    {
     "data": {
      "text/plain": [
       "2"
      ]
     },
     "execution_count": 192,
     "metadata": {},
     "output_type": "execute_result"
    }
   ],
   "source": [
    "n_clusters = len(set(labels)) - (1 if -1 in labels else 0)\n",
    "n_noise = list(labels).count(-1)\n",
    "n_noise"
   ]
  },
  {
   "cell_type": "code",
   "execution_count": 145,
   "id": "045f4629",
   "metadata": {},
   "outputs": [
    {
     "data": {
      "application/vnd.plotly.v1+json": {
       "config": {
        "plotlyServerURL": "https://plot.ly"
       },
       "data": [
        {
         "geo": "geo",
         "hovertemplate": "latitude=%{lat}<br>longitude=%{lon}<extra></extra>",
         "lat": [
          34.160348,
          34.131518,
          34.46074,
          34.439763,
          34.130145,
          34.130287,
          34.17747,
          34.141887,
          34.051569,
          34.129601,
          34.173764,
          34.313431,
          34.259961,
          34.130424,
          34.130015,
          34.136697,
          34.172907,
          34.141666,
          34.137415,
          34.31196,
          34.131124,
          34.136087,
          34.192248,
          34.197213,
          34.130694,
          34.188214,
          34.146794,
          34.185057,
          34.158479,
          34.126136,
          34.12998,
          34.129269,
          34.190022,
          34.133968,
          34.136396,
          34.126021,
          34.184507,
          34.137106,
          34.185177,
          34.181284,
          34.18061,
          34.138248,
          34.188649,
          34.179305,
          34.126429,
          34.176321,
          34.16486,
          34.315508,
          34.185459,
          34.230572,
          34.178285,
          34.183131,
          34.380863,
          34.127663,
          34.136254,
          34.130766,
          34.129145,
          34.052493,
          34.139061,
          34.141242,
          34.136296,
          34.18273,
          34.133578,
          34.199713,
          34.200502,
          34.126736,
          34.127627,
          34.185761,
          34.128869,
          34.189564,
          34.310964,
          34.049809,
          34.193477,
          34.157582,
          34.049871,
          34.191142,
          34.127572,
          34.310002,
          34.312755,
          34.129539,
          34.312353,
          34.135216,
          34.127663,
          34.180209,
          34.12768,
          34.189106,
          34.340704,
          34.458268,
          34.127593,
          34.31998,
          34.135543
         ],
         "legendgroup": "",
         "lon": [
          -118.18927235,
          -118.18878531,
          -119.19259423,
          -119.1923969,
          -118.1888178,
          -118.18886522,
          -118.1880911,
          -118.18864022,
          -118.18956133,
          -118.18878555,
          -118.18805975,
          -119.1936046,
          -119.19271412,
          -118.18877652,
          -118.18876829,
          -118.18877224,
          -118.1892861,
          -118.18863477,
          -118.18879226,
          -119.19359093,
          -118.18890304,
          -118.18878001,
          -119.19244035,
          -118.18824209,
          -118.18882258,
          -118.18793821,
          -118.1883242,
          -119.19240292,
          -118.18923746,
          -118.18880549,
          -118.18875067,
          -118.18882023,
          -119.19242805,
          -118.18889956,
          -118.18879187,
          -118.18879235,
          -118.18809733,
          -118.18879818,
          -119.19240586,
          -118.18813984,
          -118.18808544,
          -118.18877478,
          -119.19242176,
          -118.18801437,
          -118.18884366,
          -118.18806347,
          -119.19228332,
          -119.19362718,
          -118.18812556,
          -119.19078939,
          -118.18802148,
          -118.18804539,
          -119.19444014,
          -118.18891239,
          -118.18879963,
          -118.18877917,
          -118.18875059,
          -118.18958603,
          -118.18878329,
          -118.18872959,
          -118.18877513,
          -118.18806008,
          -118.18888684,
          -118.18810128,
          -118.18825942,
          -118.1888119,
          -118.18888992,
          -118.18813122,
          -118.18881351,
          -119.19242676,
          -119.19357992,
          -118.18955488,
          -118.18799019,
          -118.18926941,
          -118.18955245,
          -119.19243686,
          -118.18879804,
          -119.19356688,
          -119.19359835,
          -118.18876977,
          -119.1935951,
          -118.18881509,
          -118.1889245,
          -118.18802948,
          -118.18891728,
          -119.19242444,
          -119.19414007,
          -119.19191502,
          -118.18882988,
          -118.18990255,
          -118.18879391
         ],
         "marker": {
          "color": "#636efa",
          "symbol": "circle"
         },
         "mode": "markers",
         "name": "",
         "showlegend": false,
         "type": "scattergeo"
        }
       ],
       "layout": {
        "geo": {
         "center": {},
         "domain": {
          "x": [
           0,
           1
          ],
          "y": [
           0,
           1
          ]
         }
        },
        "legend": {
         "tracegroupgap": 0
        },
        "margin": {
         "t": 60
        },
        "template": {
         "data": {
          "bar": [
           {
            "error_x": {
             "color": "#2a3f5f"
            },
            "error_y": {
             "color": "#2a3f5f"
            },
            "marker": {
             "line": {
              "color": "#E5ECF6",
              "width": 0.5
             },
             "pattern": {
              "fillmode": "overlay",
              "size": 10,
              "solidity": 0.2
             }
            },
            "type": "bar"
           }
          ],
          "barpolar": [
           {
            "marker": {
             "line": {
              "color": "#E5ECF6",
              "width": 0.5
             },
             "pattern": {
              "fillmode": "overlay",
              "size": 10,
              "solidity": 0.2
             }
            },
            "type": "barpolar"
           }
          ],
          "carpet": [
           {
            "aaxis": {
             "endlinecolor": "#2a3f5f",
             "gridcolor": "white",
             "linecolor": "white",
             "minorgridcolor": "white",
             "startlinecolor": "#2a3f5f"
            },
            "baxis": {
             "endlinecolor": "#2a3f5f",
             "gridcolor": "white",
             "linecolor": "white",
             "minorgridcolor": "white",
             "startlinecolor": "#2a3f5f"
            },
            "type": "carpet"
           }
          ],
          "choropleth": [
           {
            "colorbar": {
             "outlinewidth": 0,
             "ticks": ""
            },
            "type": "choropleth"
           }
          ],
          "contour": [
           {
            "colorbar": {
             "outlinewidth": 0,
             "ticks": ""
            },
            "colorscale": [
             [
              0,
              "#0d0887"
             ],
             [
              0.1111111111111111,
              "#46039f"
             ],
             [
              0.2222222222222222,
              "#7201a8"
             ],
             [
              0.3333333333333333,
              "#9c179e"
             ],
             [
              0.4444444444444444,
              "#bd3786"
             ],
             [
              0.5555555555555556,
              "#d8576b"
             ],
             [
              0.6666666666666666,
              "#ed7953"
             ],
             [
              0.7777777777777778,
              "#fb9f3a"
             ],
             [
              0.8888888888888888,
              "#fdca26"
             ],
             [
              1,
              "#f0f921"
             ]
            ],
            "type": "contour"
           }
          ],
          "contourcarpet": [
           {
            "colorbar": {
             "outlinewidth": 0,
             "ticks": ""
            },
            "type": "contourcarpet"
           }
          ],
          "heatmap": [
           {
            "colorbar": {
             "outlinewidth": 0,
             "ticks": ""
            },
            "colorscale": [
             [
              0,
              "#0d0887"
             ],
             [
              0.1111111111111111,
              "#46039f"
             ],
             [
              0.2222222222222222,
              "#7201a8"
             ],
             [
              0.3333333333333333,
              "#9c179e"
             ],
             [
              0.4444444444444444,
              "#bd3786"
             ],
             [
              0.5555555555555556,
              "#d8576b"
             ],
             [
              0.6666666666666666,
              "#ed7953"
             ],
             [
              0.7777777777777778,
              "#fb9f3a"
             ],
             [
              0.8888888888888888,
              "#fdca26"
             ],
             [
              1,
              "#f0f921"
             ]
            ],
            "type": "heatmap"
           }
          ],
          "heatmapgl": [
           {
            "colorbar": {
             "outlinewidth": 0,
             "ticks": ""
            },
            "colorscale": [
             [
              0,
              "#0d0887"
             ],
             [
              0.1111111111111111,
              "#46039f"
             ],
             [
              0.2222222222222222,
              "#7201a8"
             ],
             [
              0.3333333333333333,
              "#9c179e"
             ],
             [
              0.4444444444444444,
              "#bd3786"
             ],
             [
              0.5555555555555556,
              "#d8576b"
             ],
             [
              0.6666666666666666,
              "#ed7953"
             ],
             [
              0.7777777777777778,
              "#fb9f3a"
             ],
             [
              0.8888888888888888,
              "#fdca26"
             ],
             [
              1,
              "#f0f921"
             ]
            ],
            "type": "heatmapgl"
           }
          ],
          "histogram": [
           {
            "marker": {
             "pattern": {
              "fillmode": "overlay",
              "size": 10,
              "solidity": 0.2
             }
            },
            "type": "histogram"
           }
          ],
          "histogram2d": [
           {
            "colorbar": {
             "outlinewidth": 0,
             "ticks": ""
            },
            "colorscale": [
             [
              0,
              "#0d0887"
             ],
             [
              0.1111111111111111,
              "#46039f"
             ],
             [
              0.2222222222222222,
              "#7201a8"
             ],
             [
              0.3333333333333333,
              "#9c179e"
             ],
             [
              0.4444444444444444,
              "#bd3786"
             ],
             [
              0.5555555555555556,
              "#d8576b"
             ],
             [
              0.6666666666666666,
              "#ed7953"
             ],
             [
              0.7777777777777778,
              "#fb9f3a"
             ],
             [
              0.8888888888888888,
              "#fdca26"
             ],
             [
              1,
              "#f0f921"
             ]
            ],
            "type": "histogram2d"
           }
          ],
          "histogram2dcontour": [
           {
            "colorbar": {
             "outlinewidth": 0,
             "ticks": ""
            },
            "colorscale": [
             [
              0,
              "#0d0887"
             ],
             [
              0.1111111111111111,
              "#46039f"
             ],
             [
              0.2222222222222222,
              "#7201a8"
             ],
             [
              0.3333333333333333,
              "#9c179e"
             ],
             [
              0.4444444444444444,
              "#bd3786"
             ],
             [
              0.5555555555555556,
              "#d8576b"
             ],
             [
              0.6666666666666666,
              "#ed7953"
             ],
             [
              0.7777777777777778,
              "#fb9f3a"
             ],
             [
              0.8888888888888888,
              "#fdca26"
             ],
             [
              1,
              "#f0f921"
             ]
            ],
            "type": "histogram2dcontour"
           }
          ],
          "mesh3d": [
           {
            "colorbar": {
             "outlinewidth": 0,
             "ticks": ""
            },
            "type": "mesh3d"
           }
          ],
          "parcoords": [
           {
            "line": {
             "colorbar": {
              "outlinewidth": 0,
              "ticks": ""
             }
            },
            "type": "parcoords"
           }
          ],
          "pie": [
           {
            "automargin": true,
            "type": "pie"
           }
          ],
          "scatter": [
           {
            "fillpattern": {
             "fillmode": "overlay",
             "size": 10,
             "solidity": 0.2
            },
            "type": "scatter"
           }
          ],
          "scatter3d": [
           {
            "line": {
             "colorbar": {
              "outlinewidth": 0,
              "ticks": ""
             }
            },
            "marker": {
             "colorbar": {
              "outlinewidth": 0,
              "ticks": ""
             }
            },
            "type": "scatter3d"
           }
          ],
          "scattercarpet": [
           {
            "marker": {
             "colorbar": {
              "outlinewidth": 0,
              "ticks": ""
             }
            },
            "type": "scattercarpet"
           }
          ],
          "scattergeo": [
           {
            "marker": {
             "colorbar": {
              "outlinewidth": 0,
              "ticks": ""
             }
            },
            "type": "scattergeo"
           }
          ],
          "scattergl": [
           {
            "marker": {
             "colorbar": {
              "outlinewidth": 0,
              "ticks": ""
             }
            },
            "type": "scattergl"
           }
          ],
          "scattermapbox": [
           {
            "marker": {
             "colorbar": {
              "outlinewidth": 0,
              "ticks": ""
             }
            },
            "type": "scattermapbox"
           }
          ],
          "scatterpolar": [
           {
            "marker": {
             "colorbar": {
              "outlinewidth": 0,
              "ticks": ""
             }
            },
            "type": "scatterpolar"
           }
          ],
          "scatterpolargl": [
           {
            "marker": {
             "colorbar": {
              "outlinewidth": 0,
              "ticks": ""
             }
            },
            "type": "scatterpolargl"
           }
          ],
          "scatterternary": [
           {
            "marker": {
             "colorbar": {
              "outlinewidth": 0,
              "ticks": ""
             }
            },
            "type": "scatterternary"
           }
          ],
          "surface": [
           {
            "colorbar": {
             "outlinewidth": 0,
             "ticks": ""
            },
            "colorscale": [
             [
              0,
              "#0d0887"
             ],
             [
              0.1111111111111111,
              "#46039f"
             ],
             [
              0.2222222222222222,
              "#7201a8"
             ],
             [
              0.3333333333333333,
              "#9c179e"
             ],
             [
              0.4444444444444444,
              "#bd3786"
             ],
             [
              0.5555555555555556,
              "#d8576b"
             ],
             [
              0.6666666666666666,
              "#ed7953"
             ],
             [
              0.7777777777777778,
              "#fb9f3a"
             ],
             [
              0.8888888888888888,
              "#fdca26"
             ],
             [
              1,
              "#f0f921"
             ]
            ],
            "type": "surface"
           }
          ],
          "table": [
           {
            "cells": {
             "fill": {
              "color": "#EBF0F8"
             },
             "line": {
              "color": "white"
             }
            },
            "header": {
             "fill": {
              "color": "#C8D4E3"
             },
             "line": {
              "color": "white"
             }
            },
            "type": "table"
           }
          ]
         },
         "layout": {
          "annotationdefaults": {
           "arrowcolor": "#2a3f5f",
           "arrowhead": 0,
           "arrowwidth": 1
          },
          "autotypenumbers": "strict",
          "coloraxis": {
           "colorbar": {
            "outlinewidth": 0,
            "ticks": ""
           }
          },
          "colorscale": {
           "diverging": [
            [
             0,
             "#8e0152"
            ],
            [
             0.1,
             "#c51b7d"
            ],
            [
             0.2,
             "#de77ae"
            ],
            [
             0.3,
             "#f1b6da"
            ],
            [
             0.4,
             "#fde0ef"
            ],
            [
             0.5,
             "#f7f7f7"
            ],
            [
             0.6,
             "#e6f5d0"
            ],
            [
             0.7,
             "#b8e186"
            ],
            [
             0.8,
             "#7fbc41"
            ],
            [
             0.9,
             "#4d9221"
            ],
            [
             1,
             "#276419"
            ]
           ],
           "sequential": [
            [
             0,
             "#0d0887"
            ],
            [
             0.1111111111111111,
             "#46039f"
            ],
            [
             0.2222222222222222,
             "#7201a8"
            ],
            [
             0.3333333333333333,
             "#9c179e"
            ],
            [
             0.4444444444444444,
             "#bd3786"
            ],
            [
             0.5555555555555556,
             "#d8576b"
            ],
            [
             0.6666666666666666,
             "#ed7953"
            ],
            [
             0.7777777777777778,
             "#fb9f3a"
            ],
            [
             0.8888888888888888,
             "#fdca26"
            ],
            [
             1,
             "#f0f921"
            ]
           ],
           "sequentialminus": [
            [
             0,
             "#0d0887"
            ],
            [
             0.1111111111111111,
             "#46039f"
            ],
            [
             0.2222222222222222,
             "#7201a8"
            ],
            [
             0.3333333333333333,
             "#9c179e"
            ],
            [
             0.4444444444444444,
             "#bd3786"
            ],
            [
             0.5555555555555556,
             "#d8576b"
            ],
            [
             0.6666666666666666,
             "#ed7953"
            ],
            [
             0.7777777777777778,
             "#fb9f3a"
            ],
            [
             0.8888888888888888,
             "#fdca26"
            ],
            [
             1,
             "#f0f921"
            ]
           ]
          },
          "colorway": [
           "#636efa",
           "#EF553B",
           "#00cc96",
           "#ab63fa",
           "#FFA15A",
           "#19d3f3",
           "#FF6692",
           "#B6E880",
           "#FF97FF",
           "#FECB52"
          ],
          "font": {
           "color": "#2a3f5f"
          },
          "geo": {
           "bgcolor": "white",
           "lakecolor": "white",
           "landcolor": "#E5ECF6",
           "showlakes": true,
           "showland": true,
           "subunitcolor": "white"
          },
          "hoverlabel": {
           "align": "left"
          },
          "hovermode": "closest",
          "mapbox": {
           "style": "light"
          },
          "paper_bgcolor": "white",
          "plot_bgcolor": "#E5ECF6",
          "polar": {
           "angularaxis": {
            "gridcolor": "white",
            "linecolor": "white",
            "ticks": ""
           },
           "bgcolor": "#E5ECF6",
           "radialaxis": {
            "gridcolor": "white",
            "linecolor": "white",
            "ticks": ""
           }
          },
          "scene": {
           "xaxis": {
            "backgroundcolor": "#E5ECF6",
            "gridcolor": "white",
            "gridwidth": 2,
            "linecolor": "white",
            "showbackground": true,
            "ticks": "",
            "zerolinecolor": "white"
           },
           "yaxis": {
            "backgroundcolor": "#E5ECF6",
            "gridcolor": "white",
            "gridwidth": 2,
            "linecolor": "white",
            "showbackground": true,
            "ticks": "",
            "zerolinecolor": "white"
           },
           "zaxis": {
            "backgroundcolor": "#E5ECF6",
            "gridcolor": "white",
            "gridwidth": 2,
            "linecolor": "white",
            "showbackground": true,
            "ticks": "",
            "zerolinecolor": "white"
           }
          },
          "shapedefaults": {
           "line": {
            "color": "#2a3f5f"
           }
          },
          "ternary": {
           "aaxis": {
            "gridcolor": "white",
            "linecolor": "white",
            "ticks": ""
           },
           "baxis": {
            "gridcolor": "white",
            "linecolor": "white",
            "ticks": ""
           },
           "bgcolor": "#E5ECF6",
           "caxis": {
            "gridcolor": "white",
            "linecolor": "white",
            "ticks": ""
           }
          },
          "title": {
           "x": 0.05
          },
          "xaxis": {
           "automargin": true,
           "gridcolor": "white",
           "linecolor": "white",
           "ticks": "",
           "title": {
            "standoff": 15
           },
           "zerolinecolor": "white",
           "zerolinewidth": 2
          },
          "yaxis": {
           "automargin": true,
           "gridcolor": "white",
           "linecolor": "white",
           "ticks": "",
           "title": {
            "standoff": 15
           },
           "zerolinecolor": "white",
           "zerolinewidth": 2
          }
         }
        }
       }
      },
      "text/html": [
       "<div>                            <div id=\"be28a79c-cfbf-4b04-88e5-5e84c8700a4a\" class=\"plotly-graph-div\" style=\"height:525px; width:100%;\"></div>            <script type=\"text/javascript\">                require([\"plotly\"], function(Plotly) {                    window.PLOTLYENV=window.PLOTLYENV || {};                                    if (document.getElementById(\"be28a79c-cfbf-4b04-88e5-5e84c8700a4a\")) {                    Plotly.newPlot(                        \"be28a79c-cfbf-4b04-88e5-5e84c8700a4a\",                        [{\"geo\":\"geo\",\"hovertemplate\":\"latitude=%{lat}<br>longitude=%{lon}<extra></extra>\",\"lat\":[34.160348,34.131518,34.46074,34.439763,34.130145,34.130287,34.17747,34.141887,34.051569,34.129601,34.173764,34.313431,34.259961,34.130424,34.130015,34.136697,34.172907,34.141666,34.137415,34.31196,34.131124,34.136087,34.192248,34.197213,34.130694,34.188214,34.146794,34.185057,34.158479,34.126136,34.12998,34.129269,34.190022,34.133968,34.136396,34.126021,34.184507,34.137106,34.185177,34.181284,34.18061,34.138248,34.188649,34.179305,34.126429,34.176321,34.16486,34.315508,34.185459,34.230572,34.178285,34.183131,34.380863,34.127663,34.136254,34.130766,34.129145,34.052493,34.139061,34.141242,34.136296,34.18273,34.133578,34.199713,34.200502,34.126736,34.127627,34.185761,34.128869,34.189564,34.310964,34.049809,34.193477,34.157582,34.049871,34.191142,34.127572,34.310002,34.312755,34.129539,34.312353,34.135216,34.127663,34.180209,34.12768,34.189106,34.340704,34.458268,34.127593,34.31998,34.135543],\"legendgroup\":\"\",\"lon\":[-118.18927235,-118.18878531,-119.19259423,-119.1923969,-118.1888178,-118.18886522,-118.1880911,-118.18864022,-118.18956133,-118.18878555,-118.18805975,-119.1936046,-119.19271412,-118.18877652,-118.18876829,-118.18877224,-118.1892861,-118.18863477,-118.18879226,-119.19359093,-118.18890304,-118.18878001,-119.19244035,-118.18824209,-118.18882258,-118.18793821,-118.1883242,-119.19240292,-118.18923746,-118.18880549,-118.18875067,-118.18882023,-119.19242805,-118.18889956,-118.18879187,-118.18879235,-118.18809733,-118.18879818,-119.19240586,-118.18813984,-118.18808544,-118.18877478,-119.19242176,-118.18801437,-118.18884366,-118.18806347,-119.19228332,-119.19362718,-118.18812556,-119.19078939,-118.18802148,-118.18804539,-119.19444014,-118.18891239,-118.18879963,-118.18877917,-118.18875059,-118.18958603,-118.18878329,-118.18872959,-118.18877513,-118.18806008,-118.18888684,-118.18810128,-118.18825942,-118.1888119,-118.18888992,-118.18813122,-118.18881351,-119.19242676,-119.19357992,-118.18955488,-118.18799019,-118.18926941,-118.18955245,-119.19243686,-118.18879804,-119.19356688,-119.19359835,-118.18876977,-119.1935951,-118.18881509,-118.1889245,-118.18802948,-118.18891728,-119.19242444,-119.19414007,-119.19191502,-118.18882988,-118.18990255,-118.18879391],\"marker\":{\"color\":\"#636efa\",\"symbol\":\"circle\"},\"mode\":\"markers\",\"name\":\"\",\"showlegend\":false,\"type\":\"scattergeo\"}],                        {\"template\":{\"data\":{\"histogram2dcontour\":[{\"type\":\"histogram2dcontour\",\"colorbar\":{\"outlinewidth\":0,\"ticks\":\"\"},\"colorscale\":[[0.0,\"#0d0887\"],[0.1111111111111111,\"#46039f\"],[0.2222222222222222,\"#7201a8\"],[0.3333333333333333,\"#9c179e\"],[0.4444444444444444,\"#bd3786\"],[0.5555555555555556,\"#d8576b\"],[0.6666666666666666,\"#ed7953\"],[0.7777777777777778,\"#fb9f3a\"],[0.8888888888888888,\"#fdca26\"],[1.0,\"#f0f921\"]]}],\"choropleth\":[{\"type\":\"choropleth\",\"colorbar\":{\"outlinewidth\":0,\"ticks\":\"\"}}],\"histogram2d\":[{\"type\":\"histogram2d\",\"colorbar\":{\"outlinewidth\":0,\"ticks\":\"\"},\"colorscale\":[[0.0,\"#0d0887\"],[0.1111111111111111,\"#46039f\"],[0.2222222222222222,\"#7201a8\"],[0.3333333333333333,\"#9c179e\"],[0.4444444444444444,\"#bd3786\"],[0.5555555555555556,\"#d8576b\"],[0.6666666666666666,\"#ed7953\"],[0.7777777777777778,\"#fb9f3a\"],[0.8888888888888888,\"#fdca26\"],[1.0,\"#f0f921\"]]}],\"heatmap\":[{\"type\":\"heatmap\",\"colorbar\":{\"outlinewidth\":0,\"ticks\":\"\"},\"colorscale\":[[0.0,\"#0d0887\"],[0.1111111111111111,\"#46039f\"],[0.2222222222222222,\"#7201a8\"],[0.3333333333333333,\"#9c179e\"],[0.4444444444444444,\"#bd3786\"],[0.5555555555555556,\"#d8576b\"],[0.6666666666666666,\"#ed7953\"],[0.7777777777777778,\"#fb9f3a\"],[0.8888888888888888,\"#fdca26\"],[1.0,\"#f0f921\"]]}],\"heatmapgl\":[{\"type\":\"heatmapgl\",\"colorbar\":{\"outlinewidth\":0,\"ticks\":\"\"},\"colorscale\":[[0.0,\"#0d0887\"],[0.1111111111111111,\"#46039f\"],[0.2222222222222222,\"#7201a8\"],[0.3333333333333333,\"#9c179e\"],[0.4444444444444444,\"#bd3786\"],[0.5555555555555556,\"#d8576b\"],[0.6666666666666666,\"#ed7953\"],[0.7777777777777778,\"#fb9f3a\"],[0.8888888888888888,\"#fdca26\"],[1.0,\"#f0f921\"]]}],\"contourcarpet\":[{\"type\":\"contourcarpet\",\"colorbar\":{\"outlinewidth\":0,\"ticks\":\"\"}}],\"contour\":[{\"type\":\"contour\",\"colorbar\":{\"outlinewidth\":0,\"ticks\":\"\"},\"colorscale\":[[0.0,\"#0d0887\"],[0.1111111111111111,\"#46039f\"],[0.2222222222222222,\"#7201a8\"],[0.3333333333333333,\"#9c179e\"],[0.4444444444444444,\"#bd3786\"],[0.5555555555555556,\"#d8576b\"],[0.6666666666666666,\"#ed7953\"],[0.7777777777777778,\"#fb9f3a\"],[0.8888888888888888,\"#fdca26\"],[1.0,\"#f0f921\"]]}],\"surface\":[{\"type\":\"surface\",\"colorbar\":{\"outlinewidth\":0,\"ticks\":\"\"},\"colorscale\":[[0.0,\"#0d0887\"],[0.1111111111111111,\"#46039f\"],[0.2222222222222222,\"#7201a8\"],[0.3333333333333333,\"#9c179e\"],[0.4444444444444444,\"#bd3786\"],[0.5555555555555556,\"#d8576b\"],[0.6666666666666666,\"#ed7953\"],[0.7777777777777778,\"#fb9f3a\"],[0.8888888888888888,\"#fdca26\"],[1.0,\"#f0f921\"]]}],\"mesh3d\":[{\"type\":\"mesh3d\",\"colorbar\":{\"outlinewidth\":0,\"ticks\":\"\"}}],\"scatter\":[{\"fillpattern\":{\"fillmode\":\"overlay\",\"size\":10,\"solidity\":0.2},\"type\":\"scatter\"}],\"parcoords\":[{\"type\":\"parcoords\",\"line\":{\"colorbar\":{\"outlinewidth\":0,\"ticks\":\"\"}}}],\"scatterpolargl\":[{\"type\":\"scatterpolargl\",\"marker\":{\"colorbar\":{\"outlinewidth\":0,\"ticks\":\"\"}}}],\"bar\":[{\"error_x\":{\"color\":\"#2a3f5f\"},\"error_y\":{\"color\":\"#2a3f5f\"},\"marker\":{\"line\":{\"color\":\"#E5ECF6\",\"width\":0.5},\"pattern\":{\"fillmode\":\"overlay\",\"size\":10,\"solidity\":0.2}},\"type\":\"bar\"}],\"scattergeo\":[{\"type\":\"scattergeo\",\"marker\":{\"colorbar\":{\"outlinewidth\":0,\"ticks\":\"\"}}}],\"scatterpolar\":[{\"type\":\"scatterpolar\",\"marker\":{\"colorbar\":{\"outlinewidth\":0,\"ticks\":\"\"}}}],\"histogram\":[{\"marker\":{\"pattern\":{\"fillmode\":\"overlay\",\"size\":10,\"solidity\":0.2}},\"type\":\"histogram\"}],\"scattergl\":[{\"type\":\"scattergl\",\"marker\":{\"colorbar\":{\"outlinewidth\":0,\"ticks\":\"\"}}}],\"scatter3d\":[{\"type\":\"scatter3d\",\"line\":{\"colorbar\":{\"outlinewidth\":0,\"ticks\":\"\"}},\"marker\":{\"colorbar\":{\"outlinewidth\":0,\"ticks\":\"\"}}}],\"scattermapbox\":[{\"type\":\"scattermapbox\",\"marker\":{\"colorbar\":{\"outlinewidth\":0,\"ticks\":\"\"}}}],\"scatterternary\":[{\"type\":\"scatterternary\",\"marker\":{\"colorbar\":{\"outlinewidth\":0,\"ticks\":\"\"}}}],\"scattercarpet\":[{\"type\":\"scattercarpet\",\"marker\":{\"colorbar\":{\"outlinewidth\":0,\"ticks\":\"\"}}}],\"carpet\":[{\"aaxis\":{\"endlinecolor\":\"#2a3f5f\",\"gridcolor\":\"white\",\"linecolor\":\"white\",\"minorgridcolor\":\"white\",\"startlinecolor\":\"#2a3f5f\"},\"baxis\":{\"endlinecolor\":\"#2a3f5f\",\"gridcolor\":\"white\",\"linecolor\":\"white\",\"minorgridcolor\":\"white\",\"startlinecolor\":\"#2a3f5f\"},\"type\":\"carpet\"}],\"table\":[{\"cells\":{\"fill\":{\"color\":\"#EBF0F8\"},\"line\":{\"color\":\"white\"}},\"header\":{\"fill\":{\"color\":\"#C8D4E3\"},\"line\":{\"color\":\"white\"}},\"type\":\"table\"}],\"barpolar\":[{\"marker\":{\"line\":{\"color\":\"#E5ECF6\",\"width\":0.5},\"pattern\":{\"fillmode\":\"overlay\",\"size\":10,\"solidity\":0.2}},\"type\":\"barpolar\"}],\"pie\":[{\"automargin\":true,\"type\":\"pie\"}]},\"layout\":{\"autotypenumbers\":\"strict\",\"colorway\":[\"#636efa\",\"#EF553B\",\"#00cc96\",\"#ab63fa\",\"#FFA15A\",\"#19d3f3\",\"#FF6692\",\"#B6E880\",\"#FF97FF\",\"#FECB52\"],\"font\":{\"color\":\"#2a3f5f\"},\"hovermode\":\"closest\",\"hoverlabel\":{\"align\":\"left\"},\"paper_bgcolor\":\"white\",\"plot_bgcolor\":\"#E5ECF6\",\"polar\":{\"bgcolor\":\"#E5ECF6\",\"angularaxis\":{\"gridcolor\":\"white\",\"linecolor\":\"white\",\"ticks\":\"\"},\"radialaxis\":{\"gridcolor\":\"white\",\"linecolor\":\"white\",\"ticks\":\"\"}},\"ternary\":{\"bgcolor\":\"#E5ECF6\",\"aaxis\":{\"gridcolor\":\"white\",\"linecolor\":\"white\",\"ticks\":\"\"},\"baxis\":{\"gridcolor\":\"white\",\"linecolor\":\"white\",\"ticks\":\"\"},\"caxis\":{\"gridcolor\":\"white\",\"linecolor\":\"white\",\"ticks\":\"\"}},\"coloraxis\":{\"colorbar\":{\"outlinewidth\":0,\"ticks\":\"\"}},\"colorscale\":{\"sequential\":[[0.0,\"#0d0887\"],[0.1111111111111111,\"#46039f\"],[0.2222222222222222,\"#7201a8\"],[0.3333333333333333,\"#9c179e\"],[0.4444444444444444,\"#bd3786\"],[0.5555555555555556,\"#d8576b\"],[0.6666666666666666,\"#ed7953\"],[0.7777777777777778,\"#fb9f3a\"],[0.8888888888888888,\"#fdca26\"],[1.0,\"#f0f921\"]],\"sequentialminus\":[[0.0,\"#0d0887\"],[0.1111111111111111,\"#46039f\"],[0.2222222222222222,\"#7201a8\"],[0.3333333333333333,\"#9c179e\"],[0.4444444444444444,\"#bd3786\"],[0.5555555555555556,\"#d8576b\"],[0.6666666666666666,\"#ed7953\"],[0.7777777777777778,\"#fb9f3a\"],[0.8888888888888888,\"#fdca26\"],[1.0,\"#f0f921\"]],\"diverging\":[[0,\"#8e0152\"],[0.1,\"#c51b7d\"],[0.2,\"#de77ae\"],[0.3,\"#f1b6da\"],[0.4,\"#fde0ef\"],[0.5,\"#f7f7f7\"],[0.6,\"#e6f5d0\"],[0.7,\"#b8e186\"],[0.8,\"#7fbc41\"],[0.9,\"#4d9221\"],[1,\"#276419\"]]},\"xaxis\":{\"gridcolor\":\"white\",\"linecolor\":\"white\",\"ticks\":\"\",\"title\":{\"standoff\":15},\"zerolinecolor\":\"white\",\"automargin\":true,\"zerolinewidth\":2},\"yaxis\":{\"gridcolor\":\"white\",\"linecolor\":\"white\",\"ticks\":\"\",\"title\":{\"standoff\":15},\"zerolinecolor\":\"white\",\"automargin\":true,\"zerolinewidth\":2},\"scene\":{\"xaxis\":{\"backgroundcolor\":\"#E5ECF6\",\"gridcolor\":\"white\",\"linecolor\":\"white\",\"showbackground\":true,\"ticks\":\"\",\"zerolinecolor\":\"white\",\"gridwidth\":2},\"yaxis\":{\"backgroundcolor\":\"#E5ECF6\",\"gridcolor\":\"white\",\"linecolor\":\"white\",\"showbackground\":true,\"ticks\":\"\",\"zerolinecolor\":\"white\",\"gridwidth\":2},\"zaxis\":{\"backgroundcolor\":\"#E5ECF6\",\"gridcolor\":\"white\",\"linecolor\":\"white\",\"showbackground\":true,\"ticks\":\"\",\"zerolinecolor\":\"white\",\"gridwidth\":2}},\"shapedefaults\":{\"line\":{\"color\":\"#2a3f5f\"}},\"annotationdefaults\":{\"arrowcolor\":\"#2a3f5f\",\"arrowhead\":0,\"arrowwidth\":1},\"geo\":{\"bgcolor\":\"white\",\"landcolor\":\"#E5ECF6\",\"subunitcolor\":\"white\",\"showland\":true,\"showlakes\":true,\"lakecolor\":\"white\"},\"title\":{\"x\":0.05},\"mapbox\":{\"style\":\"light\"}}},\"geo\":{\"domain\":{\"x\":[0.0,1.0],\"y\":[0.0,1.0]},\"center\":{}},\"legend\":{\"tracegroupgap\":0},\"margin\":{\"t\":60}},                        {\"responsive\": true}                    ).then(function(){\n",
       "                            \n",
       "var gd = document.getElementById('be28a79c-cfbf-4b04-88e5-5e84c8700a4a');\n",
       "var x = new MutationObserver(function (mutations, observer) {{\n",
       "        var display = window.getComputedStyle(gd).display;\n",
       "        if (!display || display === 'none') {{\n",
       "            console.log([gd, 'removed!']);\n",
       "            Plotly.purge(gd);\n",
       "            observer.disconnect();\n",
       "        }}\n",
       "}});\n",
       "\n",
       "// Listen for the removal of the full notebook cells\n",
       "var notebookContainer = gd.closest('#notebook-container');\n",
       "if (notebookContainer) {{\n",
       "    x.observe(notebookContainer, {childList: true});\n",
       "}}\n",
       "\n",
       "// Listen for the clearing of the current output cell\n",
       "var outputEl = gd.closest('.output');\n",
       "if (outputEl) {{\n",
       "    x.observe(outputEl, {childList: true});\n",
       "}}\n",
       "\n",
       "                        })                };                });            </script>        </div>"
      ]
     },
     "metadata": {},
     "output_type": "display_data"
    }
   ],
   "source": [
    "fig = px.scatter_geo(sample,lat='latitude',lon='longitude')\n",
    "fig.show()"
   ]
  },
  {
   "cell_type": "code",
   "execution_count": 193,
   "id": "98ef8b3e",
   "metadata": {},
   "outputs": [],
   "source": [
    "from sklearn.cluster import KMeans\n"
   ]
  },
  {
   "cell_type": "code",
   "execution_count": 194,
   "id": "81b60130",
   "metadata": {},
   "outputs": [],
   "source": [
    "kmeans = KMeans(\n",
    "    init=\"random\",\n",
    "    n_clusters=16,\n",
    "    n_init=10,\n",
    "    max_iter=300,\n",
    "    random_state=42\n",
    ")"
   ]
  },
  {
   "cell_type": "code",
   "execution_count": 198,
   "id": "fc68835f",
   "metadata": {},
   "outputs": [],
   "source": [
    "coords = ventura_train[['latitude', 'longitude']].to_numpy()"
   ]
  },
  {
   "cell_type": "code",
   "execution_count": 200,
   "id": "b8809b3e",
   "metadata": {},
   "outputs": [
    {
     "data": {
      "text/plain": [
       "array([ 8,  8,  1, ..., 14,  7, 12], dtype=int32)"
      ]
     },
     "execution_count": 200,
     "metadata": {},
     "output_type": "execute_result"
    }
   ],
   "source": [
    "kmeans.fit(coords)\n",
    "# save results\n",
    "labels = kmeans.labels_\n",
    "labels"
   ]
  },
  {
   "cell_type": "raw",
   "id": "c1398505",
   "metadata": {},
   "source": []
  },
  {
   "cell_type": "code",
   "execution_count": 100,
   "id": "6817790a",
   "metadata": {},
   "outputs": [],
   "source": [
    "from datetime import datetime, timezone\n",
    "\n",
    "def utc_to_local(utc_dt):\n",
    "    return utc_dt.replace(tzinfo=timezone.utc).astimezone(tz='America/Denver')\n"
   ]
  },
  {
   "cell_type": "code",
   "execution_count": 115,
   "id": "8765e91f",
   "metadata": {},
   "outputs": [
    {
     "name": "stdout",
     "output_type": "stream",
     "text": [
      "Time ahead of UTC by: -1 day, 18:00:00\n"
     ]
    }
   ],
   "source": [
    "naive = datetime.now()\n",
    "\n",
    "timezone = pytz.timezone('America/Denver')\n",
    "aware1 = timezone.localize(naive)\n",
    " \n",
    "# Calling the utcoffset() function\n",
    "# over the above localized time\n",
    "print(\"Time ahead of UTC by:\", aware1.utcoffset())"
   ]
  },
  {
   "cell_type": "code",
   "execution_count": 120,
   "id": "4a588909",
   "metadata": {},
   "outputs": [
    {
     "ename": "TypeError",
     "evalue": "'str' object is not callable",
     "output_type": "error",
     "traceback": [
      "\u001b[0;31m---------------------------------------------------------------------------\u001b[0m",
      "\u001b[0;31mTypeError\u001b[0m                                 Traceback (most recent call last)",
      "\u001b[0;32m/var/folders/s4/hmz6ljm533vgpm_bhv59yw0m0000gn/T/ipykernel_27630/2351573118.py\u001b[0m in \u001b[0;36m<module>\u001b[0;34m\u001b[0m\n\u001b[1;32m      3\u001b[0m \u001b[0;34m\u001b[0m\u001b[0m\n\u001b[1;32m      4\u001b[0m \u001b[0mborn\u001b[0m \u001b[0;34m=\u001b[0m \u001b[0mdatetime\u001b[0m\u001b[0;34m(\u001b[0m\u001b[0;36m1990\u001b[0m\u001b[0;34m,\u001b[0m \u001b[0;36m6\u001b[0m\u001b[0;34m,\u001b[0m \u001b[0;36m22\u001b[0m\u001b[0;34m)\u001b[0m \u001b[0;31m# provide UTC time\u001b[0m\u001b[0;34m\u001b[0m\u001b[0;34m\u001b[0m\u001b[0m\n\u001b[0;32m----> 5\u001b[0;31m \u001b[0mage\u001b[0m \u001b[0;34m=\u001b[0m \u001b[0mtimezone\u001b[0m\u001b[0;34m.\u001b[0m\u001b[0mzone\u001b[0m\u001b[0;34m(\u001b[0m\u001b[0;34m)\u001b[0m \u001b[0;34m-\u001b[0m \u001b[0mborn\u001b[0m\u001b[0;34m\u001b[0m\u001b[0;34m\u001b[0m\u001b[0m\n\u001b[0m\u001b[1;32m      6\u001b[0m \u001b[0mprint\u001b[0m\u001b[0;34m(\u001b[0m\u001b[0;34m'Rob has been alive for: {:,} seconds!!!'\u001b[0m\u001b[0;34m.\u001b[0m\u001b[0mformat\u001b[0m\u001b[0;34m(\u001b[0m\u001b[0mage\u001b[0m\u001b[0;34m.\u001b[0m\u001b[0mtotal_seconds\u001b[0m\u001b[0;34m(\u001b[0m\u001b[0;34m)\u001b[0m\u001b[0;34m)\u001b[0m\u001b[0;34m)\u001b[0m\u001b[0;34m\u001b[0m\u001b[0;34m\u001b[0m\u001b[0m\n",
      "\u001b[0;31mTypeError\u001b[0m: 'str' object is not callable"
     ]
    }
   ],
   "source": [
    "from datetime import datetime\n",
    "import pytz\n",
    "\n",
    "born = datetime(1990, 6, 22) # provide UTC time\n",
    "age = timezone.zone() - born\n",
    "print('Rob has been alive for: {:,} seconds!!!'.format(age.total_seconds()))"
   ]
  },
  {
   "cell_type": "code",
   "execution_count": 75,
   "id": "0af152f6",
   "metadata": {},
   "outputs": [
    {
     "data": {
      "text/html": [
       "<div>\n",
       "<style scoped>\n",
       "    .dataframe tbody tr th:only-of-type {\n",
       "        vertical-align: middle;\n",
       "    }\n",
       "\n",
       "    .dataframe tbody tr th {\n",
       "        vertical-align: top;\n",
       "    }\n",
       "\n",
       "    .dataframe thead th {\n",
       "        text-align: right;\n",
       "    }\n",
       "</style>\n",
       "<table border=\"1\" class=\"dataframe\">\n",
       "  <thead>\n",
       "    <tr style=\"text-align: right;\">\n",
       "      <th></th>\n",
       "      <th>parcelid</th>\n",
       "      <th>bedrooms</th>\n",
       "      <th>bathrooms</th>\n",
       "      <th>home_size</th>\n",
       "      <th>value</th>\n",
       "      <th>year</th>\n",
       "      <th>tax</th>\n",
       "      <th>fips</th>\n",
       "      <th>land_value</th>\n",
       "      <th>lot_size</th>\n",
       "      <th>county</th>\n",
       "      <th>latitude</th>\n",
       "      <th>longitude</th>\n",
       "    </tr>\n",
       "  </thead>\n",
       "  <tbody>\n",
       "    <tr>\n",
       "      <th>1927654</th>\n",
       "      <td>17272810</td>\n",
       "      <td>4.0</td>\n",
       "      <td>5.0</td>\n",
       "      <td>9735</td>\n",
       "      <td>7272000</td>\n",
       "      <td>1999</td>\n",
       "      <td>76767.30</td>\n",
       "      <td>6111</td>\n",
       "      <td>4939000</td>\n",
       "      <td>881218</td>\n",
       "      <td>ventura</td>\n",
       "      <td>34.160348</td>\n",
       "      <td>-118.189272</td>\n",
       "    </tr>\n",
       "    <tr>\n",
       "      <th>1336007</th>\n",
       "      <td>17292879</td>\n",
       "      <td>5.0</td>\n",
       "      <td>5.5</td>\n",
       "      <td>7836</td>\n",
       "      <td>4242518</td>\n",
       "      <td>2002</td>\n",
       "      <td>45145.90</td>\n",
       "      <td>6111</td>\n",
       "      <td>2610781</td>\n",
       "      <td>37462</td>\n",
       "      <td>ventura</td>\n",
       "      <td>34.131518</td>\n",
       "      <td>-118.188785</td>\n",
       "    </tr>\n",
       "    <tr>\n",
       "      <th>538503</th>\n",
       "      <td>17051397</td>\n",
       "      <td>7.0</td>\n",
       "      <td>7.5</td>\n",
       "      <td>7592</td>\n",
       "      <td>4168470</td>\n",
       "      <td>1930</td>\n",
       "      <td>45064.24</td>\n",
       "      <td>6111</td>\n",
       "      <td>2943741</td>\n",
       "      <td>512266</td>\n",
       "      <td>ventura</td>\n",
       "      <td>34.460740</td>\n",
       "      <td>-119.192594</td>\n",
       "    </tr>\n",
       "    <tr>\n",
       "      <th>872277</th>\n",
       "      <td>167646228</td>\n",
       "      <td>7.0</td>\n",
       "      <td>4.0</td>\n",
       "      <td>4906</td>\n",
       "      <td>5351281</td>\n",
       "      <td>1927</td>\n",
       "      <td>57465.48</td>\n",
       "      <td>6111</td>\n",
       "      <td>4508319</td>\n",
       "      <td>1798514</td>\n",
       "      <td>ventura</td>\n",
       "      <td>34.439763</td>\n",
       "      <td>-119.192397</td>\n",
       "    </tr>\n",
       "    <tr>\n",
       "      <th>108488</th>\n",
       "      <td>17292587</td>\n",
       "      <td>5.0</td>\n",
       "      <td>5.5</td>\n",
       "      <td>6540</td>\n",
       "      <td>4062359</td>\n",
       "      <td>2003</td>\n",
       "      <td>43267.26</td>\n",
       "      <td>6111</td>\n",
       "      <td>3061491</td>\n",
       "      <td>101930</td>\n",
       "      <td>ventura</td>\n",
       "      <td>34.130145</td>\n",
       "      <td>-118.188818</td>\n",
       "    </tr>\n",
       "    <tr>\n",
       "      <th>...</th>\n",
       "      <td>...</td>\n",
       "      <td>...</td>\n",
       "      <td>...</td>\n",
       "      <td>...</td>\n",
       "      <td>...</td>\n",
       "      <td>...</td>\n",
       "      <td>...</td>\n",
       "      <td>...</td>\n",
       "      <td>...</td>\n",
       "      <td>...</td>\n",
       "      <td>...</td>\n",
       "      <td>...</td>\n",
       "      <td>...</td>\n",
       "    </tr>\n",
       "    <tr>\n",
       "      <th>1087319</th>\n",
       "      <td>17068906</td>\n",
       "      <td>4.0</td>\n",
       "      <td>4.5</td>\n",
       "      <td>3419</td>\n",
       "      <td>4131782</td>\n",
       "      <td>2010</td>\n",
       "      <td>44707.26</td>\n",
       "      <td>6111</td>\n",
       "      <td>3624371</td>\n",
       "      <td>6211</td>\n",
       "      <td>ventura</td>\n",
       "      <td>34.340704</td>\n",
       "      <td>-119.194140</td>\n",
       "    </tr>\n",
       "    <tr>\n",
       "      <th>1701064</th>\n",
       "      <td>17057650</td>\n",
       "      <td>2.0</td>\n",
       "      <td>2.0</td>\n",
       "      <td>1722</td>\n",
       "      <td>3936457</td>\n",
       "      <td>1950</td>\n",
       "      <td>42194.12</td>\n",
       "      <td>6111</td>\n",
       "      <td>3268003</td>\n",
       "      <td>219542</td>\n",
       "      <td>ventura</td>\n",
       "      <td>34.458268</td>\n",
       "      <td>-119.191915</td>\n",
       "    </tr>\n",
       "    <tr>\n",
       "      <th>959175</th>\n",
       "      <td>17292592</td>\n",
       "      <td>5.0</td>\n",
       "      <td>6.5</td>\n",
       "      <td>8040</td>\n",
       "      <td>5077000</td>\n",
       "      <td>2000</td>\n",
       "      <td>53920.42</td>\n",
       "      <td>6111</td>\n",
       "      <td>3842000</td>\n",
       "      <td>65217</td>\n",
       "      <td>ventura</td>\n",
       "      <td>34.127593</td>\n",
       "      <td>-118.188830</td>\n",
       "    </tr>\n",
       "    <tr>\n",
       "      <th>2141976</th>\n",
       "      <td>17103922</td>\n",
       "      <td>5.0</td>\n",
       "      <td>7.0</td>\n",
       "      <td>13751</td>\n",
       "      <td>4006357</td>\n",
       "      <td>2008</td>\n",
       "      <td>43086.90</td>\n",
       "      <td>6111</td>\n",
       "      <td>343173</td>\n",
       "      <td>394654</td>\n",
       "      <td>ventura</td>\n",
       "      <td>34.319980</td>\n",
       "      <td>-118.189903</td>\n",
       "    </tr>\n",
       "    <tr>\n",
       "      <th>1519198</th>\n",
       "      <td>17292554</td>\n",
       "      <td>5.0</td>\n",
       "      <td>7.0</td>\n",
       "      <td>7438</td>\n",
       "      <td>4935380</td>\n",
       "      <td>1990</td>\n",
       "      <td>52502.26</td>\n",
       "      <td>6111</td>\n",
       "      <td>3369436</td>\n",
       "      <td>46035</td>\n",
       "      <td>ventura</td>\n",
       "      <td>34.135543</td>\n",
       "      <td>-118.188794</td>\n",
       "    </tr>\n",
       "  </tbody>\n",
       "</table>\n",
       "<p>91 rows × 13 columns</p>\n",
       "</div>"
      ],
      "text/plain": [
       "          parcelid  bedrooms  bathrooms  home_size    value  year       tax  \\\n",
       "1927654   17272810       4.0        5.0       9735  7272000  1999  76767.30   \n",
       "1336007   17292879       5.0        5.5       7836  4242518  2002  45145.90   \n",
       "538503    17051397       7.0        7.5       7592  4168470  1930  45064.24   \n",
       "872277   167646228       7.0        4.0       4906  5351281  1927  57465.48   \n",
       "108488    17292587       5.0        5.5       6540  4062359  2003  43267.26   \n",
       "...            ...       ...        ...        ...      ...   ...       ...   \n",
       "1087319   17068906       4.0        4.5       3419  4131782  2010  44707.26   \n",
       "1701064   17057650       2.0        2.0       1722  3936457  1950  42194.12   \n",
       "959175    17292592       5.0        6.5       8040  5077000  2000  53920.42   \n",
       "2141976   17103922       5.0        7.0      13751  4006357  2008  43086.90   \n",
       "1519198   17292554       5.0        7.0       7438  4935380  1990  52502.26   \n",
       "\n",
       "         fips  land_value  lot_size   county   latitude   longitude  \n",
       "1927654  6111     4939000    881218  ventura  34.160348 -118.189272  \n",
       "1336007  6111     2610781     37462  ventura  34.131518 -118.188785  \n",
       "538503   6111     2943741    512266  ventura  34.460740 -119.192594  \n",
       "872277   6111     4508319   1798514  ventura  34.439763 -119.192397  \n",
       "108488   6111     3061491    101930  ventura  34.130145 -118.188818  \n",
       "...       ...         ...       ...      ...        ...         ...  \n",
       "1087319  6111     3624371      6211  ventura  34.340704 -119.194140  \n",
       "1701064  6111     3268003    219542  ventura  34.458268 -119.191915  \n",
       "959175   6111     3842000     65217  ventura  34.127593 -118.188830  \n",
       "2141976  6111      343173    394654  ventura  34.319980 -118.189903  \n",
       "1519198  6111     3369436     46035  ventura  34.135543 -118.188794  \n",
       "\n",
       "[91 rows x 13 columns]"
      ]
     },
     "execution_count": 75,
     "metadata": {},
     "output_type": "execute_result"
    }
   ],
   "source": [
    "sample"
   ]
  },
  {
   "cell_type": "code",
   "execution_count": null,
   "id": "ee6f3ddd",
   "metadata": {},
   "outputs": [],
   "source": []
  }
 ],
 "metadata": {
  "kernelspec": {
   "display_name": "Python 3 (ipykernel)",
   "language": "python",
   "name": "python3"
  },
  "language_info": {
   "codemirror_mode": {
    "name": "ipython",
    "version": 3
   },
   "file_extension": ".py",
   "mimetype": "text/x-python",
   "name": "python",
   "nbconvert_exporter": "python",
   "pygments_lexer": "ipython3",
   "version": "3.9.7"
  }
 },
 "nbformat": 4,
 "nbformat_minor": 5
}

{
 "cells": [
  {
   "cell_type": "code",
   "execution_count": 1,
   "id": "70c80a9e",
   "metadata": {},
   "outputs": [],
   "source": [
    "import matplotlib.pyplot as plt\n",
    "import numpy as np\n",
    "from scipy import stats\n",
    "import sklearn.preprocessing\n",
    "from sklearn.model_selection import train_test_split\n",
    "import pandas as pd\n",
    "\n",
    "np.random.seed(123)"
   ]
  },
  {
   "cell_type": "code",
   "execution_count": 2,
   "id": "416c0467",
   "metadata": {},
   "outputs": [],
   "source": [
    "import acquire\n",
    "import wrangle"
   ]
  },
  {
   "cell_type": "code",
   "execution_count": 3,
   "id": "380f8a55",
   "metadata": {},
   "outputs": [],
   "source": [
    "df = acquire.get_zillow_data()"
   ]
  },
  {
   "cell_type": "code",
   "execution_count": 4,
   "id": "ef6e69d6",
   "metadata": {},
   "outputs": [
    {
     "name": "stderr",
     "output_type": "stream",
     "text": [
      "/usr/local/anaconda3/lib/python3.9/site-packages/pandas/core/frame.py:5039: SettingWithCopyWarning: \n",
      "A value is trying to be set on a copy of a slice from a DataFrame\n",
      "\n",
      "See the caveats in the documentation: https://pandas.pydata.org/pandas-docs/stable/user_guide/indexing.html#returning-a-view-versus-a-copy\n",
      "  return super().rename(\n"
     ]
    }
   ],
   "source": [
    "df = wrangle.wrangle_zillow(df)"
   ]
  },
  {
   "cell_type": "code",
   "execution_count": 6,
   "id": "f9d8ffa9",
   "metadata": {},
   "outputs": [],
   "source": [
    "df = df.drop(columns=['fips'])"
   ]
  },
  {
   "cell_type": "code",
   "execution_count": 7,
   "id": "ba9621c8",
   "metadata": {},
   "outputs": [
    {
     "data": {
      "text/html": [
       "<div>\n",
       "<style scoped>\n",
       "    .dataframe tbody tr th:only-of-type {\n",
       "        vertical-align: middle;\n",
       "    }\n",
       "\n",
       "    .dataframe tbody tr th {\n",
       "        vertical-align: top;\n",
       "    }\n",
       "\n",
       "    .dataframe thead th {\n",
       "        text-align: right;\n",
       "    }\n",
       "</style>\n",
       "<table border=\"1\" class=\"dataframe\">\n",
       "  <thead>\n",
       "    <tr style=\"text-align: right;\">\n",
       "      <th></th>\n",
       "      <th>bedrooms</th>\n",
       "      <th>bathrooms</th>\n",
       "      <th>square_feet</th>\n",
       "      <th>value</th>\n",
       "      <th>year</th>\n",
       "      <th>tax</th>\n",
       "    </tr>\n",
       "  </thead>\n",
       "  <tbody>\n",
       "    <tr>\n",
       "      <th>4</th>\n",
       "      <td>4.0</td>\n",
       "      <td>2.0</td>\n",
       "      <td>3633.0</td>\n",
       "      <td>296425.0</td>\n",
       "      <td>2005.0</td>\n",
       "      <td>6941.39</td>\n",
       "    </tr>\n",
       "    <tr>\n",
       "      <th>6</th>\n",
       "      <td>3.0</td>\n",
       "      <td>4.0</td>\n",
       "      <td>1620.0</td>\n",
       "      <td>847770.0</td>\n",
       "      <td>2011.0</td>\n",
       "      <td>10244.94</td>\n",
       "    </tr>\n",
       "    <tr>\n",
       "      <th>7</th>\n",
       "      <td>3.0</td>\n",
       "      <td>2.0</td>\n",
       "      <td>2077.0</td>\n",
       "      <td>646760.0</td>\n",
       "      <td>1926.0</td>\n",
       "      <td>7924.68</td>\n",
       "    </tr>\n",
       "    <tr>\n",
       "      <th>11</th>\n",
       "      <td>0.0</td>\n",
       "      <td>0.0</td>\n",
       "      <td>1200.0</td>\n",
       "      <td>5328.0</td>\n",
       "      <td>1972.0</td>\n",
       "      <td>91.60</td>\n",
       "    </tr>\n",
       "    <tr>\n",
       "      <th>14</th>\n",
       "      <td>0.0</td>\n",
       "      <td>0.0</td>\n",
       "      <td>171.0</td>\n",
       "      <td>6920.0</td>\n",
       "      <td>1973.0</td>\n",
       "      <td>255.17</td>\n",
       "    </tr>\n",
       "  </tbody>\n",
       "</table>\n",
       "</div>"
      ],
      "text/plain": [
       "    bedrooms  bathrooms  square_feet     value    year       tax\n",
       "4        4.0        2.0       3633.0  296425.0  2005.0   6941.39\n",
       "6        3.0        4.0       1620.0  847770.0  2011.0  10244.94\n",
       "7        3.0        2.0       2077.0  646760.0  1926.0   7924.68\n",
       "11       0.0        0.0       1200.0    5328.0  1972.0     91.60\n",
       "14       0.0        0.0        171.0    6920.0  1973.0    255.17"
      ]
     },
     "execution_count": 7,
     "metadata": {},
     "output_type": "execute_result"
    }
   ],
   "source": [
    "df.head()"
   ]
  },
  {
   "cell_type": "code",
   "execution_count": 9,
   "id": "8cfe125b",
   "metadata": {},
   "outputs": [],
   "source": [
    "train_and_validate, test = train_test_split(df, random_state=123)\n",
    "train, validate = train_test_split(train_and_validate)"
   ]
  },
  {
   "cell_type": "code",
   "execution_count": 10,
   "id": "ce211cfc",
   "metadata": {},
   "outputs": [],
   "source": [
    "scaler = sklearn.preprocessing.MinMaxScaler()"
   ]
  },
  {
   "cell_type": "code",
   "execution_count": 12,
   "id": "b9e1a371",
   "metadata": {},
   "outputs": [],
   "source": [
    "scaler.fit(train)\n",
    "scaled_train = pd.DataFrame(data=scaler.transform(train))\n",
    "scaled_validate = pd.DataFrame(data=scaler.transform(validate))\n",
    "scaled_test = pd.DataFrame(data=scaler.transform(test))"
   ]
  },
  {
   "cell_type": "code",
   "execution_count": 14,
   "id": "eb01bb69",
   "metadata": {},
   "outputs": [
    {
     "data": {
      "text/plain": [
       "Text(0.5, 1.0, 'Scaled Data')"
      ]
     },
     "execution_count": 14,
     "metadata": {},
     "output_type": "execute_result"
    },
    {
     "data": {
      "image/png": "[encoded data removed]",
      "text/plain": [
       "<Figure size 864x216 with 2 Axes>"
      ]
     },
     "metadata": {
      "needs_background": "light"
     },
     "output_type": "display_data"
    }
   ],
   "source": [
    "plt.figure(figsize=(12, 3))\n",
    "plt.subplot(121)\n",
    "plt.hist(train, bins=15)\n",
    "plt.title('Original Data')\n",
    "plt.subplot(122)\n",
    "plt.hist(scaled_train, bins=15)\n",
    "plt.title('Scaled Data')"
   ]
  },
  {
   "cell_type": "code",
   "execution_count": 28,
   "id": "b4e7a552",
   "metadata": {},
   "outputs": [],
   "source": [
    "scaler = sklearn.preprocessing.StandardScaler()"
   ]
  },
  {
   "cell_type": "code",
   "execution_count": 29,
   "id": "5298a40d",
   "metadata": {},
   "outputs": [],
   "source": [
    "scaler.fit(train)\n",
    "scaled_train = pd.DataFrame(data=scaler.transform(train))\n",
    "scaled_validate = pd.DataFrame(data=scaler.transform(validate))\n",
    "scaled_test = pd.DataFrame(data=scaler.transform(test))"
   ]
  },
  {
   "cell_type": "code",
   "execution_count": 30,
   "id": "80ef89c0",
   "metadata": {},
   "outputs": [
    {
     "data": {
      "text/plain": [
       "Text(0.5, 1.0, 'Scaled Data')"
      ]
     },
     "execution_count": 30,
     "metadata": {},
     "output_type": "execute_result"
    },
    {
     "data": {
      "image/png": "[encoded data removed]",
      "text/plain": [
       "<Figure size 864x216 with 2 Axes>"
      ]
     },
     "metadata": {
      "needs_background": "light"
     },
     "output_type": "display_data"
    }
   ],
   "source": [
    "plt.figure(figsize=(12, 3))\n",
    "plt.subplot(121)\n",
    "plt.hist(train, bins=15)\n",
    "plt.title('Original Data')\n",
    "plt.subplot(122)\n",
    "plt.hist(scaled_train, bins=15)\n",
    "plt.title('Scaled Data')"
   ]
  },
  {
   "cell_type": "code",
   "execution_count": 20,
   "id": "5ecaf411",
   "metadata": {},
   "outputs": [],
   "source": [
    "scaler = sklearn.preprocessing.RobustScaler()\n",
    "scaler.fit(train)\n",
    "scaled_train = pd.DataFrame(data=scaler.transform(train))\n",
    "scaled_validate = pd.DataFrame(data=scaler.transform(validate))\n",
    "scaled_test = pd.DataFrame(data=scaler.transform(test))"
   ]
  },
  {
   "cell_type": "code",
   "execution_count": 21,
   "id": "98a3f041",
   "metadata": {},
   "outputs": [
    {
     "data": {
      "text/plain": [
       "Text(0.5, 1.0, 'Scaled Data')"
      ]
     },
     "execution_count": 21,
     "metadata": {},
     "output_type": "execute_result"
    },
    {
     "data": {
      "image/png": "[encoded data removed]",
      "text/plain": [
       "<Figure size 864x216 with 2 Axes>"
      ]
     },
     "metadata": {
      "needs_background": "light"
     },
     "output_type": "display_data"
    }
   ],
   "source": [
    "plt.figure(figsize=(12, 3))\n",
    "plt.subplot(121)\n",
    "plt.hist(train, bins=15)\n",
    "plt.title('Original Data')\n",
    "plt.subplot(122)\n",
    "plt.hist(scaled_train, bins=15)\n",
    "plt.title('Scaled Data')"
   ]
  },
  {
   "cell_type": "code",
   "execution_count": null,
   "id": "52c91eb7",
   "metadata": {},
   "outputs": [],
   "source": []
  }
 ],
 "metadata": {
  "kernelspec": {
   "display_name": "Python 3 (ipykernel)",
   "language": "python",
   "name": "python3"
  },
  "language_info": {
   "codemirror_mode": {
    "name": "ipython",
    "version": 3
   },
   "file_extension": ".py",
   "mimetype": "text/x-python",
   "name": "python",
   "nbconvert_exporter": "python",
   "pygments_lexer": "ipython3",
   "version": "3.9.7"
  }
 },
 "nbformat": 4,
 "nbformat_minor": 5
}
